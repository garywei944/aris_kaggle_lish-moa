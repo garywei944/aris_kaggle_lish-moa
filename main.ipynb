{
 "cells": [
  {
   "cell_type": "code",
   "execution_count": 10,
   "metadata": {
    "collapsed": true
   },
   "outputs": [],
   "source": [
    "from IPython.display import display\n",
    "\n",
    "import pandas as pd\n",
    "import numpy as np"
   ]
  },
  {
   "cell_type": "code",
   "execution_count": 11,
   "outputs": [],
   "source": [
    "# Configuration\n",
    "\n",
    "import logging\n",
    "import sys\n",
    "from multiprocessing import cpu_count\n",
    "\n",
    "# Configure logging level\n",
    "logging.basicConfig(stream=sys.stderr, level=logging.DEBUG)\n",
    "\n",
    "# Number of cpu cores used\n",
    "n_jobs = cpu_count() - 4"
   ],
   "metadata": {
    "collapsed": false,
    "pycharm": {
     "name": "#%%\n"
    }
   }
  },
  {
   "cell_type": "code",
   "execution_count": 12,
   "outputs": [
    {
     "data": {
      "text/plain": "             cp_type  cp_time cp_dose     g-0     g-1     g-2     g-3     g-4  \\\nsig_id                                                                          \nid_000644bb2  trt_cp       24      D1  1.0620  0.5577 -0.2479 -0.6208 -0.1944   \nid_000779bfc  trt_cp       72      D1  0.0743  0.4087  0.2991  0.0604  1.0190   \nid_000a6266a  trt_cp       48      D1  0.6280  0.5817  1.5540 -0.0764 -0.0323   \nid_0015fd391  trt_cp       48      D1 -0.5138 -0.2491 -0.2656  0.5288  4.0620   \nid_001626bd3  trt_cp       72      D2 -0.3254 -0.4009  0.9700  0.6919  1.4180   \n\n                 g-5     g-6  ...    c-90    c-91    c-92    c-93    c-94  \\\nsig_id                        ...                                           \nid_000644bb2 -1.0120 -1.0220  ...  0.2862  0.2584  0.8076  0.5523 -0.1912   \nid_000779bfc  0.5207  0.2341  ... -0.4265  0.7543  0.4708  0.0230  0.2957   \nid_000a6266a  1.2390  0.1715  ... -0.7250 -0.6297  0.6103  0.0223 -1.3240   \nid_0015fd391 -0.8095 -1.9590  ... -2.0990 -0.6441 -5.6300 -1.3780 -0.8632   \nid_001626bd3 -0.8244 -0.2800  ...  0.0042  0.0048  0.6670  1.0690  0.5523   \n\n                c-95    c-96    c-97    c-98    c-99  \nsig_id                                                \nid_000644bb2  0.6584 -0.3981  0.2139  0.3801  0.4176  \nid_000779bfc  0.4899  0.1522  0.1241  0.6077  0.7371  \nid_000a6266a -0.3174 -0.6417 -0.2187 -1.4080  0.6931  \nid_0015fd391 -1.2880 -1.6210 -0.8784 -0.3876 -0.8154  \nid_001626bd3 -0.3031  0.1094  0.2885 -0.3786  0.7125  \n\n[5 rows x 875 columns]",
      "text/html": "<div>\n<style scoped>\n    .dataframe tbody tr th:only-of-type {\n        vertical-align: middle;\n    }\n\n    .dataframe tbody tr th {\n        vertical-align: top;\n    }\n\n    .dataframe thead th {\n        text-align: right;\n    }\n</style>\n<table border=\"1\" class=\"dataframe\">\n  <thead>\n    <tr style=\"text-align: right;\">\n      <th></th>\n      <th>cp_type</th>\n      <th>cp_time</th>\n      <th>cp_dose</th>\n      <th>g-0</th>\n      <th>g-1</th>\n      <th>g-2</th>\n      <th>g-3</th>\n      <th>g-4</th>\n      <th>g-5</th>\n      <th>g-6</th>\n      <th>...</th>\n      <th>c-90</th>\n      <th>c-91</th>\n      <th>c-92</th>\n      <th>c-93</th>\n      <th>c-94</th>\n      <th>c-95</th>\n      <th>c-96</th>\n      <th>c-97</th>\n      <th>c-98</th>\n      <th>c-99</th>\n    </tr>\n    <tr>\n      <th>sig_id</th>\n      <th></th>\n      <th></th>\n      <th></th>\n      <th></th>\n      <th></th>\n      <th></th>\n      <th></th>\n      <th></th>\n      <th></th>\n      <th></th>\n      <th></th>\n      <th></th>\n      <th></th>\n      <th></th>\n      <th></th>\n      <th></th>\n      <th></th>\n      <th></th>\n      <th></th>\n      <th></th>\n      <th></th>\n    </tr>\n  </thead>\n  <tbody>\n    <tr>\n      <th>id_000644bb2</th>\n      <td>trt_cp</td>\n      <td>24</td>\n      <td>D1</td>\n      <td>1.0620</td>\n      <td>0.5577</td>\n      <td>-0.2479</td>\n      <td>-0.6208</td>\n      <td>-0.1944</td>\n      <td>-1.0120</td>\n      <td>-1.0220</td>\n      <td>...</td>\n      <td>0.2862</td>\n      <td>0.2584</td>\n      <td>0.8076</td>\n      <td>0.5523</td>\n      <td>-0.1912</td>\n      <td>0.6584</td>\n      <td>-0.3981</td>\n      <td>0.2139</td>\n      <td>0.3801</td>\n      <td>0.4176</td>\n    </tr>\n    <tr>\n      <th>id_000779bfc</th>\n      <td>trt_cp</td>\n      <td>72</td>\n      <td>D1</td>\n      <td>0.0743</td>\n      <td>0.4087</td>\n      <td>0.2991</td>\n      <td>0.0604</td>\n      <td>1.0190</td>\n      <td>0.5207</td>\n      <td>0.2341</td>\n      <td>...</td>\n      <td>-0.4265</td>\n      <td>0.7543</td>\n      <td>0.4708</td>\n      <td>0.0230</td>\n      <td>0.2957</td>\n      <td>0.4899</td>\n      <td>0.1522</td>\n      <td>0.1241</td>\n      <td>0.6077</td>\n      <td>0.7371</td>\n    </tr>\n    <tr>\n      <th>id_000a6266a</th>\n      <td>trt_cp</td>\n      <td>48</td>\n      <td>D1</td>\n      <td>0.6280</td>\n      <td>0.5817</td>\n      <td>1.5540</td>\n      <td>-0.0764</td>\n      <td>-0.0323</td>\n      <td>1.2390</td>\n      <td>0.1715</td>\n      <td>...</td>\n      <td>-0.7250</td>\n      <td>-0.6297</td>\n      <td>0.6103</td>\n      <td>0.0223</td>\n      <td>-1.3240</td>\n      <td>-0.3174</td>\n      <td>-0.6417</td>\n      <td>-0.2187</td>\n      <td>-1.4080</td>\n      <td>0.6931</td>\n    </tr>\n    <tr>\n      <th>id_0015fd391</th>\n      <td>trt_cp</td>\n      <td>48</td>\n      <td>D1</td>\n      <td>-0.5138</td>\n      <td>-0.2491</td>\n      <td>-0.2656</td>\n      <td>0.5288</td>\n      <td>4.0620</td>\n      <td>-0.8095</td>\n      <td>-1.9590</td>\n      <td>...</td>\n      <td>-2.0990</td>\n      <td>-0.6441</td>\n      <td>-5.6300</td>\n      <td>-1.3780</td>\n      <td>-0.8632</td>\n      <td>-1.2880</td>\n      <td>-1.6210</td>\n      <td>-0.8784</td>\n      <td>-0.3876</td>\n      <td>-0.8154</td>\n    </tr>\n    <tr>\n      <th>id_001626bd3</th>\n      <td>trt_cp</td>\n      <td>72</td>\n      <td>D2</td>\n      <td>-0.3254</td>\n      <td>-0.4009</td>\n      <td>0.9700</td>\n      <td>0.6919</td>\n      <td>1.4180</td>\n      <td>-0.8244</td>\n      <td>-0.2800</td>\n      <td>...</td>\n      <td>0.0042</td>\n      <td>0.0048</td>\n      <td>0.6670</td>\n      <td>1.0690</td>\n      <td>0.5523</td>\n      <td>-0.3031</td>\n      <td>0.1094</td>\n      <td>0.2885</td>\n      <td>-0.3786</td>\n      <td>0.7125</td>\n    </tr>\n  </tbody>\n</table>\n<p>5 rows × 875 columns</p>\n</div>"
     },
     "metadata": {},
     "output_type": "display_data"
    },
    {
     "data": {
      "text/plain": "                  cp_type  cp_time cp_dose     g-0     g-1     g-2     g-3  \\\nsig_id                                                                       \nid_0004d9e33       trt_cp       24      D1 -0.5458  0.1306 -0.5135  0.4408   \nid_001897cda       trt_cp       72      D1 -0.1829  0.2320  1.2080 -0.4522   \nid_002429b5b  ctl_vehicle       24      D1  0.1852 -0.1404 -0.3911  0.1310   \nid_00276f245       trt_cp       24      D2  0.4828  0.1955  0.3825  0.4244   \nid_0027f1083       trt_cp       48      D1 -0.3979 -1.2680  1.9130  0.2057   \n\n                 g-4     g-5     g-6  ...    c-90    c-91    c-92    c-93  \\\nsig_id                                ...                                   \nid_0004d9e33  1.5500 -0.1644 -0.2140  ...  0.0981  0.7978 -0.1430 -0.2067   \nid_001897cda -0.3652 -0.3319 -1.8820  ... -0.1190 -0.1852 -1.0310 -1.3670   \nid_002429b5b -1.4380  0.2455 -0.3390  ... -0.2261  0.3370 -1.3840  0.8604   \nid_00276f245 -0.5855 -1.2020  0.5998  ...  0.1260  0.1570 -0.1784 -1.1200   \nid_0027f1083 -0.5864 -0.0166  0.5128  ...  0.4965  0.7578 -0.1580  1.0510   \n\n                c-94    c-95    c-96    c-97    c-98    c-99  \nsig_id                                                        \nid_0004d9e33 -0.2303 -0.1193  0.0210 -0.0502  0.1510 -0.7750  \nid_001897cda -0.3690 -0.5382  0.0359 -0.4764 -1.3810 -0.7300  \nid_002429b5b -1.9530 -1.0140  0.8662  1.0160  0.4924 -0.1942  \nid_00276f245 -0.4325 -0.9005  0.8131 -0.1305  0.5645 -0.5809  \nid_0027f1083  0.5742  1.0900 -0.2962 -0.5313  0.9931  1.8380  \n\n[5 rows x 875 columns]",
      "text/html": "<div>\n<style scoped>\n    .dataframe tbody tr th:only-of-type {\n        vertical-align: middle;\n    }\n\n    .dataframe tbody tr th {\n        vertical-align: top;\n    }\n\n    .dataframe thead th {\n        text-align: right;\n    }\n</style>\n<table border=\"1\" class=\"dataframe\">\n  <thead>\n    <tr style=\"text-align: right;\">\n      <th></th>\n      <th>cp_type</th>\n      <th>cp_time</th>\n      <th>cp_dose</th>\n      <th>g-0</th>\n      <th>g-1</th>\n      <th>g-2</th>\n      <th>g-3</th>\n      <th>g-4</th>\n      <th>g-5</th>\n      <th>g-6</th>\n      <th>...</th>\n      <th>c-90</th>\n      <th>c-91</th>\n      <th>c-92</th>\n      <th>c-93</th>\n      <th>c-94</th>\n      <th>c-95</th>\n      <th>c-96</th>\n      <th>c-97</th>\n      <th>c-98</th>\n      <th>c-99</th>\n    </tr>\n    <tr>\n      <th>sig_id</th>\n      <th></th>\n      <th></th>\n      <th></th>\n      <th></th>\n      <th></th>\n      <th></th>\n      <th></th>\n      <th></th>\n      <th></th>\n      <th></th>\n      <th></th>\n      <th></th>\n      <th></th>\n      <th></th>\n      <th></th>\n      <th></th>\n      <th></th>\n      <th></th>\n      <th></th>\n      <th></th>\n      <th></th>\n    </tr>\n  </thead>\n  <tbody>\n    <tr>\n      <th>id_0004d9e33</th>\n      <td>trt_cp</td>\n      <td>24</td>\n      <td>D1</td>\n      <td>-0.5458</td>\n      <td>0.1306</td>\n      <td>-0.5135</td>\n      <td>0.4408</td>\n      <td>1.5500</td>\n      <td>-0.1644</td>\n      <td>-0.2140</td>\n      <td>...</td>\n      <td>0.0981</td>\n      <td>0.7978</td>\n      <td>-0.1430</td>\n      <td>-0.2067</td>\n      <td>-0.2303</td>\n      <td>-0.1193</td>\n      <td>0.0210</td>\n      <td>-0.0502</td>\n      <td>0.1510</td>\n      <td>-0.7750</td>\n    </tr>\n    <tr>\n      <th>id_001897cda</th>\n      <td>trt_cp</td>\n      <td>72</td>\n      <td>D1</td>\n      <td>-0.1829</td>\n      <td>0.2320</td>\n      <td>1.2080</td>\n      <td>-0.4522</td>\n      <td>-0.3652</td>\n      <td>-0.3319</td>\n      <td>-1.8820</td>\n      <td>...</td>\n      <td>-0.1190</td>\n      <td>-0.1852</td>\n      <td>-1.0310</td>\n      <td>-1.3670</td>\n      <td>-0.3690</td>\n      <td>-0.5382</td>\n      <td>0.0359</td>\n      <td>-0.4764</td>\n      <td>-1.3810</td>\n      <td>-0.7300</td>\n    </tr>\n    <tr>\n      <th>id_002429b5b</th>\n      <td>ctl_vehicle</td>\n      <td>24</td>\n      <td>D1</td>\n      <td>0.1852</td>\n      <td>-0.1404</td>\n      <td>-0.3911</td>\n      <td>0.1310</td>\n      <td>-1.4380</td>\n      <td>0.2455</td>\n      <td>-0.3390</td>\n      <td>...</td>\n      <td>-0.2261</td>\n      <td>0.3370</td>\n      <td>-1.3840</td>\n      <td>0.8604</td>\n      <td>-1.9530</td>\n      <td>-1.0140</td>\n      <td>0.8662</td>\n      <td>1.0160</td>\n      <td>0.4924</td>\n      <td>-0.1942</td>\n    </tr>\n    <tr>\n      <th>id_00276f245</th>\n      <td>trt_cp</td>\n      <td>24</td>\n      <td>D2</td>\n      <td>0.4828</td>\n      <td>0.1955</td>\n      <td>0.3825</td>\n      <td>0.4244</td>\n      <td>-0.5855</td>\n      <td>-1.2020</td>\n      <td>0.5998</td>\n      <td>...</td>\n      <td>0.1260</td>\n      <td>0.1570</td>\n      <td>-0.1784</td>\n      <td>-1.1200</td>\n      <td>-0.4325</td>\n      <td>-0.9005</td>\n      <td>0.8131</td>\n      <td>-0.1305</td>\n      <td>0.5645</td>\n      <td>-0.5809</td>\n    </tr>\n    <tr>\n      <th>id_0027f1083</th>\n      <td>trt_cp</td>\n      <td>48</td>\n      <td>D1</td>\n      <td>-0.3979</td>\n      <td>-1.2680</td>\n      <td>1.9130</td>\n      <td>0.2057</td>\n      <td>-0.5864</td>\n      <td>-0.0166</td>\n      <td>0.5128</td>\n      <td>...</td>\n      <td>0.4965</td>\n      <td>0.7578</td>\n      <td>-0.1580</td>\n      <td>1.0510</td>\n      <td>0.5742</td>\n      <td>1.0900</td>\n      <td>-0.2962</td>\n      <td>-0.5313</td>\n      <td>0.9931</td>\n      <td>1.8380</td>\n    </tr>\n  </tbody>\n</table>\n<p>5 rows × 875 columns</p>\n</div>"
     },
     "metadata": {},
     "output_type": "display_data"
    },
    {
     "data": {
      "text/plain": "              5-alpha_reductase_inhibitor  11-beta-hsd1_inhibitor  \\\nsig_id                                                              \nid_000644bb2                            0                       0   \nid_000779bfc                            0                       0   \nid_000a6266a                            0                       0   \nid_0015fd391                            0                       0   \nid_001626bd3                            0                       0   \n\n              acat_inhibitor  acetylcholine_receptor_agonist  \\\nsig_id                                                         \nid_000644bb2               0                               0   \nid_000779bfc               0                               0   \nid_000a6266a               0                               0   \nid_0015fd391               0                               0   \nid_001626bd3               0                               0   \n\n              acetylcholine_receptor_antagonist  \\\nsig_id                                            \nid_000644bb2                                  0   \nid_000779bfc                                  0   \nid_000a6266a                                  0   \nid_0015fd391                                  0   \nid_001626bd3                                  0   \n\n              acetylcholinesterase_inhibitor  adenosine_receptor_agonist  \\\nsig_id                                                                     \nid_000644bb2                               0                           0   \nid_000779bfc                               0                           0   \nid_000a6266a                               0                           0   \nid_0015fd391                               0                           0   \nid_001626bd3                               0                           0   \n\n              adenosine_receptor_antagonist  adenylyl_cyclase_activator  \\\nsig_id                                                                    \nid_000644bb2                              0                           0   \nid_000779bfc                              0                           0   \nid_000a6266a                              0                           0   \nid_0015fd391                              0                           0   \nid_001626bd3                              0                           0   \n\n              adrenergic_receptor_agonist  ...  \\\nsig_id                                     ...   \nid_000644bb2                            0  ...   \nid_000779bfc                            0  ...   \nid_000a6266a                            0  ...   \nid_0015fd391                            0  ...   \nid_001626bd3                            0  ...   \n\n              tropomyosin_receptor_kinase_inhibitor  trpv_agonist  \\\nsig_id                                                              \nid_000644bb2                                      0             0   \nid_000779bfc                                      0             0   \nid_000a6266a                                      0             0   \nid_0015fd391                                      0             0   \nid_001626bd3                                      0             0   \n\n              trpv_antagonist  tubulin_inhibitor  tyrosine_kinase_inhibitor  \\\nsig_id                                                                        \nid_000644bb2                0                  0                          0   \nid_000779bfc                0                  0                          0   \nid_000a6266a                0                  0                          0   \nid_0015fd391                0                  0                          0   \nid_001626bd3                0                  0                          0   \n\n              ubiquitin_specific_protease_inhibitor  vegfr_inhibitor  \\\nsig_id                                                                 \nid_000644bb2                                      0                0   \nid_000779bfc                                      0                0   \nid_000a6266a                                      0                0   \nid_0015fd391                                      0                0   \nid_001626bd3                                      0                0   \n\n              vitamin_b  vitamin_d_receptor_agonist  wnt_inhibitor  \nsig_id                                                              \nid_000644bb2          0                           0              0  \nid_000779bfc          0                           0              0  \nid_000a6266a          0                           0              0  \nid_0015fd391          0                           0              0  \nid_001626bd3          0                           0              0  \n\n[5 rows x 206 columns]",
      "text/html": "<div>\n<style scoped>\n    .dataframe tbody tr th:only-of-type {\n        vertical-align: middle;\n    }\n\n    .dataframe tbody tr th {\n        vertical-align: top;\n    }\n\n    .dataframe thead th {\n        text-align: right;\n    }\n</style>\n<table border=\"1\" class=\"dataframe\">\n  <thead>\n    <tr style=\"text-align: right;\">\n      <th></th>\n      <th>5-alpha_reductase_inhibitor</th>\n      <th>11-beta-hsd1_inhibitor</th>\n      <th>acat_inhibitor</th>\n      <th>acetylcholine_receptor_agonist</th>\n      <th>acetylcholine_receptor_antagonist</th>\n      <th>acetylcholinesterase_inhibitor</th>\n      <th>adenosine_receptor_agonist</th>\n      <th>adenosine_receptor_antagonist</th>\n      <th>adenylyl_cyclase_activator</th>\n      <th>adrenergic_receptor_agonist</th>\n      <th>...</th>\n      <th>tropomyosin_receptor_kinase_inhibitor</th>\n      <th>trpv_agonist</th>\n      <th>trpv_antagonist</th>\n      <th>tubulin_inhibitor</th>\n      <th>tyrosine_kinase_inhibitor</th>\n      <th>ubiquitin_specific_protease_inhibitor</th>\n      <th>vegfr_inhibitor</th>\n      <th>vitamin_b</th>\n      <th>vitamin_d_receptor_agonist</th>\n      <th>wnt_inhibitor</th>\n    </tr>\n    <tr>\n      <th>sig_id</th>\n      <th></th>\n      <th></th>\n      <th></th>\n      <th></th>\n      <th></th>\n      <th></th>\n      <th></th>\n      <th></th>\n      <th></th>\n      <th></th>\n      <th></th>\n      <th></th>\n      <th></th>\n      <th></th>\n      <th></th>\n      <th></th>\n      <th></th>\n      <th></th>\n      <th></th>\n      <th></th>\n      <th></th>\n    </tr>\n  </thead>\n  <tbody>\n    <tr>\n      <th>id_000644bb2</th>\n      <td>0</td>\n      <td>0</td>\n      <td>0</td>\n      <td>0</td>\n      <td>0</td>\n      <td>0</td>\n      <td>0</td>\n      <td>0</td>\n      <td>0</td>\n      <td>0</td>\n      <td>...</td>\n      <td>0</td>\n      <td>0</td>\n      <td>0</td>\n      <td>0</td>\n      <td>0</td>\n      <td>0</td>\n      <td>0</td>\n      <td>0</td>\n      <td>0</td>\n      <td>0</td>\n    </tr>\n    <tr>\n      <th>id_000779bfc</th>\n      <td>0</td>\n      <td>0</td>\n      <td>0</td>\n      <td>0</td>\n      <td>0</td>\n      <td>0</td>\n      <td>0</td>\n      <td>0</td>\n      <td>0</td>\n      <td>0</td>\n      <td>...</td>\n      <td>0</td>\n      <td>0</td>\n      <td>0</td>\n      <td>0</td>\n      <td>0</td>\n      <td>0</td>\n      <td>0</td>\n      <td>0</td>\n      <td>0</td>\n      <td>0</td>\n    </tr>\n    <tr>\n      <th>id_000a6266a</th>\n      <td>0</td>\n      <td>0</td>\n      <td>0</td>\n      <td>0</td>\n      <td>0</td>\n      <td>0</td>\n      <td>0</td>\n      <td>0</td>\n      <td>0</td>\n      <td>0</td>\n      <td>...</td>\n      <td>0</td>\n      <td>0</td>\n      <td>0</td>\n      <td>0</td>\n      <td>0</td>\n      <td>0</td>\n      <td>0</td>\n      <td>0</td>\n      <td>0</td>\n      <td>0</td>\n    </tr>\n    <tr>\n      <th>id_0015fd391</th>\n      <td>0</td>\n      <td>0</td>\n      <td>0</td>\n      <td>0</td>\n      <td>0</td>\n      <td>0</td>\n      <td>0</td>\n      <td>0</td>\n      <td>0</td>\n      <td>0</td>\n      <td>...</td>\n      <td>0</td>\n      <td>0</td>\n      <td>0</td>\n      <td>0</td>\n      <td>0</td>\n      <td>0</td>\n      <td>0</td>\n      <td>0</td>\n      <td>0</td>\n      <td>0</td>\n    </tr>\n    <tr>\n      <th>id_001626bd3</th>\n      <td>0</td>\n      <td>0</td>\n      <td>0</td>\n      <td>0</td>\n      <td>0</td>\n      <td>0</td>\n      <td>0</td>\n      <td>0</td>\n      <td>0</td>\n      <td>0</td>\n      <td>...</td>\n      <td>0</td>\n      <td>0</td>\n      <td>0</td>\n      <td>0</td>\n      <td>0</td>\n      <td>0</td>\n      <td>0</td>\n      <td>0</td>\n      <td>0</td>\n      <td>0</td>\n    </tr>\n  </tbody>\n</table>\n<p>5 rows × 206 columns</p>\n</div>"
     },
     "metadata": {},
     "output_type": "display_data"
    },
    {
     "data": {
      "text/plain": "              5-alpha_reductase_inhibitor  11-beta-hsd1_inhibitor  \\\nsig_id                                                              \nid_0004d9e33                          0.5                     0.5   \nid_001897cda                          0.5                     0.5   \nid_002429b5b                          0.5                     0.5   \nid_00276f245                          0.5                     0.5   \nid_0027f1083                          0.5                     0.5   \n\n              acat_inhibitor  acetylcholine_receptor_agonist  \\\nsig_id                                                         \nid_0004d9e33             0.5                             0.5   \nid_001897cda             0.5                             0.5   \nid_002429b5b             0.5                             0.5   \nid_00276f245             0.5                             0.5   \nid_0027f1083             0.5                             0.5   \n\n              acetylcholine_receptor_antagonist  \\\nsig_id                                            \nid_0004d9e33                                0.5   \nid_001897cda                                0.5   \nid_002429b5b                                0.5   \nid_00276f245                                0.5   \nid_0027f1083                                0.5   \n\n              acetylcholinesterase_inhibitor  adenosine_receptor_agonist  \\\nsig_id                                                                     \nid_0004d9e33                             0.5                         0.5   \nid_001897cda                             0.5                         0.5   \nid_002429b5b                             0.5                         0.5   \nid_00276f245                             0.5                         0.5   \nid_0027f1083                             0.5                         0.5   \n\n              adenosine_receptor_antagonist  adenylyl_cyclase_activator  \\\nsig_id                                                                    \nid_0004d9e33                            0.5                         0.5   \nid_001897cda                            0.5                         0.5   \nid_002429b5b                            0.5                         0.5   \nid_00276f245                            0.5                         0.5   \nid_0027f1083                            0.5                         0.5   \n\n              adrenergic_receptor_agonist  ...  \\\nsig_id                                     ...   \nid_0004d9e33                          0.5  ...   \nid_001897cda                          0.5  ...   \nid_002429b5b                          0.5  ...   \nid_00276f245                          0.5  ...   \nid_0027f1083                          0.5  ...   \n\n              tropomyosin_receptor_kinase_inhibitor  trpv_agonist  \\\nsig_id                                                              \nid_0004d9e33                                    0.5           0.5   \nid_001897cda                                    0.5           0.5   \nid_002429b5b                                    0.5           0.5   \nid_00276f245                                    0.5           0.5   \nid_0027f1083                                    0.5           0.5   \n\n              trpv_antagonist  tubulin_inhibitor  tyrosine_kinase_inhibitor  \\\nsig_id                                                                        \nid_0004d9e33              0.5                0.5                        0.5   \nid_001897cda              0.5                0.5                        0.5   \nid_002429b5b              0.5                0.5                        0.5   \nid_00276f245              0.5                0.5                        0.5   \nid_0027f1083              0.5                0.5                        0.5   \n\n              ubiquitin_specific_protease_inhibitor  vegfr_inhibitor  \\\nsig_id                                                                 \nid_0004d9e33                                    0.5              0.5   \nid_001897cda                                    0.5              0.5   \nid_002429b5b                                    0.5              0.5   \nid_00276f245                                    0.5              0.5   \nid_0027f1083                                    0.5              0.5   \n\n              vitamin_b  vitamin_d_receptor_agonist  wnt_inhibitor  \nsig_id                                                              \nid_0004d9e33        0.5                         0.5            0.5  \nid_001897cda        0.5                         0.5            0.5  \nid_002429b5b        0.5                         0.5            0.5  \nid_00276f245        0.5                         0.5            0.5  \nid_0027f1083        0.5                         0.5            0.5  \n\n[5 rows x 206 columns]",
      "text/html": "<div>\n<style scoped>\n    .dataframe tbody tr th:only-of-type {\n        vertical-align: middle;\n    }\n\n    .dataframe tbody tr th {\n        vertical-align: top;\n    }\n\n    .dataframe thead th {\n        text-align: right;\n    }\n</style>\n<table border=\"1\" class=\"dataframe\">\n  <thead>\n    <tr style=\"text-align: right;\">\n      <th></th>\n      <th>5-alpha_reductase_inhibitor</th>\n      <th>11-beta-hsd1_inhibitor</th>\n      <th>acat_inhibitor</th>\n      <th>acetylcholine_receptor_agonist</th>\n      <th>acetylcholine_receptor_antagonist</th>\n      <th>acetylcholinesterase_inhibitor</th>\n      <th>adenosine_receptor_agonist</th>\n      <th>adenosine_receptor_antagonist</th>\n      <th>adenylyl_cyclase_activator</th>\n      <th>adrenergic_receptor_agonist</th>\n      <th>...</th>\n      <th>tropomyosin_receptor_kinase_inhibitor</th>\n      <th>trpv_agonist</th>\n      <th>trpv_antagonist</th>\n      <th>tubulin_inhibitor</th>\n      <th>tyrosine_kinase_inhibitor</th>\n      <th>ubiquitin_specific_protease_inhibitor</th>\n      <th>vegfr_inhibitor</th>\n      <th>vitamin_b</th>\n      <th>vitamin_d_receptor_agonist</th>\n      <th>wnt_inhibitor</th>\n    </tr>\n    <tr>\n      <th>sig_id</th>\n      <th></th>\n      <th></th>\n      <th></th>\n      <th></th>\n      <th></th>\n      <th></th>\n      <th></th>\n      <th></th>\n      <th></th>\n      <th></th>\n      <th></th>\n      <th></th>\n      <th></th>\n      <th></th>\n      <th></th>\n      <th></th>\n      <th></th>\n      <th></th>\n      <th></th>\n      <th></th>\n      <th></th>\n    </tr>\n  </thead>\n  <tbody>\n    <tr>\n      <th>id_0004d9e33</th>\n      <td>0.5</td>\n      <td>0.5</td>\n      <td>0.5</td>\n      <td>0.5</td>\n      <td>0.5</td>\n      <td>0.5</td>\n      <td>0.5</td>\n      <td>0.5</td>\n      <td>0.5</td>\n      <td>0.5</td>\n      <td>...</td>\n      <td>0.5</td>\n      <td>0.5</td>\n      <td>0.5</td>\n      <td>0.5</td>\n      <td>0.5</td>\n      <td>0.5</td>\n      <td>0.5</td>\n      <td>0.5</td>\n      <td>0.5</td>\n      <td>0.5</td>\n    </tr>\n    <tr>\n      <th>id_001897cda</th>\n      <td>0.5</td>\n      <td>0.5</td>\n      <td>0.5</td>\n      <td>0.5</td>\n      <td>0.5</td>\n      <td>0.5</td>\n      <td>0.5</td>\n      <td>0.5</td>\n      <td>0.5</td>\n      <td>0.5</td>\n      <td>...</td>\n      <td>0.5</td>\n      <td>0.5</td>\n      <td>0.5</td>\n      <td>0.5</td>\n      <td>0.5</td>\n      <td>0.5</td>\n      <td>0.5</td>\n      <td>0.5</td>\n      <td>0.5</td>\n      <td>0.5</td>\n    </tr>\n    <tr>\n      <th>id_002429b5b</th>\n      <td>0.5</td>\n      <td>0.5</td>\n      <td>0.5</td>\n      <td>0.5</td>\n      <td>0.5</td>\n      <td>0.5</td>\n      <td>0.5</td>\n      <td>0.5</td>\n      <td>0.5</td>\n      <td>0.5</td>\n      <td>...</td>\n      <td>0.5</td>\n      <td>0.5</td>\n      <td>0.5</td>\n      <td>0.5</td>\n      <td>0.5</td>\n      <td>0.5</td>\n      <td>0.5</td>\n      <td>0.5</td>\n      <td>0.5</td>\n      <td>0.5</td>\n    </tr>\n    <tr>\n      <th>id_00276f245</th>\n      <td>0.5</td>\n      <td>0.5</td>\n      <td>0.5</td>\n      <td>0.5</td>\n      <td>0.5</td>\n      <td>0.5</td>\n      <td>0.5</td>\n      <td>0.5</td>\n      <td>0.5</td>\n      <td>0.5</td>\n      <td>...</td>\n      <td>0.5</td>\n      <td>0.5</td>\n      <td>0.5</td>\n      <td>0.5</td>\n      <td>0.5</td>\n      <td>0.5</td>\n      <td>0.5</td>\n      <td>0.5</td>\n      <td>0.5</td>\n      <td>0.5</td>\n    </tr>\n    <tr>\n      <th>id_0027f1083</th>\n      <td>0.5</td>\n      <td>0.5</td>\n      <td>0.5</td>\n      <td>0.5</td>\n      <td>0.5</td>\n      <td>0.5</td>\n      <td>0.5</td>\n      <td>0.5</td>\n      <td>0.5</td>\n      <td>0.5</td>\n      <td>...</td>\n      <td>0.5</td>\n      <td>0.5</td>\n      <td>0.5</td>\n      <td>0.5</td>\n      <td>0.5</td>\n      <td>0.5</td>\n      <td>0.5</td>\n      <td>0.5</td>\n      <td>0.5</td>\n      <td>0.5</td>\n    </tr>\n  </tbody>\n</table>\n<p>5 rows × 206 columns</p>\n</div>"
     },
     "metadata": {},
     "output_type": "display_data"
    }
   ],
   "source": [
    "# Load Data\n",
    "\n",
    "x_train = pd.read_csv('data/train_features.csv', index_col=0)\n",
    "x_test = pd.read_csv('data/test_features.csv', index_col=0)\n",
    "y_train = pd.read_csv('data/train_targets_scored.csv', index_col=0)\n",
    "submission = pd.read_csv('data/sample_submission.csv', index_col=0)\n",
    "\n",
    "display(x_train.head())\n",
    "display(x_test.head())\n",
    "display(y_train.head())\n",
    "display(submission.head())"
   ],
   "metadata": {
    "collapsed": false,
    "pycharm": {
     "name": "#%%\n"
    }
   }
  },
  {
   "cell_type": "code",
   "execution_count": 13,
   "outputs": [
    {
     "data": {
      "text/plain": "              cp_type  cp_time  cp_dose     g-0     g-1     g-2     g-3  \\\nsig_id                                                                    \nid_000644bb2        0        1        0  1.0620  0.5577 -0.2479 -0.6208   \nid_000779bfc        0        3        0  0.0743  0.4087  0.2991  0.0604   \nid_000a6266a        0        2        0  0.6280  0.5817  1.5540 -0.0764   \nid_0015fd391        0        2        0 -0.5138 -0.2491 -0.2656  0.5288   \nid_001626bd3        0        3        1 -0.3254 -0.4009  0.9700  0.6919   \n\n                 g-4     g-5     g-6  ...    c-90    c-91    c-92    c-93  \\\nsig_id                                ...                                   \nid_000644bb2 -0.1944 -1.0120 -1.0220  ...  0.2862  0.2584  0.8076  0.5523   \nid_000779bfc  1.0190  0.5207  0.2341  ... -0.4265  0.7543  0.4708  0.0230   \nid_000a6266a -0.0323  1.2390  0.1715  ... -0.7250 -0.6297  0.6103  0.0223   \nid_0015fd391  4.0620 -0.8095 -1.9590  ... -2.0990 -0.6441 -5.6300 -1.3780   \nid_001626bd3  1.4180 -0.8244 -0.2800  ...  0.0042  0.0048  0.6670  1.0690   \n\n                c-94    c-95    c-96    c-97    c-98    c-99  \nsig_id                                                        \nid_000644bb2 -0.1912  0.6584 -0.3981  0.2139  0.3801  0.4176  \nid_000779bfc  0.2957  0.4899  0.1522  0.1241  0.6077  0.7371  \nid_000a6266a -1.3240 -0.3174 -0.6417 -0.2187 -1.4080  0.6931  \nid_0015fd391 -0.8632 -1.2880 -1.6210 -0.8784 -0.3876 -0.8154  \nid_001626bd3  0.5523 -0.3031  0.1094  0.2885 -0.3786  0.7125  \n\n[5 rows x 875 columns]",
      "text/html": "<div>\n<style scoped>\n    .dataframe tbody tr th:only-of-type {\n        vertical-align: middle;\n    }\n\n    .dataframe tbody tr th {\n        vertical-align: top;\n    }\n\n    .dataframe thead th {\n        text-align: right;\n    }\n</style>\n<table border=\"1\" class=\"dataframe\">\n  <thead>\n    <tr style=\"text-align: right;\">\n      <th></th>\n      <th>cp_type</th>\n      <th>cp_time</th>\n      <th>cp_dose</th>\n      <th>g-0</th>\n      <th>g-1</th>\n      <th>g-2</th>\n      <th>g-3</th>\n      <th>g-4</th>\n      <th>g-5</th>\n      <th>g-6</th>\n      <th>...</th>\n      <th>c-90</th>\n      <th>c-91</th>\n      <th>c-92</th>\n      <th>c-93</th>\n      <th>c-94</th>\n      <th>c-95</th>\n      <th>c-96</th>\n      <th>c-97</th>\n      <th>c-98</th>\n      <th>c-99</th>\n    </tr>\n    <tr>\n      <th>sig_id</th>\n      <th></th>\n      <th></th>\n      <th></th>\n      <th></th>\n      <th></th>\n      <th></th>\n      <th></th>\n      <th></th>\n      <th></th>\n      <th></th>\n      <th></th>\n      <th></th>\n      <th></th>\n      <th></th>\n      <th></th>\n      <th></th>\n      <th></th>\n      <th></th>\n      <th></th>\n      <th></th>\n      <th></th>\n    </tr>\n  </thead>\n  <tbody>\n    <tr>\n      <th>id_000644bb2</th>\n      <td>0</td>\n      <td>1</td>\n      <td>0</td>\n      <td>1.0620</td>\n      <td>0.5577</td>\n      <td>-0.2479</td>\n      <td>-0.6208</td>\n      <td>-0.1944</td>\n      <td>-1.0120</td>\n      <td>-1.0220</td>\n      <td>...</td>\n      <td>0.2862</td>\n      <td>0.2584</td>\n      <td>0.8076</td>\n      <td>0.5523</td>\n      <td>-0.1912</td>\n      <td>0.6584</td>\n      <td>-0.3981</td>\n      <td>0.2139</td>\n      <td>0.3801</td>\n      <td>0.4176</td>\n    </tr>\n    <tr>\n      <th>id_000779bfc</th>\n      <td>0</td>\n      <td>3</td>\n      <td>0</td>\n      <td>0.0743</td>\n      <td>0.4087</td>\n      <td>0.2991</td>\n      <td>0.0604</td>\n      <td>1.0190</td>\n      <td>0.5207</td>\n      <td>0.2341</td>\n      <td>...</td>\n      <td>-0.4265</td>\n      <td>0.7543</td>\n      <td>0.4708</td>\n      <td>0.0230</td>\n      <td>0.2957</td>\n      <td>0.4899</td>\n      <td>0.1522</td>\n      <td>0.1241</td>\n      <td>0.6077</td>\n      <td>0.7371</td>\n    </tr>\n    <tr>\n      <th>id_000a6266a</th>\n      <td>0</td>\n      <td>2</td>\n      <td>0</td>\n      <td>0.6280</td>\n      <td>0.5817</td>\n      <td>1.5540</td>\n      <td>-0.0764</td>\n      <td>-0.0323</td>\n      <td>1.2390</td>\n      <td>0.1715</td>\n      <td>...</td>\n      <td>-0.7250</td>\n      <td>-0.6297</td>\n      <td>0.6103</td>\n      <td>0.0223</td>\n      <td>-1.3240</td>\n      <td>-0.3174</td>\n      <td>-0.6417</td>\n      <td>-0.2187</td>\n      <td>-1.4080</td>\n      <td>0.6931</td>\n    </tr>\n    <tr>\n      <th>id_0015fd391</th>\n      <td>0</td>\n      <td>2</td>\n      <td>0</td>\n      <td>-0.5138</td>\n      <td>-0.2491</td>\n      <td>-0.2656</td>\n      <td>0.5288</td>\n      <td>4.0620</td>\n      <td>-0.8095</td>\n      <td>-1.9590</td>\n      <td>...</td>\n      <td>-2.0990</td>\n      <td>-0.6441</td>\n      <td>-5.6300</td>\n      <td>-1.3780</td>\n      <td>-0.8632</td>\n      <td>-1.2880</td>\n      <td>-1.6210</td>\n      <td>-0.8784</td>\n      <td>-0.3876</td>\n      <td>-0.8154</td>\n    </tr>\n    <tr>\n      <th>id_001626bd3</th>\n      <td>0</td>\n      <td>3</td>\n      <td>1</td>\n      <td>-0.3254</td>\n      <td>-0.4009</td>\n      <td>0.9700</td>\n      <td>0.6919</td>\n      <td>1.4180</td>\n      <td>-0.8244</td>\n      <td>-0.2800</td>\n      <td>...</td>\n      <td>0.0042</td>\n      <td>0.0048</td>\n      <td>0.6670</td>\n      <td>1.0690</td>\n      <td>0.5523</td>\n      <td>-0.3031</td>\n      <td>0.1094</td>\n      <td>0.2885</td>\n      <td>-0.3786</td>\n      <td>0.7125</td>\n    </tr>\n  </tbody>\n</table>\n<p>5 rows × 875 columns</p>\n</div>"
     },
     "metadata": {},
     "output_type": "display_data"
    },
    {
     "data": {
      "text/plain": "              cp_type  cp_time  cp_dose     g-0     g-1     g-2     g-3  \\\nsig_id                                                                    \nid_0004d9e33        0        1        0 -0.5458  0.1306 -0.5135  0.4408   \nid_001897cda        0        3        0 -0.1829  0.2320  1.2080 -0.4522   \nid_002429b5b        1        1        0  0.1852 -0.1404 -0.3911  0.1310   \nid_00276f245        0        1        1  0.4828  0.1955  0.3825  0.4244   \nid_0027f1083        0        2        0 -0.3979 -1.2680  1.9130  0.2057   \n\n                 g-4     g-5     g-6  ...    c-90    c-91    c-92    c-93  \\\nsig_id                                ...                                   \nid_0004d9e33  1.5500 -0.1644 -0.2140  ...  0.0981  0.7978 -0.1430 -0.2067   \nid_001897cda -0.3652 -0.3319 -1.8820  ... -0.1190 -0.1852 -1.0310 -1.3670   \nid_002429b5b -1.4380  0.2455 -0.3390  ... -0.2261  0.3370 -1.3840  0.8604   \nid_00276f245 -0.5855 -1.2020  0.5998  ...  0.1260  0.1570 -0.1784 -1.1200   \nid_0027f1083 -0.5864 -0.0166  0.5128  ...  0.4965  0.7578 -0.1580  1.0510   \n\n                c-94    c-95    c-96    c-97    c-98    c-99  \nsig_id                                                        \nid_0004d9e33 -0.2303 -0.1193  0.0210 -0.0502  0.1510 -0.7750  \nid_001897cda -0.3690 -0.5382  0.0359 -0.4764 -1.3810 -0.7300  \nid_002429b5b -1.9530 -1.0140  0.8662  1.0160  0.4924 -0.1942  \nid_00276f245 -0.4325 -0.9005  0.8131 -0.1305  0.5645 -0.5809  \nid_0027f1083  0.5742  1.0900 -0.2962 -0.5313  0.9931  1.8380  \n\n[5 rows x 875 columns]",
      "text/html": "<div>\n<style scoped>\n    .dataframe tbody tr th:only-of-type {\n        vertical-align: middle;\n    }\n\n    .dataframe tbody tr th {\n        vertical-align: top;\n    }\n\n    .dataframe thead th {\n        text-align: right;\n    }\n</style>\n<table border=\"1\" class=\"dataframe\">\n  <thead>\n    <tr style=\"text-align: right;\">\n      <th></th>\n      <th>cp_type</th>\n      <th>cp_time</th>\n      <th>cp_dose</th>\n      <th>g-0</th>\n      <th>g-1</th>\n      <th>g-2</th>\n      <th>g-3</th>\n      <th>g-4</th>\n      <th>g-5</th>\n      <th>g-6</th>\n      <th>...</th>\n      <th>c-90</th>\n      <th>c-91</th>\n      <th>c-92</th>\n      <th>c-93</th>\n      <th>c-94</th>\n      <th>c-95</th>\n      <th>c-96</th>\n      <th>c-97</th>\n      <th>c-98</th>\n      <th>c-99</th>\n    </tr>\n    <tr>\n      <th>sig_id</th>\n      <th></th>\n      <th></th>\n      <th></th>\n      <th></th>\n      <th></th>\n      <th></th>\n      <th></th>\n      <th></th>\n      <th></th>\n      <th></th>\n      <th></th>\n      <th></th>\n      <th></th>\n      <th></th>\n      <th></th>\n      <th></th>\n      <th></th>\n      <th></th>\n      <th></th>\n      <th></th>\n      <th></th>\n    </tr>\n  </thead>\n  <tbody>\n    <tr>\n      <th>id_0004d9e33</th>\n      <td>0</td>\n      <td>1</td>\n      <td>0</td>\n      <td>-0.5458</td>\n      <td>0.1306</td>\n      <td>-0.5135</td>\n      <td>0.4408</td>\n      <td>1.5500</td>\n      <td>-0.1644</td>\n      <td>-0.2140</td>\n      <td>...</td>\n      <td>0.0981</td>\n      <td>0.7978</td>\n      <td>-0.1430</td>\n      <td>-0.2067</td>\n      <td>-0.2303</td>\n      <td>-0.1193</td>\n      <td>0.0210</td>\n      <td>-0.0502</td>\n      <td>0.1510</td>\n      <td>-0.7750</td>\n    </tr>\n    <tr>\n      <th>id_001897cda</th>\n      <td>0</td>\n      <td>3</td>\n      <td>0</td>\n      <td>-0.1829</td>\n      <td>0.2320</td>\n      <td>1.2080</td>\n      <td>-0.4522</td>\n      <td>-0.3652</td>\n      <td>-0.3319</td>\n      <td>-1.8820</td>\n      <td>...</td>\n      <td>-0.1190</td>\n      <td>-0.1852</td>\n      <td>-1.0310</td>\n      <td>-1.3670</td>\n      <td>-0.3690</td>\n      <td>-0.5382</td>\n      <td>0.0359</td>\n      <td>-0.4764</td>\n      <td>-1.3810</td>\n      <td>-0.7300</td>\n    </tr>\n    <tr>\n      <th>id_002429b5b</th>\n      <td>1</td>\n      <td>1</td>\n      <td>0</td>\n      <td>0.1852</td>\n      <td>-0.1404</td>\n      <td>-0.3911</td>\n      <td>0.1310</td>\n      <td>-1.4380</td>\n      <td>0.2455</td>\n      <td>-0.3390</td>\n      <td>...</td>\n      <td>-0.2261</td>\n      <td>0.3370</td>\n      <td>-1.3840</td>\n      <td>0.8604</td>\n      <td>-1.9530</td>\n      <td>-1.0140</td>\n      <td>0.8662</td>\n      <td>1.0160</td>\n      <td>0.4924</td>\n      <td>-0.1942</td>\n    </tr>\n    <tr>\n      <th>id_00276f245</th>\n      <td>0</td>\n      <td>1</td>\n      <td>1</td>\n      <td>0.4828</td>\n      <td>0.1955</td>\n      <td>0.3825</td>\n      <td>0.4244</td>\n      <td>-0.5855</td>\n      <td>-1.2020</td>\n      <td>0.5998</td>\n      <td>...</td>\n      <td>0.1260</td>\n      <td>0.1570</td>\n      <td>-0.1784</td>\n      <td>-1.1200</td>\n      <td>-0.4325</td>\n      <td>-0.9005</td>\n      <td>0.8131</td>\n      <td>-0.1305</td>\n      <td>0.5645</td>\n      <td>-0.5809</td>\n    </tr>\n    <tr>\n      <th>id_0027f1083</th>\n      <td>0</td>\n      <td>2</td>\n      <td>0</td>\n      <td>-0.3979</td>\n      <td>-1.2680</td>\n      <td>1.9130</td>\n      <td>0.2057</td>\n      <td>-0.5864</td>\n      <td>-0.0166</td>\n      <td>0.5128</td>\n      <td>...</td>\n      <td>0.4965</td>\n      <td>0.7578</td>\n      <td>-0.1580</td>\n      <td>1.0510</td>\n      <td>0.5742</td>\n      <td>1.0900</td>\n      <td>-0.2962</td>\n      <td>-0.5313</td>\n      <td>0.9931</td>\n      <td>1.8380</td>\n    </tr>\n  </tbody>\n</table>\n<p>5 rows × 875 columns</p>\n</div>"
     },
     "metadata": {},
     "output_type": "display_data"
    }
   ],
   "source": [
    "# Preprocess Data\n",
    "\n",
    "def preprocess(df):\n",
    "    df['cp_type'] = df['cp_type'].map({'trt_cp': 0, 'ctl_vehicle': 1})\n",
    "    df['cp_time'] = df['cp_time'].map({24: 1, 48: 2, 72: 3})\n",
    "    df['cp_dose'] = df['cp_dose'].map({'D1': 0, 'D2': 1})\n",
    "    return df\n",
    "\n",
    "x_train = preprocess(x_train)\n",
    "x_test = preprocess(x_test)\n",
    "\n",
    "display(x_train.head())\n",
    "display(x_test.head())"
   ],
   "metadata": {
    "collapsed": false,
    "pycharm": {
     "name": "#%%\n"
    }
   }
  },
  {
   "cell_type": "code",
   "execution_count": 14,
   "outputs": [],
   "source": [
    "# Define the scorer function\n",
    "\n",
    "from sklearn.metrics import roc_auc_score, log_loss, f1_score\n",
    "\n",
    "def scorer(y_true, y_pred):\n",
    "    log_loss_, auc, f1 = 0,0,0\n",
    "\n",
    "    # Add a dummy prediction to y_true and y_pred in case some label has all 0's\n",
    "    y_true = np.vstack((y_true, np.ones((1, y_true.shape[1]))))\n",
    "    y_pred = np.vstack((y_pred, np.ones((1, y_pred.shape[1]))))\n",
    "\n",
    "    v = y_true.shape[1]\n",
    "    for i in range(v):\n",
    "        log_loss_ += log_loss(y_true[:, i], y_pred[:, i])\n",
    "        auc += roc_auc_score(y_true[:, i], y_pred[:, i])\n",
    "        f1 += f1_score(y_true[:, i], y_pred[:, i] > 0.5)\n",
    "    return log_loss_ / v, auc / v, f1 / v"
   ],
   "metadata": {
    "collapsed": false,
    "pycharm": {
     "name": "#%%\n"
    }
   }
  },
  {
   "cell_type": "code",
   "execution_count": 15,
   "outputs": [],
   "source": [
    "# Define the method to evaluate a model\n",
    "\n",
    "from skmultilearn.model_selection import IterativeStratification\n",
    "\n",
    "import pickle\n",
    "from time import time\n",
    "from pathlib import Path\n",
    "from os import path\n",
    "\n",
    "def eval_model(model, _x_train, _y_train, n_splits=3, id_=None):\n",
    "    start_time = time()\n",
    "    logging.info('*' * 20)\n",
    "    logging.info(\"Evaluating model {}\".format(id_ if id_ else model))\n",
    "\n",
    "    output = None\n",
    "\n",
    "    # Try to load saved result from disk if exists\n",
    "    if id_:\n",
    "        output = Path('output') / id_\n",
    "        output.mkdir(parents=True, exist_ok=True)\n",
    "        if path.exists(output / 'score.pkl'):\n",
    "            logging.debug(\"Loading result from disk\")\n",
    "            log_loss_, auc, f1 = pickle.load(open(output / 'score.pkl', 'rb'))\n",
    "            logging.info(\"The Average Log Loss is {}\".format(log_loss_))\n",
    "            logging.info(\"The Average AUC is {}\".format(auc))\n",
    "            logging.info(\"The Average f1 is {}\".format(f1))\n",
    "            return log_loss_, auc, f1\n",
    "\n",
    "    # Convert data into numpy\n",
    "    _x_train = np.array(_x_train)\n",
    "    _y_train = np.array(_y_train)\n",
    "\n",
    "    # Deprecated sklearn k-forld\n",
    "    # kf = StratifiedKFold(n_splits=n_splits)\n",
    "    # kf.get_n_splits(X_train)\n",
    "\n",
    "    # Use Iterative stratification for multi-label data to handle imbalance\n",
    "    kf = IterativeStratification(n_splits=n_splits, order=1)\n",
    "\n",
    "    log_loss_, auc, f1 = 0.0, 0.0, 0.0\n",
    "    for i, (train_index, test_index) in enumerate(kf.split(_x_train, _y_train)):\n",
    "        x_train_, x_val_ = _x_train[train_index], _x_train[test_index]\n",
    "        y_train_, y_val_ = _y_train[train_index], _y_train[test_index]\n",
    "\n",
    "        # Add dummy sample to make sure every column has 2 labels\n",
    "        x_train_ = np.vstack((x_train_, np.zeros((1, x_train_.shape[1]))))\n",
    "        y_train_ = np.vstack((y_train_, np.ones((1, y_train_.shape[1]))))\n",
    "\n",
    "        y_pred_ = model.fit(x_train_, y_train_).predict(x_val_)\n",
    "\n",
    "        log_loss_val, auc_val, f1_val = scorer(y_val_, y_pred_)\n",
    "\n",
    "        # Pickle y_val_ and y_pred_\n",
    "        if id_:\n",
    "            pickle.dump((y_val_, y_pred_), open(output / \"cv_{}.pkl\".format(i), 'wb'))\n",
    "\n",
    "        # Update the scores\n",
    "        log_loss_ += log_loss_val\n",
    "        auc += auc_val\n",
    "        f1 += f1_val\n",
    "\n",
    "    log_loss_ /= n_splits\n",
    "    auc /= n_splits\n",
    "    f1 /= n_splits\n",
    "    if id_:\n",
    "        pickle.dump((log_loss_, auc, f1), open(output / 'score.pkl', 'wb'))\n",
    "    logging.info(\"The Average Log Loss is {}\".format(log_loss_))\n",
    "    logging.info(\"The Average AUC is {}\".format(auc))\n",
    "    logging.info(\"The Average f1 is {}\".format(f1))\n",
    "    logging.debug(\"Used {:.2f}s\".format(time() - start_time))\n",
    "    return log_loss_, auc, f1"
   ],
   "metadata": {
    "collapsed": false,
    "pycharm": {
     "name": "#%%\n"
    }
   }
  },
  {
   "cell_type": "code",
   "execution_count": 16,
   "outputs": [
    {
     "name": "stderr",
     "output_type": "stream",
     "text": [
      "INFO:root:********************\n",
      "INFO:root:Evaluating model lr\n",
      "DEBUG:root:Loading result from disk\n",
      "INFO:root:The Average Log Loss is 0.03352318677655003\n",
      "INFO:root:The Average AUC is 0.7342847552317289\n",
      "INFO:root:The Average f1 is 0.21727000338508906\n"
     ]
    },
    {
     "data": {
      "text/plain": "(0.03352318677655003, 0.7342847552317289, 0.21727000338508906)"
     },
     "execution_count": 16,
     "metadata": {},
     "output_type": "execute_result"
    }
   ],
   "source": [
    "# Run a Linear Regression for demo\n",
    "\n",
    "from sklearn.linear_model import LogisticRegression, LinearRegression, Ridge\n",
    "from sklearn.ensemble import RandomForestClassifier, StackingClassifier, RandomForestRegressor, StackingRegressor\n",
    "from sklearn.multioutput import MultiOutputClassifier, MultiOutputRegressor\n",
    "from sklearn.neural_network import MLPClassifier, MLPRegressor\n",
    "\n",
    "eval_model(LinearRegression(n_jobs=n_jobs), x_train, y_train, id_='lr')"
   ],
   "metadata": {
    "collapsed": false,
    "pycharm": {
     "name": "#%%\n"
    }
   }
  },
  {
   "cell_type": "code",
   "execution_count": 17,
   "outputs": [],
   "source": [
    "# Define PCA Function\n",
    "\n",
    "from sklearn.decomposition import PCA\n",
    "\n",
    "def pca(_x_train, _x_test, n_gene=200, n_cell=50):\n",
    "    genes = [col for col in _x_train.columns if col.startswith('g-')]\n",
    "    cells = [col for col in _x_train.columns if col.startswith('c-')]\n",
    "\n",
    "    # PCA genes\n",
    "    data_genes = pd.concat([pd.DataFrame(_x_train[genes]), pd.DataFrame(_x_test[genes])])\n",
    "    data_genes_pca = PCA(n_components=n_gene, random_state=42).fit_transform(data_genes)\n",
    "\n",
    "    train_gene_pca = data_genes_pca[:_x_train.shape[0]]\n",
    "    test_gene_pca = data_genes_pca[-_x_test.shape[0]:]\n",
    "\n",
    "    train_gene_pca = pd.DataFrame(train_gene_pca, columns=[f'pca_G-{i}' for i in range(n_gene)])\n",
    "    test_gene_pca = pd.DataFrame(test_gene_pca, columns=[f'pca_G-{i}' for i in range(n_gene)])\n",
    "\n",
    "    # PCA cells\n",
    "    data_cells = pd.concat([pd.DataFrame(_x_train[cells]), pd.DataFrame(_x_test[cells])])\n",
    "    data_cells_pca = PCA(n_components=n_cell, random_state=42).fit_transform(data_cells)\n",
    "\n",
    "    train_cells_pca = data_cells_pca[:_x_train.shape[0]]\n",
    "    test_cells_pca = data_cells_pca[-_x_test.shape[0]:]\n",
    "\n",
    "    train_cells_pca = pd.DataFrame(train_cells_pca, columns=[f'pca_C-{i}' for i in range(n_cell)])\n",
    "    test_cells_pca = pd.DataFrame(test_cells_pca, columns=[f'pca_C-{i}' for i in range(n_cell)])\n",
    "\n",
    "    # Generate new training and test data\n",
    "    _train_features = pd.concat((train_gene_pca, train_cells_pca), axis=1)\n",
    "    _test_features = pd.concat((test_gene_pca, test_cells_pca), axis=1)\n",
    "    return _train_features, _test_features"
   ],
   "metadata": {
    "collapsed": false,
    "pycharm": {
     "name": "#%%\n"
    }
   }
  },
  {
   "cell_type": "code",
   "execution_count": 18,
   "outputs": [],
   "source": [
    "# # Tuning PCA with linear regression\n",
    "#\n",
    "# cols = ['log_loss', 'roc_auc', 'f1']\n",
    "# df = pd.DataFrame(columns=cols)\n",
    "# for n_genes in [10, 20, 50, 100, 200, 400, 500]:\n",
    "#     for n_cells in [10, 25, 50, 75]:\n",
    "#         train_features, test_features = pca(x_train, x_test, n_genes, n_cells)\n",
    "#         ll, auc, f1 = eval_model(LinearRegression(n_jobs=n_jobs),train_features, y_train, id_='lr_{}_{}'.format(n_genes, n_cells))\n",
    "#         df = df.append(pd.Series([ll, auc, f1], name='lr_{}_{}'.format(n_genes, n_cells), index=cols))\n",
    "#\n",
    "# display(df.sort_values(by=['log_loss']).head())"
   ],
   "metadata": {
    "collapsed": false,
    "pycharm": {
     "name": "#%%\n"
    }
   }
  },
  {
   "cell_type": "code",
   "execution_count": 19,
   "outputs": [
    {
     "name": "stderr",
     "output_type": "stream",
     "text": [
      "DEBUG:matplotlib:(private) matplotlib data path: /home/aris/anaconda3/envs/torch/lib/python3.8/site-packages/matplotlib/mpl-data\n",
      "DEBUG:matplotlib:matplotlib data path: /home/aris/anaconda3/envs/torch/lib/python3.8/site-packages/matplotlib/mpl-data\n",
      "DEBUG:matplotlib:CONFIGDIR=/home/aris/.config/matplotlib\n",
      "DEBUG:matplotlib:matplotlib version 3.3.2\n",
      "DEBUG:matplotlib:interactive is False\n",
      "DEBUG:matplotlib:platform is linux\n",
      "DEBUG:matplotlib:loaded modules: ['sys', 'builtins', '_frozen_importlib', '_imp', '_warnings', '_frozen_importlib_external', '_io', 'marshal', 'posix', '_thread', '_weakref', 'time', 'zipimport', '_codecs', 'codecs', 'encodings.aliases', 'encodings', 'encodings.utf_8', '_signal', '__main__', 'encodings.latin_1', '_abc', 'abc', 'io', '_stat', 'stat', '_collections_abc', 'genericpath', 'posixpath', 'os.path', 'os', '_sitebuiltins', '_locale', '_bootlocale', 'types', 'importlib._bootstrap', 'importlib._bootstrap_external', 'warnings', 'importlib', 'importlib.machinery', 'importlib.abc', '_operator', 'operator', 'keyword', '_heapq', 'heapq', 'itertools', 'reprlib', '_collections', 'collections', '_functools', 'functools', 'contextlib', 'importlib.util', 'zope', 'mpl_toolkits', 'sphinxcontrib', 'site', '_weakrefset', 'weakref', 'pkgutil', 'runpy', 'ipykernel._version', '__future__', 'enum', '_sre', 'sre_constants', 'sre_parse', 'sre_compile', 'copyreg', 're', '_json', 'json.scanner', 'json.decoder', 'json.encoder', 'json', 'errno', 'signal', 'threading', '_posixsubprocess', 'select', 'collections.abc', 'math', 'selectors', 'subprocess', 'IPython.core', 'IPython.core.getipython', 'IPython.core.release', 'atexit', 'copy', 'fnmatch', 'glob', 'token', 'tokenize', 'linecache', 'traceback', '_string', 'string', 'logging', 'zlib', '_compression', '_bz2', 'bz2', '_lzma', 'lzma', 'pwd', 'grp', 'shutil', '_ast', 'ast', '_opcode', 'opcode', 'dis', 'inspect', 'traitlets.utils', 'traitlets.utils.getargspec', 'traitlets.utils.importstring', 'traitlets.utils.sentinel', 'traitlets.utils.bunch', 'traitlets.utils.descriptions', 'traitlets.traitlets', 'traitlets.utils.decorators', 'traitlets._version', 'traitlets', 'pprint', 'locale', 'gettext', 'argparse', 'ipython_genutils._version', 'ipython_genutils', '_bisect', 'bisect', '_sha512', '_random', 'random', 'ipython_genutils.encoding', 'platform', 'ipython_genutils.py3compat', 'ipython_genutils.path', 'traitlets.config.loader', 'textwrap', 'ipython_genutils.text', 'traitlets.config.configurable', 'traitlets.config.application', 'traitlets.config', 'sysconfig', 'urllib', 'urllib.parse', '_sysconfigdata__linux_x86_64-linux-gnu', 'pydoc', 'bdb', 'IPython.utils', 'IPython.utils.ipstruct', 'IPython.utils.coloransi', 'pygments', 'IPython.utils.colorable', 'IPython.utils.PyColorize', 'IPython.utils.encoding', 'IPython.utils.py3compat', 'IPython.core.excolors', 'IPython.testing', 'IPython.testing.skipdoctest', 'cmd', 'codeop', 'code', 'pdb', 'IPython.core.debugger', 'IPython.core.display_trap', 'pexpect.exceptions', 'pexpect.utils', 'pexpect.expect', 'termios', 'tty', 'pty', 'fcntl', 'resource', '_struct', 'struct', 'ptyprocess.util', 'ptyprocess.ptyprocess', 'ptyprocess', 'pexpect.spawnbase', 'pexpect.pty_spawn', 'pexpect.run', 'pexpect', 'shlex', 'IPython.utils._process_common', 'IPython.utils._process_posix', 'IPython.utils.process', 'IPython.utils.decorators', 'IPython.utils.path', 'IPython.utils.data', 'IPython.utils.terminal', 'IPython.core.ultratb', 'IPython.utils._sysinfo', 'IPython.utils.sysinfo', 'IPython.core.crashhandler', 'tempfile', 'IPython.utils.importstring', 'IPython.paths', 'IPython.core.profiledir', 'IPython.core.application', 'IPython.terminal', '_hashlib', '_blake2', '_sha3', 'hashlib', 'IPython.core.compilerop', 'IPython.core.error', 'ntpath', 'pathlib', 'IPython.utils.text', 'IPython.core.magic_arguments', 'getopt', 'typing.io', 'typing.re', 'typing', 'binascii', 'mimetypes', 'IPython.core.display', 'IPython.core.page', 'getpass', 'IPython.lib.security', 'IPython.lib', '_datetime', 'datetime', 'IPython.lib.pretty', 'IPython.utils.openpy', 'IPython.utils.dir2', 'IPython.utils.wildcard', 'pygments.lexers._mapping', 'pygments.modeline', 'pygments.plugin', 'pygments.util', 'pygments.lexers', 'pygments.filter', 'pygments.token', 'pygments.filters', 'pygments.regexopt', 'pygments.lexer', 'pygments.unistring', 'pygments.lexers.python', 'pygments.formatters._mapping', 'pygments.formatters', 'pygments.styles', 'pygments.formatter', 'pygments.formatters.html', 'IPython.core.oinspect', 'IPython.core.inputtransformer2', 'decorator', 'IPython.core.magic', '_compat_pickle', '_pickle', 'pickle', 'pickleshare', 'IPython.core.autocall', 'IPython.core.macro', 'IPython.core.splitinput', 'IPython.core.prefilter', 'IPython.core.alias', 'IPython.core.builtin_trap', 'backcall.backcall', 'backcall', 'IPython.core.events', 'IPython.core.displayhook', 'IPython.core.displaypub', 'IPython.core.extensions', 'IPython.utils.sentinel', 'IPython.core.formatters', '_sqlite3', 'sqlite3.dbapi2', 'sqlite3', 'IPython.core.history', 'IPython.core.logger', 'IPython.core.payload', 'IPython.core.usage', 'html.entities', 'html', 'IPython.lib.display', 'IPython.display', 'IPython.utils.capture', 'IPython.utils.io', 'IPython.core.hooks', 'IPython.utils.strdispatch', 'IPython.utils.syspathcontext', 'IPython.utils.tempdir', 'IPython.utils.contexts', 'IPython.core.async_helpers', 'IPython.core.interactiveshell', 'concurrent', 'concurrent.futures._base', 'concurrent.futures', '_socket', 'socket', '_ssl', 'base64', 'ssl', 'asyncio.constants', 'asyncio.format_helpers', 'asyncio.base_futures', 'asyncio.log', 'asyncio.coroutines', '_contextvars', 'contextvars', 'asyncio.exceptions', 'asyncio.base_tasks', '_asyncio', 'asyncio.events', 'asyncio.futures', 'asyncio.protocols', 'asyncio.transports', 'asyncio.sslproto', 'asyncio.locks', 'asyncio.tasks', 'asyncio.staggered', 'asyncio.trsock', 'asyncio.base_events', 'asyncio.runners', 'asyncio.queues', 'asyncio.streams', 'asyncio.subprocess', 'asyncio.base_subprocess', 'asyncio.selector_events', 'asyncio.unix_events', 'asyncio', 'prompt_toolkit.application.current', 'prompt_toolkit.eventloop.utils', 'prompt_toolkit.eventloop.async_generator', 'wcwidth.table_wide', 'wcwidth.table_zero', 'wcwidth.unicode_versions', 'wcwidth.wcwidth', 'wcwidth', 'prompt_toolkit.utils', 'prompt_toolkit.eventloop.inputhook', 'prompt_toolkit.eventloop', 'prompt_toolkit.application.run_in_terminal', 'prompt_toolkit.selection', 'prompt_toolkit.clipboard.base', 'prompt_toolkit.clipboard.in_memory', 'prompt_toolkit.clipboard', 'prompt_toolkit.cache', 'prompt_toolkit.enums', 'prompt_toolkit.filters.base', 'prompt_toolkit.filters.app', 'prompt_toolkit.filters.cli', 'prompt_toolkit.filters.utils', 'prompt_toolkit.filters', 'prompt_toolkit.document', 'prompt_toolkit.auto_suggest', 'prompt_toolkit.data_structures', 'prompt_toolkit.styles.base', 'prompt_toolkit.styles.named_colors', 'prompt_toolkit.styles.style', 'prompt_toolkit.styles.defaults', 'prompt_toolkit.styles.pygments', 'colorsys', 'prompt_toolkit.styles.style_transformation', 'prompt_toolkit.styles', 'prompt_toolkit.output.color_depth', 'prompt_toolkit.output.base', 'prompt_toolkit.patch_stdout', 'prompt_toolkit.output.defaults', 'prompt_toolkit.output', 'array', 'prompt_toolkit.output.vt100', 'prompt_toolkit.mouse_events', 'prompt_toolkit.formatted_text.base', 'prompt_toolkit.formatted_text.ansi', 'xml', 'xml.dom.domreg', 'xml.dom', 'xml.dom.minicompat', 'xml.dom.NodeFilter', 'xml.dom.xmlbuilder', 'xml.dom.minidom', 'prompt_toolkit.formatted_text.html', 'prompt_toolkit.formatted_text.pygments', 'prompt_toolkit.formatted_text.utils', 'prompt_toolkit.formatted_text', 'prompt_toolkit.completion.base', 'prompt_toolkit.completion.filesystem', 'prompt_toolkit.completion.word_completer', 'prompt_toolkit.completion.fuzzy_completer', 'prompt_toolkit.completion.nested', 'prompt_toolkit.completion', 'prompt_toolkit.history', 'prompt_toolkit.keys', 'prompt_toolkit.key_binding.key_bindings', 'prompt_toolkit.key_binding.key_processor', 'prompt_toolkit.key_binding', 'prompt_toolkit.key_binding.vi_state', 'prompt_toolkit.search', 'prompt_toolkit.validation', 'prompt_toolkit.buffer', 'prompt_toolkit.input.base', 'prompt_toolkit.input.defaults', 'prompt_toolkit.input', 'prompt_toolkit.input.typeahead', 'prompt_toolkit.key_binding.bindings', 'prompt_toolkit.key_binding.bindings.scroll', 'prompt_toolkit.key_binding.bindings.page_navigation', 'prompt_toolkit.lexers.base', 'prompt_toolkit.lexers.pygments', 'prompt_toolkit.lexers', 'prompt_toolkit.layout.utils', 'prompt_toolkit.layout.processors', 'prompt_toolkit.layout.controls', 'prompt_toolkit.layout.dimension', 'prompt_toolkit.layout.margins', 'prompt_toolkit.layout.mouse_handlers', 'prompt_toolkit.layout.screen', 'prompt_toolkit.layout.containers', 'prompt_toolkit.layout.layout', 'prompt_toolkit.layout.menus', 'prompt_toolkit.layout', 'prompt_toolkit.key_binding.bindings.completion', 'prompt_toolkit.key_binding.bindings.named_commands', 'prompt_toolkit.key_binding.bindings.basic', 'prompt_toolkit.key_binding.bindings.cpr', 'prompt_toolkit.key_binding.bindings.emacs', 'prompt_toolkit.key_binding.bindings.mouse', 'prompt_toolkit.input.ansi_escape_sequences', 'prompt_toolkit.input.vt100_parser', 'prompt_toolkit.key_binding.digraphs', 'prompt_toolkit.key_binding.bindings.vi', 'prompt_toolkit.key_binding.defaults', 'prompt_toolkit.key_binding.emacs_state', 'prompt_toolkit.layout.dummy', 'prompt_toolkit.renderer', 'prompt_toolkit.application.application', 'prompt_toolkit.application.dummy', 'prompt_toolkit.application', 'prompt_toolkit.key_binding.bindings.focus', 'prompt_toolkit.widgets.toolbars', 'prompt_toolkit.widgets.base', 'prompt_toolkit.widgets.dialogs', 'prompt_toolkit.widgets.menus', 'prompt_toolkit.widgets', 'prompt_toolkit.shortcuts.dialogs', 'prompt_toolkit.shortcuts.progress_bar.formatters', 'prompt_toolkit.shortcuts.progress_bar.base', 'prompt_toolkit.shortcuts.progress_bar', 'prompt_toolkit.key_binding.bindings.auto_suggest', 'prompt_toolkit.key_binding.bindings.open_in_editor', 'prompt_toolkit.shortcuts.prompt', 'prompt_toolkit.shortcuts.utils', 'prompt_toolkit.shortcuts', 'prompt_toolkit', 'pygments.style', 'unicodedata', 'IPython.core.latex_symbols', 'IPython.utils.generics', 'parso._compatibility', 'parso.utils', 'parso.tree', 'parso.python', 'parso.python.token', 'parso.python.tokenize', 'parso.pgen2.grammar_parser', 'parso.pgen2.generator', 'parso.pgen2', 'parso.parser', 'difflib', 'parso.python.prefix', 'parso.python.tree', 'parso.python.parser', 'parso.python.diff', 'gc', 'parso.cache', 'parso.normalizer', 'parso.python.errors', 'parso.python.pep8', 'parso.file_io', 'parso.grammar', 'parso', 'jedi.file_io', '_queue', 'queue', 'jedi._compatibility', 'jedi.parser_utils', 'colorama.ansi', '_ctypes', 'ctypes._endian', 'ctypes', 'colorama.win32', 'colorama.winterm', 'colorama.ansitowin32', 'colorama.initialise', 'colorama', 'jedi.debug', 'jedi.settings', 'jedi.cache', 'jedi.inference.cache', 'jedi.inference.helpers', 'jedi.inference.utils', 'jedi.inference.base_value', 'jedi.common', 'jedi.inference.sys_path', 'jedi.inference.recursion', 'jedi.inference.flow_analysis', 'jedi.inference.lazy_value', 'jedi.inference.docstrings', 'jedi.plugins', 'jedi.inference.names', 'jedi.inference.filters', 'jedi.inference.compiled.getattr_static', 'jedi.inference.compiled.access', 'jedi.inference.signature', 'jedi.inference.context', 'jedi.inference.compiled.value', 'jedi.inference.compiled', 'jedi.inference.analysis', 'jedi.inference.gradual', 'jedi.inference.value.module', 'jedi.inference.value.dynamic_arrays', 'jedi.inference.value.iterable', 'jedi.inference.arguments', 'jedi.inference.parser_cache', 'jedi.inference.gradual.generics', 'jedi.inference.value.function', 'jedi.inference.value.klass', 'jedi.inference.value.instance', 'jedi.inference.value', 'jedi.inference.gradual.base', 'jedi.inference.gradual.type_var', 'jedi.inference.gradual.typing', 'jedi.inference.gradual.stub_value', 'jedi.inference.gradual.typeshed', 'jedi.inference.imports', 'jedi.inference.param', 'jedi.inference.gradual.annotation', 'jedi.inference.value.decorator', 'jedi.inference.syntax_tree', 'jedi.inference', 'jedi.inference.gradual.conversion', 'jedi.inference.compiled.mixed', 'pydoc_data', 'pydoc_data.topics', 'jedi.api.keywords', 'jedi.api.completion_cache', 'jedi.api.helpers', 'jedi.api.classes', 'jedi.api.interpreter', 'jedi.api.strings', 'jedi.api.file_name', 'jedi.api.completion', 'filecmp', 'jedi.inference.compiled.subprocess.functions', 'jedi.api.exceptions', 'jedi.inference.compiled.subprocess', 'jedi.api.environment', 'jedi.inference.references', 'jedi.api.project', 'jedi.api.errors', 'jedi.api.refactoring', 'jedi.api.refactoring.extract', 'jedi.inference.gradual.utils', 'jedi.api', 'jedi.plugins.stdlib', 'jedi.plugins.flask', 'jedi.plugins.pytest', 'jedi.plugins.django', 'jedi.plugins.registry', 'jedi', 'IPython.core.completer', 'IPython.terminal.ptutils', 'IPython.terminal.shortcuts', 'IPython.terminal.debugger', 'IPython.lib.clipboard', 'IPython.terminal.magics', 'IPython.terminal.pt_inputhooks', 'IPython.terminal.prompts', 'IPython.terminal.interactiveshell', 'IPython.core.magics.auto', 'IPython.core.magics.basic', 'email', 'http', 'email.errors', 'email.quoprimime', 'email.base64mime', 'quopri', 'email.encoders', 'email.charset', 'email.header', 'calendar', 'email._parseaddr', 'email.utils', 'email._policybase', 'email.feedparser', 'email.parser', 'uu', 'email._encoded_words', 'email.iterators', 'email.message', 'http.client', 'urllib.response', 'urllib.error', 'urllib.request', 'IPython.core.magics.code', 'IPython.core.magics.config', 'IPython.core.magics.display', 'timeit', '_lsprof', 'profile', 'cProfile', 'pstats', 'IPython.utils.module_paths', 'IPython.utils.timing', 'IPython.core.magics.execution', 'IPython.core.magics.extension', 'IPython.core.magics.history', 'IPython.core.magics.logging', 'IPython.core.magics.namespace', 'IPython.core.magics.osm', 'IPython.core.magics.packaging', 'IPython.core.pylabtools', 'IPython.core.magics.pylab', 'IPython.lib.backgroundjobs', 'IPython.core.magics.script', 'IPython.core.magics', 'IPython.core.shellapp', 'IPython.extensions', 'IPython.extensions.storemagic', 'IPython.terminal.ipapp', 'IPython.terminal.embed', 'IPython.utils.frame', 'IPython', 'jupyter_client._version', 'zmq.backend.select', 'cython_runtime', 'zmq.backend.cython.constants', '_cython_0_29_21', 'zmq.backend.cython.error', 'zmq.error', 'zmq.backend.cython.message', 'zmq.backend.cython.context', 'zmq.backend.cython.socket', 'zmq.backend.cython.utils', 'zmq.backend.cython._poll', 'zmq.backend.cython._version', 'zmq.backend.cython._device', 'zmq.backend.cython._proxy_steerable', 'zmq.backend.cython', 'zmq.backend', 'zmq.utils', 'zmq.utils.constant_names', 'zmq.sugar.constants', 'zmq.sugar.attrsettr', 'zmq.sugar.poll', 'zmq.utils.strtypes', 'zmq.utils.jsonapi', 'zmq.sugar.socket', 'zmq.sugar.context', 'zmq.sugar.frame', 'zmq.sugar.tracker', 'zmq.sugar.version', 'zmq.sugar.stopwatch', 'zmq.sugar', 'zmq', 'jupyter_client.localinterfaces', 'jupyter_core.version', 'jupyter_core', 'distutils', 'distutils.errors', 'distutils.dep_util', 'distutils.debug', 'distutils.log', 'distutils.spawn', 'distutils.util', 'jupyter_core.paths', 'jupyter_client.connect', 'traitlets.log', 'jupyter_client.launcher', 'jupyter_client.channelsabc', 'jupyter_client.channels', 'jupyter_client.clientabc', 'jupyter_client.client', 'ipython_genutils.importstring', 'jupyter_client.kernelspec', 'jupyter_client.managerabc', 'jupyter_client.manager', 'jupyter_client.blocking.channels', 'jupyter_client.blocking.client', 'jupyter_client.blocking', 'zmq._future', 'zmq.asyncio', 'jupyter_client.asynchronous.channels', 'jupyter_client.asynchronous.client', 'jupyter_client.asynchronous', 'uuid', 'jupyter_client.multikernelmanager', 'jupyter_client', 'ipykernel.connect', 'ipykernel', 'tornado', 'numbers', 'logging.handlers', 'tornado.speedups', 'tornado.util', 'tornado.escape', '_curses', 'curses', 'tornado.log', 'tornado.concurrent', 'tornado.ioloop', 'tornado.platform', 'tornado.gen', 'tornado.platform.asyncio', 'zmq.eventloop.ioloop', 'zmq.eventloop', 'zmq.eventloop.zmqstream', 'imp', 'hmac', 'dateutil._version', 'dateutil', 'six', '_decimal', 'decimal', 'dateutil._common', 'dateutil.relativedelta', 'six.moves', 'dateutil.tz._common', 'dateutil.tz._factories', 'dateutil.tz.tz', 'dateutil.tz', 'dateutil.parser._parser', 'dateutil.parser.isoparser', 'dateutil.parser', '_strptime', 'jupyter_client.jsonutil', 'jupyter_client.adapter', 'jupyter_client.session', 'ipykernel.iostream', 'ipykernel.heartbeat', 'IPython.utils.tokenutil', 'tornado.locks', 'tornado.queues', 'ipykernel.jsonutil', 'ipykernel.kernelbase', 'ipykernel.comm.comm', 'ipykernel.comm.manager', 'ipykernel.comm', 'IPython.core.payloadpage', 'ipykernel.displayhook', 'ipykernel.zmqshell', 'distutils.version', 'ipykernel.eventloops', 'ipykernel.ipkernel', 'ipykernel.parentpoller', 'ipykernel.kernelapp', 'faulthandler', 'ipykernel.codeutil', 'ipykernel.pickleutil', 'ipykernel.serialize', 'ipykernel.datapub', 'IPython.core.completerlib', 'storemagic', 'numpy._globals', 'numpy.__config__', 'numpy.version', 'mkl._mklinit', 'mkl._py_mkl_service', 'mkl', 'numpy._distributor_init', 'numpy.core._multiarray_umath', 'numpy.compat._inspect', 'numpy.compat.py3k', 'numpy.compat', 'numpy.core.overrides', 'numpy.core.multiarray', 'numpy.core.umath', 'numpy.core._string_helpers', 'numpy.core._dtype', 'numpy.core._type_aliases', 'numpy.core.numerictypes', 'numpy.core._asarray', 'numpy.core._exceptions', 'numpy.core._methods', 'numpy.core.fromnumeric', 'numpy.core.shape_base', 'numpy.core._ufunc_config', 'numpy.core.arrayprint', 'numpy.core.numeric', 'numpy.core.defchararray', 'numpy.core.records', 'numpy.core.memmap', 'numpy.core.function_base', 'numpy.core.machar', 'numpy.core.getlimits', 'numpy.core.einsumfunc', 'numpy.core._multiarray_tests', 'numpy.core._add_newdocs', 'numpy.core._dtype_ctypes', 'numpy.core._internal', 'numpy._pytesttester', 'numpy.core', 'numpy.lib.mixins', 'numpy.lib.ufunclike', 'numpy.lib.type_check', 'numpy.lib.scimath', 'numpy.lib.twodim_base', 'numpy.linalg.lapack_lite', 'numpy.linalg._umath_linalg', 'numpy.linalg.linalg', 'numpy.linalg', 'numpy.matrixlib.defmatrix', 'numpy.matrixlib', 'numpy.lib.histograms', 'numpy.lib.function_base', 'numpy.lib.stride_tricks', 'numpy.lib.index_tricks', 'numpy.lib.nanfunctions', 'numpy.lib.shape_base', 'numpy.lib.polynomial', 'numpy.lib.utils', 'numpy.lib.arraysetops', 'numpy.lib.format', 'numpy.lib._datasource', 'numpy.lib._iotools', 'numpy.lib.npyio', 'numpy.lib.financial', 'numpy.lib.arrayterator', 'numpy.lib.arraypad', 'numpy.lib._version', 'numpy.lib', 'numpy.fft._pocketfft_internal', 'numpy.fft._pocketfft', 'numpy.fft.helper', 'numpy.fft', 'numpy.polynomial.polyutils', 'numpy.polynomial._polybase', 'numpy.polynomial.polynomial', 'numpy.polynomial.chebyshev', 'numpy.polynomial.legendre', 'numpy.polynomial.hermite', 'numpy.polynomial.hermite_e', 'numpy.polynomial.laguerre', 'numpy.polynomial', 'numpy.random._common', 'secrets', 'numpy.random.bit_generator', 'numpy.random._bounded_integers', 'numpy.random._mt19937', 'numpy.random.mtrand', 'numpy.random._philox', 'numpy.random._pcg64', 'numpy.random._sfc64', 'numpy.random._generator', 'numpy.random._pickle', 'numpy.random', 'numpy.ctypeslib', 'numpy.ma.core', 'numpy.ma.extras', 'numpy.ma', 'numpy', 'pytz.exceptions', 'pytz.lazy', 'pytz.tzinfo', 'pytz.tzfile', 'pytz', 'pandas._typing', 'pandas.compat', 'pandas.compat.numpy', 'pandas._libs.tslibs.dtypes', 'pandas._libs.tslibs.base', 'pandas._libs.tslibs.np_datetime', 'pandas._libs.tslibs.nattype', 'pandas._libs.tslibs.timezones', 'pandas._libs.tslibs.ccalendar', 'pandas._libs.tslibs.tzconversion', 'pandas._libs.tslibs.timedeltas', 'pandas._config.config', 'pandas._config.dates', 'pandas._config.display', 'pandas._config', 'pandas._config.localization', 'pandas._libs.tslibs.strptime', 'pandas._libs.tslibs.fields', 'pandas._libs.tslibs.timestamps', 'dateutil.easter', 'pandas._libs.properties', 'pandas._libs.tslibs.offsets', 'pandas._libs.tslibs.parsing', 'pandas._libs.tslibs.conversion', 'pandas._libs.tslibs.period', 'pandas._libs.tslibs.vectorized', 'pandas._libs.tslibs', 'pandas._libs.ops_dispatch', 'pandas._libs.missing', 'pandas._libs.hashtable', 'pandas._libs.algos', 'pandas._libs.interval', 'pandas._libs', 'pandas._libs.tslib', 'pandas._libs.lib', 'pandas.core', 'pandas.core.config_init', 'pandas.core.dtypes', 'pandas.errors', 'pandas.core.dtypes.generic', 'pandas.core.dtypes.base', 'pandas.core.dtypes.inference', 'pandas.core.dtypes.dtypes', 'pandas.core.dtypes.common', 'pandas.core.dtypes.missing', 'pandas.util._decorators', 'pandas.core.util', 'pandas._libs.hashing', 'pandas.core.util.hashing', 'pandas.util', 'pandas.util._validators', 'pandas.core.dtypes.cast', 'pandas.core.common', 'pandas.core.construction', 'pandas.core.indexers', 'pandas.core.algorithms', 'pandas.compat.numpy.function', 'pandas._libs.ops', 'pandas.core.ops.roperator', 'pandas.core.ops.missing', 'pandas.core.ops.dispatch', 'pandas.core.ops.invalid', 'pandas.core.ops.array_ops', 'pandas.core.ops.common', 'pandas.core.ops.docstrings', 'pandas.core.ops.mask_ops', 'pandas.core.ops.methods', 'pandas.core.ops', 'pandas.compat._optional', 'pandas.core.missing', 'pandas.core.sorting', 'pandas.core.arrays.base', 'bottleneck.reduce', 'bottleneck.nonreduce', 'bottleneck.nonreduce_axis', 'bottleneck.move', 'bottleneck.slow.reduce', 'bottleneck.slow.nonreduce', 'bottleneck.slow.nonreduce_axis', 'bottleneck.slow.move', 'bottleneck.slow', 'bottleneck.benchmark', 'bottleneck.benchmark.autotimeit', 'bottleneck.benchmark.bench', 'bottleneck.benchmark.bench_detailed', 'bottleneck.tests', 'bottleneck.tests.util', 'bottleneck._pytesttester', 'bottleneck._version', 'bottleneck', 'pandas.core.nanops', 'pandas.core.array_algos', 'pandas.core.array_algos.masked_reductions', 'pandas.core.arrays.masked', 'pandas.core.arrays.boolean', '_csv', 'csv', 'pandas.core.accessor', 'pandas.core.array_algos.transforms', 'pandas.core.arrays._mixins', 'pandas.core.base', 'pandas.io', 'pandas.io.formats', 'pandas.io.formats.console', 'pandas.core.arrays.categorical', 'pandas.tseries', 'pandas.tseries.frequencies', 'pandas.core.arrays.datetimelike', 'pandas.core.arrays._ranges', 'pandas.tseries.offsets', 'pandas.core.arrays.datetimes', 'pandas.core.tools', 'pandas.core.tools.numeric', 'pandas.core.arrays.integer', 'pandas.core.indexes', 'pandas._libs.index', 'pandas._libs.join', 'pandas._libs.sparse', 'pandas.core.arrays.sparse.dtype', 'pandas.io.formats.printing', 'pandas.core.arrays.sparse.array', 'pandas.core.arrays.sparse.accessor', 'pandas.core.arrays.sparse', 'pandas.core.dtypes.concat', 'pandas.core.indexes.frozen', 'pandas.core.strings', 'pandas.core.indexes.base', 'pandas.core.arrays.interval', 'pandas.core.arrays.numpy_', 'pandas.core.arrays.period', 'pandas.core.arrays.string_', 'pandas.core.arrays.timedeltas', 'pandas.core.arrays', 'pandas.core.indexes.extension', 'pandas.core.indexes.category', 'pandas.core.indexes.numeric', 'pandas.core.tools.timedeltas', 'pandas.core.indexes.datetimelike', 'pandas.core.tools.times', 'pandas.core.indexes.datetimes', 'pandas.util._exceptions', 'pandas.core.indexes.multi', 'pandas.core.indexes.timedeltas', 'pandas.core.indexes.interval', 'pandas.core.indexes.period', 'pandas.core.indexes.range', 'pandas.core.indexes.api', 'pandas._libs.reshape', 'pandas._libs.indexing', 'pandas.core.indexing', 'pandas._libs.writers', 'pandas._libs.internals', 'pandas.core.internals.blocks', 'pandas.core.internals.ops', 'pandas.core.internals.managers', 'pandas.core.internals.concat', 'pandas.core.internals', 'pandas.core.shared_docs', 'gzip', 'mmap', 'zipfile', 'pandas.io.common', 'pandas.io.formats.format', 'pandas.core.generic', 'pandas.core.indexes.accessors', 'pandas.arrays', 'pandas.core.tools.datetimes', 'pandas.plotting._core', 'pandas.plotting._misc', 'pandas.plotting', 'pandas._libs.window', 'pandas._libs.window.aggregations', 'pandas.core.groupby.base', 'pandas.core.window.common', 'pandas.core.util.numba_', 'pandas._libs.window.indexers', 'pandas.core.window.indexers', 'pandas.core.window.numba_', 'pandas.core.window.rolling', 'pandas.core.window.ewm', 'pandas.core.window.expanding', 'pandas.core.window', 'pandas.core.series', 'pandas.core.aggregation', 'pandas.core.internals.construction', 'pandas.core.reshape', 'pandas.core.reshape.concat', 'pandas.core.reshape.util', 'pandas.core.reshape.melt', 'pandas.io.formats.info', 'pandas.core.frame', 'pandas._libs.groupby', 'pandas._libs.reduction', 'pandas.core.groupby.categorical', 'pandas.core.groupby.grouper', 'pandas.core.groupby.ops', 'pandas.core.groupby.groupby', 'pandas.core.groupby.generic', 'pandas.core.groupby', 'pandas.core.api', 'pandas.tseries.api', 'pandas.core.computation', 'pandas.core.computation.common', 'pandas.core.computation.align', 'pandas.compat.chainmap', 'pandas.core.computation.scope', 'pandas.core.computation.ops', 'pandas.core.computation.engines', 'pandas.core.computation.parsing', 'pandas.core.computation.expr', 'pandas.core.computation.eval', 'pandas.core.computation.api', 'pandas.core.reshape.merge', 'pandas.core.reshape.pivot', 'pandas.core.reshape.reshape', 'pandas.core.reshape.tile', 'pandas.core.reshape.api', 'pandas.api.extensions', 'pandas.api.indexers', 'pandas.core.dtypes.api', 'pandas.api.types', 'pandas.api', 'pandas.util._print_versions', 'pandas.io.clipboards', 'pandas._libs.parsers', 'pandas.io.excel._util', 'pandas.io.date_converters', 'pandas.io.parsers', 'pandas.io.excel._odfreader', 'pandas.io.excel._openpyxl', 'pandas.io.excel._pyxlsb', 'pandas.io.excel._xlrd', 'pandas.io.excel._base', 'pandas._libs.json', 'pandas.io.formats.css', 'pandas.io.formats.excel', 'pandas.io.excel._odswriter', 'pandas.io.excel._xlsxwriter', 'pandas.io.excel._xlwt', 'pandas.io.excel', 'pandas.io.feather_format', 'pandas.io.gbq', 'pandas.io.html', 'pandas.io.json._normalize', 'pandas.io.json._table_schema', 'pandas.io.json._json', 'pandas.io.json', 'pandas.io.orc', 'pandas.io.parquet', 'pandas.compat.pickle_compat', 'pandas.io.pickle', 'pandas.core.computation.pytables', 'pandas.io.pytables', 'pandas.io.sas.sasreader', 'pandas.io.sas', 'pandas.io.spss', 'pandas.io.sql', 'pandas.io.stata', 'pandas.io.api', 'pandas.util._tester', 'pandas._libs.testing', 'pandas._testing', 'pandas.testing', 'pandas._version', 'pandas', 'multiprocessing.process', 'multiprocessing.reduction', 'multiprocessing.context', '__mp_main__', 'multiprocessing', 'pandas.io.formats.html', 'sklearn._config', 'sklearn._distributor_init', 'sklearn.__check_build._check_build', 'sklearn.__check_build', 'scipy._lib._testutils', 'scipy._lib', 'scipy._lib.deprecation', 'scipy.__config__', 'scipy.version', 'scipy._distributor_init', 'scipy._lib._pep440', 'scipy._lib._ccallback_c', 'scipy._lib._ccallback', 'scipy._lib._uarray._uarray', 'scipy._lib._uarray._backend', 'scipy._lib._uarray', 'scipy._lib.uarray', 'scipy.fft._basic', 'scipy.fft._realtransforms', 'scipy.fft._pocketfft.pypocketfft', 'scipy.fft._pocketfft.helper', 'scipy.fft._pocketfft.basic', 'scipy.fft._pocketfft.realtransforms', 'scipy.fft._pocketfft', 'scipy.fft._helper', 'scipy.fft._backend', 'scipy.fft', 'scipy', 'scipy._lib._util', 'scipy.sparse.sputils', 'scipy.sparse.base', 'scipy.sparse._sparsetools', 'scipy.sparse.data', 'scipy.sparse.dia', 'scipy.sparse._index', 'scipy.sparse.compressed', 'scipy.sparse.csr', 'scipy.sparse.csc', 'scipy.sparse._csparsetools', 'scipy.sparse.lil', 'scipy.sparse.dok', 'scipy.sparse.coo', 'scipy.sparse.bsr', 'scipy.sparse.construct', 'scipy.sparse.extract', 'scipy.sparse._matrix_io', 'scipy.sparse.csgraph._laplacian', 'scipy.sparse.csgraph._tools', 'scipy.sparse.csgraph._validation', 'scipy.sparse.csgraph._shortest_path', 'scipy.sparse.csgraph._traversal', 'scipy.sparse.csgraph._min_spanning_tree', 'scipy.sparse.csgraph._flow', 'scipy.sparse.csgraph._matching', 'scipy.sparse.csgraph._reordering', 'scipy.sparse.csgraph', 'scipy.sparse', 'sklearn.utils.murmurhash', 'joblib.hashing', 'multiprocessing.util', 'joblib.disk', 'joblib.logger', 'joblib.func_inspect', 'joblib.backports', 'joblib.compressor', 'joblib.numpy_pickle_utils', 'joblib.numpy_pickle_compat', 'joblib.numpy_pickle', 'joblib._store_backends', 'joblib.memory', '_multiprocessing', 'joblib._multiprocessing_helpers', 'joblib._deprecated_my_exceptions', 'joblib.my_exceptions', 'joblib.externals', 'joblib.externals.loky._base', 'multiprocessing.connection', 'joblib.externals.loky.backend.compat_posix', 'joblib.externals.loky.backend.compat', 'joblib.externals.loky.backend.process', 'joblib.externals.loky.backend.context', 'multiprocessing.synchronize', 'joblib.externals.loky.backend', 'joblib.externals.loky.backend._posix_reduction', 'joblib.externals.cloudpickle.compat', 'typing_extensions', 'joblib.externals.cloudpickle.cloudpickle', 'joblib.externals.cloudpickle.cloudpickle_fast', 'joblib.externals.cloudpickle', 'joblib.externals.loky.backend.reduction', 'multiprocessing.queues', 'joblib.externals.loky.backend.queues', 'psutil._common', 'psutil._compat', 'psutil._psposix', 'psutil._psutil_linux', 'psutil._psutil_posix', 'psutil._pslinux', 'psutil', 'joblib.externals.loky.backend.utils', 'concurrent.futures.process', 'joblib.externals.loky.process_executor', 'joblib.externals.loky.reusable_executor', 'joblib.externals.loky.cloudpickle_wrapper', 'joblib.externals.loky', 'joblib.externals.loky.backend.spawn', 'joblib.externals.loky.backend.resource_tracker', 'joblib._memmapping_reducer', 'multiprocessing.pool', 'joblib.pool', 'joblib.executor', 'joblib._parallel_backends', 'joblib.parallel', 'joblib', 'scipy.spatial.kdtree', 'scipy.spatial.ckdtree', 'scipy._lib.messagestream', 'scipy.spatial.qhull', 'scipy.spatial._voronoi', 'scipy.spatial._spherical_voronoi', 'scipy._lib.decorator', 'scipy.spatial._plotutils', 'scipy.linalg._fblas', 'scipy.linalg.blas', 'scipy.linalg._flapack', 'scipy.linalg.lapack', 'scipy.linalg.misc', 'scipy.linalg._flinalg', 'scipy.linalg.flinalg', 'scipy.linalg.decomp', 'scipy.linalg.decomp_svd', 'scipy.linalg._solve_toeplitz', 'scipy.linalg.basic', 'scipy.linalg.decomp_lu', 'scipy.linalg._decomp_ldl', 'scipy.linalg.decomp_cholesky', 'scipy.linalg.decomp_qr', 'scipy.linalg._decomp_qz', 'scipy.linalg.decomp_schur', 'scipy.linalg._decomp_polar', 'scipy.linalg.special_matrices', 'scipy.linalg._expm_frechet', 'scipy.linalg._matfuncs_sqrtm', 'scipy.linalg.matfuncs', 'scipy.linalg._solvers', 'scipy.linalg._procrustes', 'scipy.linalg.cython_blas', 'scipy.linalg.cython_lapack', 'scipy.linalg._decomp_update', 'scipy.linalg._sketches', 'scipy.linalg._decomp_cossin', 'scipy.linalg', 'scipy.spatial._procrustes', 'scipy.spatial._distance_wrap', 'scipy.spatial._hausdorff', 'scipy.special.sf_error', 'scipy.special._ufuncs_cxx', 'scipy.special._ufuncs', 'scipy.special.specfun', 'scipy.special.orthogonal', 'scipy.special._comb', 'scipy.special._basic', 'scipy.special._logsumexp', 'scipy.special.spfun_stats', 'scipy.special._ellip_harm_2', 'scipy.special._ellip_harm', 'scipy.special._lambertw', 'scipy.special._spherical_bessel', 'scipy.special', 'scipy.spatial.distance', 'scipy.spatial._geometric_slerp', 'scipy.constants.codata', 'scipy.constants.constants', 'scipy.constants', 'scipy.spatial.transform._rotation_groups', 'scipy.spatial.transform.rotation', 'scipy.spatial.transform._rotation_spline', 'scipy.spatial.transform', 'scipy.spatial', 'scipy.ndimage._ni_support', 'scipy.ndimage._nd_image', 'scipy._lib.doccer', 'scipy.ndimage._ni_docstrings', 'scipy.ndimage.filters', 'scipy.ndimage.fourier', 'scipy.ndimage.interpolation', '_ni_label', 'scipy.ndimage._ni_label', 'scipy.ndimage.morphology', 'scipy.ndimage.measurements', 'scipy.ndimage', 'scipy.stats._distr_params', 'scipy.optimize.minpack2', 'scipy.optimize.linesearch', 'scipy.sparse.linalg.isolve._iterative', 'scipy.sparse.linalg.interface', 'scipy.sparse.linalg.isolve.utils', 'scipy._lib._threadsafety', 'scipy.sparse.linalg.isolve.iterative', 'scipy.sparse.linalg.isolve.minres', 'scipy.sparse.linalg.isolve._gcrotmk', 'scipy.sparse.linalg.isolve.lgmres', 'scipy.sparse.linalg.isolve.lsqr', 'scipy.sparse.linalg.isolve.lsmr', 'scipy.sparse.linalg.isolve', 'scipy.sparse.linalg.dsolve._superlu', 'scipy.sparse.linalg.dsolve.linsolve', 'scipy.sparse.linalg.dsolve._add_newdocs', 'scipy.sparse.linalg.dsolve', 'scipy.sparse.linalg.eigen.arpack._arpack', 'scipy.sparse.linalg.eigen.lobpcg.lobpcg', 'scipy.sparse.linalg.eigen.lobpcg', 'scipy.sparse.linalg.eigen.arpack.arpack', 'scipy.sparse.linalg.eigen.arpack', 'scipy.sparse.linalg.eigen', 'scipy.sparse.linalg._expm_multiply', 'scipy.sparse.linalg.matfuncs', 'scipy.sparse.linalg._onenormest', 'scipy.sparse.linalg._norm', 'scipy.sparse.linalg', 'scipy.optimize._group_columns', 'scipy.optimize._numdiff', 'scipy.optimize._hessian_update_strategy', 'scipy.optimize._differentiable_functions', 'scipy.optimize.optimize', 'scipy.optimize._trustregion', 'scipy.optimize._trustregion_dogleg', 'scipy.optimize._trustregion_ncg', 'scipy.optimize._trlib._trlib', 'scipy.optimize._trlib', 'scipy.optimize._trustregion_krylov', 'scipy.optimize._trustregion_exact', 'unittest.util', 'unittest.result', 'unittest.case', 'unittest.async_case', 'unittest.suite', 'unittest.loader', 'unittest.signals', 'unittest.runner', 'unittest.main', 'unittest', 'numpy.testing._private', 'numpy.testing._private.utils', 'numpy.testing._private.decorators', 'numpy.testing._private.nosetester', 'numpy.testing', 'scipy.optimize._constraints', 'scipy.optimize._trustregion_constr.projections', 'scipy.optimize._trustregion_constr.qp_subproblem', 'scipy.optimize._trustregion_constr.equality_constrained_sqp', 'scipy.optimize._trustregion_constr.canonical_constraint', 'scipy.optimize._trustregion_constr.tr_interior_point', 'scipy.optimize._trustregion_constr.report', 'scipy.optimize._trustregion_constr.minimize_trustregion_constr', 'scipy.optimize._trustregion_constr', 'scipy.optimize._lbfgsb', 'scipy.optimize.lbfgsb', 'scipy.optimize.moduleTNC', 'scipy.optimize.tnc', 'scipy.optimize._cobyla', 'scipy.optimize.cobyla', 'scipy.optimize._slsqp', 'scipy.optimize.slsqp', 'scipy.optimize._minimize', 'scipy.optimize._minpack', 'scipy.optimize._lsq.common', 'scipy.optimize._lsq.trf', 'scipy.optimize._lsq.dogbox', 'scipy.optimize._lsq.least_squares', 'scipy.optimize._lsq.givens_elimination', 'scipy.optimize._lsq.trf_linear', 'scipy.optimize._lsq.bvls', 'scipy.optimize._lsq.lsq_linear', 'scipy.optimize._lsq', 'scipy.optimize.minpack', 'scipy.optimize._spectral', 'scipy.optimize.nonlin', 'scipy.optimize._root', 'scipy.optimize._zeros', 'scipy.optimize.zeros', 'scipy.optimize._root_scalar', 'scipy.optimize.__nnls', 'scipy.optimize._nnls', 'scipy.optimize._basinhopping', 'scipy.optimize._remove_redundancy', 'scipy.optimize._linprog_util', 'scipy.optimize._linprog_ip', 'scipy.optimize._linprog_simplex', 'scipy.optimize._bglu_dense', 'scipy.optimize._linprog_rs', 'scipy.optimize._linprog', 'scipy.optimize._lsap_module', 'scipy.optimize._lsap', 'scipy.optimize._differentialevolution', 'scipy.optimize._shgo_lib', 'scipy.optimize._shgo_lib.sobol_seq', 'scipy.optimize._shgo_lib.triangulation', 'scipy.optimize._shgo', 'scipy.optimize._dual_annealing', 'scipy.optimize', 'scipy.integrate._quadrature', 'scipy.integrate._odepack', 'scipy.integrate.odepack', 'scipy.integrate._quadpack', 'scipy.integrate.quadpack', 'scipy.integrate.vode', 'scipy.integrate._dop', 'scipy.integrate.lsoda', 'scipy.integrate._ode', 'scipy.integrate._bvp', 'scipy.integrate._ivp.common', 'scipy.integrate._ivp.base', 'scipy.integrate._ivp.bdf', 'scipy.integrate._ivp.radau', 'scipy.integrate._ivp.dop853_coefficients', 'scipy.integrate._ivp.rk', 'scipy.integrate._ivp.lsoda', 'scipy.integrate._ivp.ivp', 'scipy.integrate._ivp', 'scipy.integrate._quad_vec', 'scipy.integrate', 'scipy.misc.doccer', 'scipy.misc.common', 'scipy.misc', 'scipy.stats._constants', 'scipy.stats._distn_infrastructure', 'scipy.interpolate._fitpack', 'scipy.interpolate.dfitpack', 'scipy.interpolate._fitpack_impl', 'scipy.interpolate._bspl', 'scipy.interpolate._bsplines', 'scipy.interpolate.fitpack', 'scipy.interpolate.polyint', 'scipy.interpolate._ppoly', 'scipy.interpolate.fitpack2', 'scipy.interpolate.interpnd', 'scipy.interpolate.interpolate', 'scipy.interpolate.rbf', 'scipy.interpolate._cubic', 'scipy.interpolate.ndgriddata', 'scipy.interpolate._pade', 'scipy.interpolate', 'scipy.special.cython_special', 'scipy.stats._stats', 'scipy.stats._rvs_sampling', 'scipy.stats._tukeylambda_stats', 'scipy.stats._ksstats', 'scipy.stats._continuous_distns', 'scipy.stats._discrete_distns', 'scipy.stats.distributions', 'scipy.stats._stats_mstats_common', 'scipy.stats.mstats_basic', 'scipy.stats._wilcoxon_data', 'scipy.stats._hypotests', 'scipy.stats.stats', 'scipy.stats.statlib', 'scipy.stats.contingency', 'scipy.stats.morestats', 'scipy.stats._binned_statistic', 'scipy.stats.mvn', 'scipy.stats.kde', 'scipy.stats.mstats_extras', 'scipy.stats.mstats', 'scipy.stats._multivariate', 'scipy.stats', 'sklearn.utils.deprecation', 'xml.parsers', 'pyexpat.errors', 'pyexpat.model', 'pyexpat', 'xml.parsers.expat.model', 'xml.parsers.expat.errors', 'xml.parsers.expat', 'plistlib', 'pkg_resources.extern', 'pkg_resources._vendor', 'pkg_resources._vendor.appdirs', 'pkg_resources.extern.appdirs', 'pkg_resources._vendor.packaging.__about__', 'pkg_resources._vendor.packaging', 'pkg_resources.extern.packaging', 'pkg_resources.extern.packaging._structures', 'pkg_resources.extern.packaging._typing', 'pkg_resources.extern.packaging.version', 'pkg_resources.extern.packaging._compat', 'pkg_resources.extern.packaging.utils', 'pkg_resources.extern.packaging.specifiers', 'pkg_resources._vendor.pyparsing', 'pkg_resources.extern.pyparsing', 'pkg_resources.extern.packaging.markers', 'pkg_resources.extern.packaging.requirements', 'pkg_resources', 'sklearn.utils.fixes', 'sklearn.exceptions', 'sklearn.utils.validation', 'sklearn.utils.class_weight', 'sklearn.utils._joblib', 'sklearn.utils._estimator_html_repr', 'sklearn.utils', 'sklearn.base', 'sklearn.utils._openmp_helpers', 'sklearn.utils._show_versions', 'sklearn', 'sklearn.utils.multiclass', 'sklearn.utils._logistic_sigmoid', 'sklearn.utils.sparsefuncs_fast', 'sklearn.utils.extmath', 'sklearn.utils.sparsefuncs', 'sklearn.preprocessing._function_transformer', 'sklearn.preprocessing._csr_polynomial_expansion', 'sklearn.preprocessing._label', 'sklearn.preprocessing._encoders', 'sklearn.preprocessing._data', 'sklearn.preprocessing._discretization', 'sklearn.preprocessing', 'sklearn.metrics._base', 'sklearn.metrics._ranking', 'sklearn.metrics._classification', 'sklearn.metrics.cluster._expected_mutual_info_fast', 'sklearn.metrics.cluster._supervised', 'sklearn.utils._mask', 'sklearn.metrics._pairwise_fast', 'sklearn.metrics.pairwise', 'sklearn.metrics.cluster._unsupervised', 'sklearn.metrics.cluster._bicluster', 'sklearn.metrics.cluster', 'sklearn._loss', 'sklearn._loss.glm_distribution', 'sklearn.metrics._regression', 'sklearn.metrics._scorer', 'sklearn.metrics._plot', 'sklearn.metrics._plot.base', 'sklearn.metrics._plot.roc_curve', 'sklearn.metrics._plot.precision_recall_curve', 'sklearn.metrics._plot.confusion_matrix', 'sklearn.metrics', 'skmultilearn', 'sklearn.model_selection._split', 'sklearn.utils.metaestimators', 'sklearn.model_selection._validation', 'sklearn.utils._random', 'sklearn.utils.random', 'sklearn.model_selection._search', 'sklearn.model_selection', 'skmultilearn.model_selection.iterative_stratification', 'skmultilearn.model_selection.measures', 'skmultilearn.model_selection', 'sklearn.utils._seq_dataset', 'sklearn.linear_model._base', 'sklearn.linear_model._bayes', 'sklearn.utils._cython_blas', 'sklearn.utils.arrayfuncs', 'sklearn.linear_model._least_angle', 'sklearn.linear_model._cd_fast', 'sklearn.linear_model._coordinate_descent', 'sklearn.utils.optimize', 'sklearn.linear_model._glm.link', 'sklearn.linear_model._glm.glm', 'sklearn.linear_model._glm', 'sklearn.linear_model._huber', 'sklearn.utils._weight_vector', 'sklearn.linear_model._sgd_fast', 'sklearn.linear_model._stochastic_gradient', 'sklearn.linear_model._sag_fast', 'sklearn.linear_model._sag', 'sklearn.linear_model._ridge', 'sklearn.svm._libsvm', 'sklearn.svm._liblinear', 'sklearn.svm._libsvm_sparse', 'sklearn.svm._base', 'sklearn.svm._classes', 'sklearn.svm._bounds', 'sklearn.svm', 'sklearn.linear_model._logistic', 'sklearn.linear_model._omp', 'sklearn.linear_model._passive_aggressive', 'sklearn.linear_model._perceptron', 'sklearn.linear_model._ransac', 'sklearn.linear_model._theil_sen', 'sklearn.linear_model', 'sklearn.ensemble._base', 'sklearn.neighbors._typedefs', 'sklearn.neighbors._dist_metrics', 'sklearn.neighbors._ball_tree', 'sklearn.neighbors._kd_tree', 'sklearn.neighbors._base', 'sklearn.neighbors._unsupervised', 'sklearn.neighbors._graph', 'sklearn.neighbors._classification', 'sklearn.neighbors._regression', 'sklearn.neighbors._nearest_centroid', 'sklearn.neighbors._kde', 'sklearn.neighbors._lof', 'sklearn.decomposition._dict_learning', 'sklearn.externals', 'sklearn.externals._pep562', 'sklearn.decomposition.dict_learning', 'sklearn.decomposition._cdnmf_fast', 'sklearn.decomposition._nmf', 'sklearn.decomposition._base', 'sklearn.decomposition._pca', 'sklearn.decomposition._incremental_pca', 'sklearn.decomposition._kernel_pca', 'sklearn.decomposition._sparse_pca', 'sklearn.decomposition._truncated_svd', 'sklearn.decomposition._fastica', 'sklearn.decomposition._factor_analysis', 'sklearn.decomposition._online_lda_fast', 'sklearn.decomposition._lda', 'sklearn.decomposition', 'sklearn.neighbors._nca', 'sklearn.neighbors', 'sklearn.tree._utils', 'sklearn.neighbors._quad_tree', 'sklearn.tree._tree', 'sklearn.tree._splitter', 'sklearn.tree._criterion', 'sklearn.tree._classes', 'sklearn.tree._reingold_tilford', 'sklearn.tree._export', 'sklearn.tree', 'sklearn.ensemble._forest', 'sklearn.ensemble._bagging', 'sklearn.ensemble._iforest', 'sklearn.ensemble._weight_boosting', 'sklearn.ensemble._gradient_boosting', 'sklearn.utils.stats', 'sklearn.dummy', 'sklearn.ensemble._gb_losses', 'sklearn.ensemble._gb', 'sklearn.ensemble._voting', 'sklearn.ensemble._stacking', 'sklearn.ensemble', 'sklearn.multioutput', 'sklearn.neural_network._rbm', 'sklearn.neural_network._base', 'sklearn.neural_network._stochastic_optimizers', 'sklearn.neural_network._multilayer_perceptron', 'sklearn.neural_network', '_pydevd_bundle', '_pydev_bundle', '_pydevd_bundle.pydevd_vm_type', '_pydev_imps', 'xmlrpc', 'xmlrpc.client', 'socketserver', 'http.server', 'xmlrpc.server', '_pydev_imps._pydev_saved_modules', '_pydevd_bundle.pydevd_constants', '_pydev_bundle.pydev_log', '_pydev_imps._pydev_execfile', '_pydevd_bundle.pydevd_exec2', '_pydev_bundle.pydev_imports', 'pydevd_plugins', 'pydevd_plugins.extensions', '_pydevd_bundle.pydevd_extension_utils', '_pydev_bundle._pydev_filesystem_encoding', '_pydevd_bundle.pydevd_comm_constants', 'pydevd_file_utils', '_pydevd_bundle.pydevd_utils', '_pydevd_bundle.pydevd_resolver', '_pydevd_bundle.pydevd_extension_api', '_pydevd_bundle.pydevd_xml', '_pydevd_bundle.pydevd_custom_frames', '_pydevd_bundle.pydevd_save_locals', '_pydevd_bundle.pydevd_vars', 'pydev_jupyter_vars', 'pydevd_plugins.extensions.types', 'pydevd_plugins.extensions.types.pydevd_helpers', 'pydevd_plugins.extensions.types.pydevd_plugin_numpy_types', 'pydevd_plugins.extensions.types.pydevd_plugins_django_form_str', 'matplotlib', 'matplotlib.cbook.deprecation', 'matplotlib.cbook', 'matplotlib._animation_data', 'matplotlib.animation', 'pyparsing', 'matplotlib.fontconfig_pattern', 'matplotlib.docstring', 'matplotlib._color_data', 'matplotlib.colors', 'cycler', 'matplotlib.rcsetup', 'matplotlib._version', 'matplotlib.ft2font', 'kiwisolver']\n",
      "DEBUG:matplotlib:CACHEDIR=/home/aris/.cache/matplotlib\n",
      "DEBUG:matplotlib.font_manager:Using fontManager instance from /home/aris/.cache/matplotlib/fontlist-v330.json\n",
      "DEBUG:matplotlib.pyplot:Loaded backend module://ipykernel.pylab.backend_inline version unknown.\n",
      "DEBUG:matplotlib.pyplot:Loaded backend module://ipykernel.pylab.backend_inline version unknown.\n"
     ]
    }
   ],
   "source": [
    "# Make hist plot\n",
    "import matplotlib.pyplot as plt\n",
    "\n",
    "mpl_logger = logging.getLogger('matplotlib')\n",
    "mpl_logger.setLevel(logging.WARNING)\n",
    "\n",
    "def make_hist_plot(df, title, id_):\n",
    "    def __plot(score):\n",
    "        logging.debug(df[score])\n",
    "        x = list(df.index)\n",
    "        y = df[score].values\n",
    "        plt.figure(figsize=(16, 9))\n",
    "        plt.bar(x, y)\n",
    "        plt.xticks(x, x, rotation='vertical')\n",
    "        plt.ylabel(score)\n",
    "        plt.title(\"{} {}\".format(title, score))\n",
    "        plt.subplots_adjust(bottom=0.4)\n",
    "\n",
    "        plt.savefig(\"fig/{}_{}.png\".format(id_, score))\n",
    "        plt.show()\n",
    "\n",
    "    for col in df:\n",
    "        __plot(col)\n",
    "\n",
    "def make_plot(df, title, id_, x_label=None, log_x=False):\n",
    "    def __plot(score):\n",
    "        logging.debug(df[score])\n",
    "        x = list(df.index)\n",
    "        y = df[score].values\n",
    "        # plt.figure(figsize=(16, 9))\n",
    "        plt.plot(x, y)\n",
    "        if x_label:\n",
    "            plt.xlabel(x_label)\n",
    "        plt.ylabel(score)\n",
    "        if log_x:\n",
    "            plt.xscale('log')\n",
    "        plt.title(\"{} {}\".format(title, score))\n",
    "\n",
    "        plt.savefig(\"fig/{}_{}.png\".format(id_, score))\n",
    "        plt.show()\n",
    "\n",
    "    for col in df:\n",
    "        __plot(col)"
   ],
   "metadata": {
    "collapsed": false,
    "pycharm": {
     "name": "#%%\n"
    }
   }
  },
  {
   "cell_type": "code",
   "execution_count": 20,
   "outputs": [],
   "source": [
    "# # Make plot of tuning PCA\n",
    "#\n",
    "# make_hist_plot(df, 'Tuning PCA', 'tuning_pca')"
   ],
   "metadata": {
    "collapsed": false,
    "pycharm": {
     "name": "#%%\n"
    }
   }
  },
  {
   "cell_type": "code",
   "execution_count": 21,
   "outputs": [],
   "source": [
    "# Use 20 genes and 10 cells as best PCA\n",
    "train_features, test_features = pca(x_train, x_test, 20, 10)"
   ],
   "metadata": {
    "collapsed": false,
    "pycharm": {
     "name": "#%%\n"
    }
   }
  },
  {
   "cell_type": "code",
   "execution_count": 22,
   "outputs": [],
   "source": [
    "# # Tuning over sampling per label, tested with lr\n",
    "# df = pd.DataFrame(columns=cols)\n",
    "# ll, auc, f1 = eval_model(MultiOutputClassifier(LogisticRegression(max_iter=1e4, C=0.01), n_jobs=n_jobs),\n",
    "#                          train_features, y_train, id_='lr_100_25_c_0.01')\n",
    "# df = df.append(pd.Series([ll, auc, f1], name='lr_100_25_c_0.01', index=cols))\n",
    "#\n",
    "# # MultiOutputWithSampling is a class I implemented to treat each label as separate training task and train the model.\n",
    "# from MultiOutputWithSampling import MultiOutputWithSampling\n",
    "#\n",
    "# # 0.01, 0.02, and 0.03 result in errors\n",
    "# for ss in [0.04, 0.1, 0.2, 0.25, 0.5]:\n",
    "#     ll, auc, f1 = eval_model(\n",
    "#         MultiOutputWithSampling(LogisticRegression(max_iter=1e4, C=0.01), sampling_strategy=ss, n_jobs=n_jobs),\n",
    "#         train_features, y_train, id_='lr_100_25_c_0.01_ss_{}_separate_sampling'.format(ss))\n",
    "#     df = df.append(pd.Series([ll, auc, f1], name='lr_100_25_c_0.01_ss_{}_separate_sampling'.format(ss), index=cols))\n",
    "# make_hist_plot(df, \"Tuning sampling strategy per label on LR, C=0.01\", 'sampling')\n",
    "# # No separate sampling performs better"
   ],
   "metadata": {
    "collapsed": false,
    "pycharm": {
     "name": "#%%\n"
    }
   }
  },
  {
   "cell_type": "code",
   "execution_count": 23,
   "outputs": [],
   "source": [
    "# # Ridge, Tuning a\n",
    "# tuning_a = np.logspace(-2, 3, 6)\n",
    "# df = pd.DataFrame(columns=cols)\n",
    "# for a in tuning_a:\n",
    "#     ll, auc, f1 = eval_model(MultiOutputRegressor(Ridge(alpha=a), n_jobs=n_jobs), train_features, y_train,\n",
    "#                              id_='ridge_100_25_a_{:.2f}'.format(a))\n",
    "#     df = df.append(pd.Series([ll, auc, f1], name=a, index=cols))\n",
    "# make_plot(df, \"Ridge, Tuning a\", \"ridge_tuning_a\", x_label='a', log_x=True)"
   ],
   "metadata": {
    "collapsed": false,
    "pycharm": {
     "name": "#%%\n"
    }
   }
  },
  {
   "cell_type": "code",
   "execution_count": 24,
   "outputs": [],
   "source": [
    "# The best ridge is a=1000\n",
    "best_ridge = Ridge(alpha=1000)"
   ],
   "metadata": {
    "collapsed": false,
    "pycharm": {
     "name": "#%%\n"
    }
   }
  },
  {
   "cell_type": "code",
   "execution_count": 25,
   "outputs": [],
   "source": [
    "# # Logistic Regression, Tuning C\n",
    "# tuning_c = np.logspace(-2, 3, 6)\n",
    "# df = pd.DataFrame(columns=cols)\n",
    "# for c in tuning_c:\n",
    "#     ll, auc, f1 = eval_model(MultiOutputClassifier(LogisticRegression(max_iter=1e4, C=c), n_jobs=n_jobs),\n",
    "#                              train_features, y_train, id_='lr_100_25_c_{:.2f}'.format(c))\n",
    "#     df = df.append(pd.Series([ll, auc, f1], name=c, index=cols))\n",
    "# make_plot(df, \"LR, Tuning C\", \"lr_tuning_c\", x_label='C', log_x=True)"
   ],
   "metadata": {
    "collapsed": false,
    "pycharm": {
     "name": "#%%\n"
    }
   }
  },
  {
   "cell_type": "code",
   "execution_count": 26,
   "outputs": [],
   "source": [
    "# The best LR is C=0.01\n",
    "best_lr = LogisticRegression(max_iter=1e4, C=0.01)"
   ],
   "metadata": {
    "collapsed": false,
    "pycharm": {
     "name": "#%%\n"
    }
   }
  },
  {
   "cell_type": "code",
   "execution_count": 27,
   "outputs": [],
   "source": [
    "# # Random Forest, tuning max_depth\n",
    "# df = pd.DataFrame(columns=cols)\n",
    "# for n_estimators in [50, 200, 500]:\n",
    "#     for max_depth in [1, 3, 6, 10]:\n",
    "#         ll, auc, f1 = eval_model(MultiOutputRegressor(\n",
    "#             RandomForestRegressor(n_estimators=n_estimators, max_depth=max_depth, random_state=43,\n",
    "#                                   min_samples_split=10), n_jobs=n_jobs), train_features, y_train,\n",
    "#             id_='rfr_{}_{}_43_10'.format(n_estimators, max_depth))\n",
    "#         df = df.append(pd.Series([ll, auc, f1], name=max_depth, index=cols))\n",
    "# display(df.sort_values(by='log_loss').head())\n",
    "# make_hist_plot(df, \"Random Forest, Tuning n_estimators and max_depth\", \"rfr_tuning_n_d\")"
   ],
   "metadata": {
    "collapsed": false,
    "pycharm": {
     "name": "#%%\n"
    }
   }
  },
  {
   "cell_type": "code",
   "execution_count": 28,
   "outputs": [],
   "source": [
    "# The best Random Forest is max_depth=3\n",
    "\n",
    "best_rf = MultiOutputRegressor(\n",
    "    RandomForestRegressor(n_estimators=50, max_depth=3, random_state=43, min_samples_split=10), n_jobs=n_jobs)"
   ],
   "metadata": {
    "collapsed": false,
    "pycharm": {
     "name": "#%%\n"
    }
   }
  },
  {
   "cell_type": "code",
   "execution_count": 29,
   "outputs": [],
   "source": [
    "# # NN model, Tuning hidden_layer\n",
    "# df = pd.DataFrame(columns=cols)\n",
    "# best_loss = np.inf\n",
    "# best_h = None\n",
    "# for i in [50, 100, 200]:\n",
    "#     for j in [50, 100, 200]:\n",
    "#         for k in [50, 100, 200]:\n",
    "#             ll, auc, f1 = eval_model(\n",
    "#                 MLPRegressor(hidden_layer_sizes=(i, j, k), random_state=1, max_iter=1500, learning_rate='adaptive',\n",
    "#                              warm_start=True), train_features, y_train, id_='nn_100_25_h_{}_{}_{}'.format(i, j, k))\n",
    "#             if best_loss > ll:\n",
    "#                 best_loss = ll\n",
    "#                 best_h = (i, j, k)\n",
    "#             df = df.append(pd.Series([ll, auc, f1], name='nn_100_25_h_{}_{}_{}'.format(i, j, k), index=cols))\n",
    "# make_hist_plot(df, \"Neural Network\", \"nn_tuning_hidden\")\n",
    "# logging.info(\"The best hidden layer configuration is {}\".format(best_h))\n",
    "# logging.info(\"The best log loss is {}\".format(best_loss))"
   ],
   "metadata": {
    "collapsed": false,
    "pycharm": {
     "name": "#%%\n"
    }
   }
  },
  {
   "cell_type": "code",
   "execution_count": 30,
   "outputs": [],
   "source": [
    "# The best nn is hidden_layer=(200,100,100)\n",
    "best_nn = MLPRegressor(hidden_layer_sizes=(200, 100, 100), random_state=1, max_iter=1500, warm_start=True)"
   ],
   "metadata": {
    "collapsed": false,
    "pycharm": {
     "name": "#%%\n"
    }
   }
  },
  {
   "cell_type": "code",
   "execution_count": 31,
   "outputs": [],
   "source": [
    "# Predict with the best model\n",
    "best_model = best_rf\n",
    "best_model.fit(train_features, y_train)\n",
    "y_pred = best_model.predict(test_features)\n",
    "# pickle.dump((best_model, y_pred), open(\"best_model.pkl\", 'wb'))\n",
    "# best_model, y_pred = pickle.load(open(\"best_model.pkl\", 'rb'))\n",
    "pd.DataFrame(y_pred, index=submission.index, columns=submission.columns).to_csv('submission.csv')"
   ],
   "metadata": {
    "collapsed": false,
    "pycharm": {
     "name": "#%%\n"
    }
   }
  }
 ],
 "metadata": {
  "kernelspec": {
   "display_name": "Python 3",
   "language": "python",
   "name": "python3"
  },
  "language_info": {
   "codemirror_mode": {
    "name": "ipython",
    "version": 2
   },
   "file_extension": ".py",
   "mimetype": "text/x-python",
   "name": "python",
   "nbconvert_exporter": "python",
   "pygments_lexer": "ipython2",
   "version": "2.7.6"
  }
 },
 "nbformat": 4,
 "nbformat_minor": 0
}