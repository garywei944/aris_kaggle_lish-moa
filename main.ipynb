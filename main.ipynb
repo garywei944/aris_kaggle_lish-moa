{
 "cells": [
  {
   "cell_type": "code",
   "execution_count": 55,
   "metadata": {
    "collapsed": true
   },
   "outputs": [],
   "source": [
    "from IPython.display import display\n",
    "\n",
    "import pandas as pd\n",
    "import numpy as np"
   ]
  },
  {
   "cell_type": "code",
   "execution_count": 56,
   "outputs": [],
   "source": [
    "# Configuration\n",
    "\n",
    "import logging\n",
    "import sys\n",
    "from multiprocessing import cpu_count\n",
    "\n",
    "# Configure logging level\n",
    "logging.basicConfig(stream=sys.stderr, level=logging.DEBUG)\n",
    "\n",
    "# Number of cpu cores used\n",
    "n_jobs = cpu_count()"
   ],
   "metadata": {
    "collapsed": false,
    "pycharm": {
     "name": "#%%\n"
    }
   }
  },
  {
   "cell_type": "code",
   "execution_count": 57,
   "outputs": [
    {
     "data": {
      "text/plain": "             cp_type  cp_time cp_dose     g-0     g-1     g-2     g-3     g-4  \\\nsig_id                                                                          \nid_000644bb2  trt_cp       24      D1  1.0620  0.5577 -0.2479 -0.6208 -0.1944   \nid_000779bfc  trt_cp       72      D1  0.0743  0.4087  0.2991  0.0604  1.0190   \nid_000a6266a  trt_cp       48      D1  0.6280  0.5817  1.5540 -0.0764 -0.0323   \nid_0015fd391  trt_cp       48      D1 -0.5138 -0.2491 -0.2656  0.5288  4.0620   \nid_001626bd3  trt_cp       72      D2 -0.3254 -0.4009  0.9700  0.6919  1.4180   \n\n                 g-5     g-6  ...    c-90    c-91    c-92    c-93    c-94  \\\nsig_id                        ...                                           \nid_000644bb2 -1.0120 -1.0220  ...  0.2862  0.2584  0.8076  0.5523 -0.1912   \nid_000779bfc  0.5207  0.2341  ... -0.4265  0.7543  0.4708  0.0230  0.2957   \nid_000a6266a  1.2390  0.1715  ... -0.7250 -0.6297  0.6103  0.0223 -1.3240   \nid_0015fd391 -0.8095 -1.9590  ... -2.0990 -0.6441 -5.6300 -1.3780 -0.8632   \nid_001626bd3 -0.8244 -0.2800  ...  0.0042  0.0048  0.6670  1.0690  0.5523   \n\n                c-95    c-96    c-97    c-98    c-99  \nsig_id                                                \nid_000644bb2  0.6584 -0.3981  0.2139  0.3801  0.4176  \nid_000779bfc  0.4899  0.1522  0.1241  0.6077  0.7371  \nid_000a6266a -0.3174 -0.6417 -0.2187 -1.4080  0.6931  \nid_0015fd391 -1.2880 -1.6210 -0.8784 -0.3876 -0.8154  \nid_001626bd3 -0.3031  0.1094  0.2885 -0.3786  0.7125  \n\n[5 rows x 875 columns]",
      "text/html": "<div>\n<style scoped>\n    .dataframe tbody tr th:only-of-type {\n        vertical-align: middle;\n    }\n\n    .dataframe tbody tr th {\n        vertical-align: top;\n    }\n\n    .dataframe thead th {\n        text-align: right;\n    }\n</style>\n<table border=\"1\" class=\"dataframe\">\n  <thead>\n    <tr style=\"text-align: right;\">\n      <th></th>\n      <th>cp_type</th>\n      <th>cp_time</th>\n      <th>cp_dose</th>\n      <th>g-0</th>\n      <th>g-1</th>\n      <th>g-2</th>\n      <th>g-3</th>\n      <th>g-4</th>\n      <th>g-5</th>\n      <th>g-6</th>\n      <th>...</th>\n      <th>c-90</th>\n      <th>c-91</th>\n      <th>c-92</th>\n      <th>c-93</th>\n      <th>c-94</th>\n      <th>c-95</th>\n      <th>c-96</th>\n      <th>c-97</th>\n      <th>c-98</th>\n      <th>c-99</th>\n    </tr>\n    <tr>\n      <th>sig_id</th>\n      <th></th>\n      <th></th>\n      <th></th>\n      <th></th>\n      <th></th>\n      <th></th>\n      <th></th>\n      <th></th>\n      <th></th>\n      <th></th>\n      <th></th>\n      <th></th>\n      <th></th>\n      <th></th>\n      <th></th>\n      <th></th>\n      <th></th>\n      <th></th>\n      <th></th>\n      <th></th>\n      <th></th>\n    </tr>\n  </thead>\n  <tbody>\n    <tr>\n      <th>id_000644bb2</th>\n      <td>trt_cp</td>\n      <td>24</td>\n      <td>D1</td>\n      <td>1.0620</td>\n      <td>0.5577</td>\n      <td>-0.2479</td>\n      <td>-0.6208</td>\n      <td>-0.1944</td>\n      <td>-1.0120</td>\n      <td>-1.0220</td>\n      <td>...</td>\n      <td>0.2862</td>\n      <td>0.2584</td>\n      <td>0.8076</td>\n      <td>0.5523</td>\n      <td>-0.1912</td>\n      <td>0.6584</td>\n      <td>-0.3981</td>\n      <td>0.2139</td>\n      <td>0.3801</td>\n      <td>0.4176</td>\n    </tr>\n    <tr>\n      <th>id_000779bfc</th>\n      <td>trt_cp</td>\n      <td>72</td>\n      <td>D1</td>\n      <td>0.0743</td>\n      <td>0.4087</td>\n      <td>0.2991</td>\n      <td>0.0604</td>\n      <td>1.0190</td>\n      <td>0.5207</td>\n      <td>0.2341</td>\n      <td>...</td>\n      <td>-0.4265</td>\n      <td>0.7543</td>\n      <td>0.4708</td>\n      <td>0.0230</td>\n      <td>0.2957</td>\n      <td>0.4899</td>\n      <td>0.1522</td>\n      <td>0.1241</td>\n      <td>0.6077</td>\n      <td>0.7371</td>\n    </tr>\n    <tr>\n      <th>id_000a6266a</th>\n      <td>trt_cp</td>\n      <td>48</td>\n      <td>D1</td>\n      <td>0.6280</td>\n      <td>0.5817</td>\n      <td>1.5540</td>\n      <td>-0.0764</td>\n      <td>-0.0323</td>\n      <td>1.2390</td>\n      <td>0.1715</td>\n      <td>...</td>\n      <td>-0.7250</td>\n      <td>-0.6297</td>\n      <td>0.6103</td>\n      <td>0.0223</td>\n      <td>-1.3240</td>\n      <td>-0.3174</td>\n      <td>-0.6417</td>\n      <td>-0.2187</td>\n      <td>-1.4080</td>\n      <td>0.6931</td>\n    </tr>\n    <tr>\n      <th>id_0015fd391</th>\n      <td>trt_cp</td>\n      <td>48</td>\n      <td>D1</td>\n      <td>-0.5138</td>\n      <td>-0.2491</td>\n      <td>-0.2656</td>\n      <td>0.5288</td>\n      <td>4.0620</td>\n      <td>-0.8095</td>\n      <td>-1.9590</td>\n      <td>...</td>\n      <td>-2.0990</td>\n      <td>-0.6441</td>\n      <td>-5.6300</td>\n      <td>-1.3780</td>\n      <td>-0.8632</td>\n      <td>-1.2880</td>\n      <td>-1.6210</td>\n      <td>-0.8784</td>\n      <td>-0.3876</td>\n      <td>-0.8154</td>\n    </tr>\n    <tr>\n      <th>id_001626bd3</th>\n      <td>trt_cp</td>\n      <td>72</td>\n      <td>D2</td>\n      <td>-0.3254</td>\n      <td>-0.4009</td>\n      <td>0.9700</td>\n      <td>0.6919</td>\n      <td>1.4180</td>\n      <td>-0.8244</td>\n      <td>-0.2800</td>\n      <td>...</td>\n      <td>0.0042</td>\n      <td>0.0048</td>\n      <td>0.6670</td>\n      <td>1.0690</td>\n      <td>0.5523</td>\n      <td>-0.3031</td>\n      <td>0.1094</td>\n      <td>0.2885</td>\n      <td>-0.3786</td>\n      <td>0.7125</td>\n    </tr>\n  </tbody>\n</table>\n<p>5 rows × 875 columns</p>\n</div>"
     },
     "metadata": {},
     "output_type": "display_data"
    },
    {
     "data": {
      "text/plain": "                  cp_type  cp_time cp_dose     g-0     g-1     g-2     g-3  \\\nsig_id                                                                       \nid_0004d9e33       trt_cp       24      D1 -0.5458  0.1306 -0.5135  0.4408   \nid_001897cda       trt_cp       72      D1 -0.1829  0.2320  1.2080 -0.4522   \nid_002429b5b  ctl_vehicle       24      D1  0.1852 -0.1404 -0.3911  0.1310   \nid_00276f245       trt_cp       24      D2  0.4828  0.1955  0.3825  0.4244   \nid_0027f1083       trt_cp       48      D1 -0.3979 -1.2680  1.9130  0.2057   \n\n                 g-4     g-5     g-6  ...    c-90    c-91    c-92    c-93  \\\nsig_id                                ...                                   \nid_0004d9e33  1.5500 -0.1644 -0.2140  ...  0.0981  0.7978 -0.1430 -0.2067   \nid_001897cda -0.3652 -0.3319 -1.8820  ... -0.1190 -0.1852 -1.0310 -1.3670   \nid_002429b5b -1.4380  0.2455 -0.3390  ... -0.2261  0.3370 -1.3840  0.8604   \nid_00276f245 -0.5855 -1.2020  0.5998  ...  0.1260  0.1570 -0.1784 -1.1200   \nid_0027f1083 -0.5864 -0.0166  0.5128  ...  0.4965  0.7578 -0.1580  1.0510   \n\n                c-94    c-95    c-96    c-97    c-98    c-99  \nsig_id                                                        \nid_0004d9e33 -0.2303 -0.1193  0.0210 -0.0502  0.1510 -0.7750  \nid_001897cda -0.3690 -0.5382  0.0359 -0.4764 -1.3810 -0.7300  \nid_002429b5b -1.9530 -1.0140  0.8662  1.0160  0.4924 -0.1942  \nid_00276f245 -0.4325 -0.9005  0.8131 -0.1305  0.5645 -0.5809  \nid_0027f1083  0.5742  1.0900 -0.2962 -0.5313  0.9931  1.8380  \n\n[5 rows x 875 columns]",
      "text/html": "<div>\n<style scoped>\n    .dataframe tbody tr th:only-of-type {\n        vertical-align: middle;\n    }\n\n    .dataframe tbody tr th {\n        vertical-align: top;\n    }\n\n    .dataframe thead th {\n        text-align: right;\n    }\n</style>\n<table border=\"1\" class=\"dataframe\">\n  <thead>\n    <tr style=\"text-align: right;\">\n      <th></th>\n      <th>cp_type</th>\n      <th>cp_time</th>\n      <th>cp_dose</th>\n      <th>g-0</th>\n      <th>g-1</th>\n      <th>g-2</th>\n      <th>g-3</th>\n      <th>g-4</th>\n      <th>g-5</th>\n      <th>g-6</th>\n      <th>...</th>\n      <th>c-90</th>\n      <th>c-91</th>\n      <th>c-92</th>\n      <th>c-93</th>\n      <th>c-94</th>\n      <th>c-95</th>\n      <th>c-96</th>\n      <th>c-97</th>\n      <th>c-98</th>\n      <th>c-99</th>\n    </tr>\n    <tr>\n      <th>sig_id</th>\n      <th></th>\n      <th></th>\n      <th></th>\n      <th></th>\n      <th></th>\n      <th></th>\n      <th></th>\n      <th></th>\n      <th></th>\n      <th></th>\n      <th></th>\n      <th></th>\n      <th></th>\n      <th></th>\n      <th></th>\n      <th></th>\n      <th></th>\n      <th></th>\n      <th></th>\n      <th></th>\n      <th></th>\n    </tr>\n  </thead>\n  <tbody>\n    <tr>\n      <th>id_0004d9e33</th>\n      <td>trt_cp</td>\n      <td>24</td>\n      <td>D1</td>\n      <td>-0.5458</td>\n      <td>0.1306</td>\n      <td>-0.5135</td>\n      <td>0.4408</td>\n      <td>1.5500</td>\n      <td>-0.1644</td>\n      <td>-0.2140</td>\n      <td>...</td>\n      <td>0.0981</td>\n      <td>0.7978</td>\n      <td>-0.1430</td>\n      <td>-0.2067</td>\n      <td>-0.2303</td>\n      <td>-0.1193</td>\n      <td>0.0210</td>\n      <td>-0.0502</td>\n      <td>0.1510</td>\n      <td>-0.7750</td>\n    </tr>\n    <tr>\n      <th>id_001897cda</th>\n      <td>trt_cp</td>\n      <td>72</td>\n      <td>D1</td>\n      <td>-0.1829</td>\n      <td>0.2320</td>\n      <td>1.2080</td>\n      <td>-0.4522</td>\n      <td>-0.3652</td>\n      <td>-0.3319</td>\n      <td>-1.8820</td>\n      <td>...</td>\n      <td>-0.1190</td>\n      <td>-0.1852</td>\n      <td>-1.0310</td>\n      <td>-1.3670</td>\n      <td>-0.3690</td>\n      <td>-0.5382</td>\n      <td>0.0359</td>\n      <td>-0.4764</td>\n      <td>-1.3810</td>\n      <td>-0.7300</td>\n    </tr>\n    <tr>\n      <th>id_002429b5b</th>\n      <td>ctl_vehicle</td>\n      <td>24</td>\n      <td>D1</td>\n      <td>0.1852</td>\n      <td>-0.1404</td>\n      <td>-0.3911</td>\n      <td>0.1310</td>\n      <td>-1.4380</td>\n      <td>0.2455</td>\n      <td>-0.3390</td>\n      <td>...</td>\n      <td>-0.2261</td>\n      <td>0.3370</td>\n      <td>-1.3840</td>\n      <td>0.8604</td>\n      <td>-1.9530</td>\n      <td>-1.0140</td>\n      <td>0.8662</td>\n      <td>1.0160</td>\n      <td>0.4924</td>\n      <td>-0.1942</td>\n    </tr>\n    <tr>\n      <th>id_00276f245</th>\n      <td>trt_cp</td>\n      <td>24</td>\n      <td>D2</td>\n      <td>0.4828</td>\n      <td>0.1955</td>\n      <td>0.3825</td>\n      <td>0.4244</td>\n      <td>-0.5855</td>\n      <td>-1.2020</td>\n      <td>0.5998</td>\n      <td>...</td>\n      <td>0.1260</td>\n      <td>0.1570</td>\n      <td>-0.1784</td>\n      <td>-1.1200</td>\n      <td>-0.4325</td>\n      <td>-0.9005</td>\n      <td>0.8131</td>\n      <td>-0.1305</td>\n      <td>0.5645</td>\n      <td>-0.5809</td>\n    </tr>\n    <tr>\n      <th>id_0027f1083</th>\n      <td>trt_cp</td>\n      <td>48</td>\n      <td>D1</td>\n      <td>-0.3979</td>\n      <td>-1.2680</td>\n      <td>1.9130</td>\n      <td>0.2057</td>\n      <td>-0.5864</td>\n      <td>-0.0166</td>\n      <td>0.5128</td>\n      <td>...</td>\n      <td>0.4965</td>\n      <td>0.7578</td>\n      <td>-0.1580</td>\n      <td>1.0510</td>\n      <td>0.5742</td>\n      <td>1.0900</td>\n      <td>-0.2962</td>\n      <td>-0.5313</td>\n      <td>0.9931</td>\n      <td>1.8380</td>\n    </tr>\n  </tbody>\n</table>\n<p>5 rows × 875 columns</p>\n</div>"
     },
     "metadata": {},
     "output_type": "display_data"
    },
    {
     "data": {
      "text/plain": "              5-alpha_reductase_inhibitor  11-beta-hsd1_inhibitor  \\\nsig_id                                                              \nid_000644bb2                            0                       0   \nid_000779bfc                            0                       0   \nid_000a6266a                            0                       0   \nid_0015fd391                            0                       0   \nid_001626bd3                            0                       0   \n\n              acat_inhibitor  acetylcholine_receptor_agonist  \\\nsig_id                                                         \nid_000644bb2               0                               0   \nid_000779bfc               0                               0   \nid_000a6266a               0                               0   \nid_0015fd391               0                               0   \nid_001626bd3               0                               0   \n\n              acetylcholine_receptor_antagonist  \\\nsig_id                                            \nid_000644bb2                                  0   \nid_000779bfc                                  0   \nid_000a6266a                                  0   \nid_0015fd391                                  0   \nid_001626bd3                                  0   \n\n              acetylcholinesterase_inhibitor  adenosine_receptor_agonist  \\\nsig_id                                                                     \nid_000644bb2                               0                           0   \nid_000779bfc                               0                           0   \nid_000a6266a                               0                           0   \nid_0015fd391                               0                           0   \nid_001626bd3                               0                           0   \n\n              adenosine_receptor_antagonist  adenylyl_cyclase_activator  \\\nsig_id                                                                    \nid_000644bb2                              0                           0   \nid_000779bfc                              0                           0   \nid_000a6266a                              0                           0   \nid_0015fd391                              0                           0   \nid_001626bd3                              0                           0   \n\n              adrenergic_receptor_agonist  ...  \\\nsig_id                                     ...   \nid_000644bb2                            0  ...   \nid_000779bfc                            0  ...   \nid_000a6266a                            0  ...   \nid_0015fd391                            0  ...   \nid_001626bd3                            0  ...   \n\n              tropomyosin_receptor_kinase_inhibitor  trpv_agonist  \\\nsig_id                                                              \nid_000644bb2                                      0             0   \nid_000779bfc                                      0             0   \nid_000a6266a                                      0             0   \nid_0015fd391                                      0             0   \nid_001626bd3                                      0             0   \n\n              trpv_antagonist  tubulin_inhibitor  tyrosine_kinase_inhibitor  \\\nsig_id                                                                        \nid_000644bb2                0                  0                          0   \nid_000779bfc                0                  0                          0   \nid_000a6266a                0                  0                          0   \nid_0015fd391                0                  0                          0   \nid_001626bd3                0                  0                          0   \n\n              ubiquitin_specific_protease_inhibitor  vegfr_inhibitor  \\\nsig_id                                                                 \nid_000644bb2                                      0                0   \nid_000779bfc                                      0                0   \nid_000a6266a                                      0                0   \nid_0015fd391                                      0                0   \nid_001626bd3                                      0                0   \n\n              vitamin_b  vitamin_d_receptor_agonist  wnt_inhibitor  \nsig_id                                                              \nid_000644bb2          0                           0              0  \nid_000779bfc          0                           0              0  \nid_000a6266a          0                           0              0  \nid_0015fd391          0                           0              0  \nid_001626bd3          0                           0              0  \n\n[5 rows x 206 columns]",
      "text/html": "<div>\n<style scoped>\n    .dataframe tbody tr th:only-of-type {\n        vertical-align: middle;\n    }\n\n    .dataframe tbody tr th {\n        vertical-align: top;\n    }\n\n    .dataframe thead th {\n        text-align: right;\n    }\n</style>\n<table border=\"1\" class=\"dataframe\">\n  <thead>\n    <tr style=\"text-align: right;\">\n      <th></th>\n      <th>5-alpha_reductase_inhibitor</th>\n      <th>11-beta-hsd1_inhibitor</th>\n      <th>acat_inhibitor</th>\n      <th>acetylcholine_receptor_agonist</th>\n      <th>acetylcholine_receptor_antagonist</th>\n      <th>acetylcholinesterase_inhibitor</th>\n      <th>adenosine_receptor_agonist</th>\n      <th>adenosine_receptor_antagonist</th>\n      <th>adenylyl_cyclase_activator</th>\n      <th>adrenergic_receptor_agonist</th>\n      <th>...</th>\n      <th>tropomyosin_receptor_kinase_inhibitor</th>\n      <th>trpv_agonist</th>\n      <th>trpv_antagonist</th>\n      <th>tubulin_inhibitor</th>\n      <th>tyrosine_kinase_inhibitor</th>\n      <th>ubiquitin_specific_protease_inhibitor</th>\n      <th>vegfr_inhibitor</th>\n      <th>vitamin_b</th>\n      <th>vitamin_d_receptor_agonist</th>\n      <th>wnt_inhibitor</th>\n    </tr>\n    <tr>\n      <th>sig_id</th>\n      <th></th>\n      <th></th>\n      <th></th>\n      <th></th>\n      <th></th>\n      <th></th>\n      <th></th>\n      <th></th>\n      <th></th>\n      <th></th>\n      <th></th>\n      <th></th>\n      <th></th>\n      <th></th>\n      <th></th>\n      <th></th>\n      <th></th>\n      <th></th>\n      <th></th>\n      <th></th>\n      <th></th>\n    </tr>\n  </thead>\n  <tbody>\n    <tr>\n      <th>id_000644bb2</th>\n      <td>0</td>\n      <td>0</td>\n      <td>0</td>\n      <td>0</td>\n      <td>0</td>\n      <td>0</td>\n      <td>0</td>\n      <td>0</td>\n      <td>0</td>\n      <td>0</td>\n      <td>...</td>\n      <td>0</td>\n      <td>0</td>\n      <td>0</td>\n      <td>0</td>\n      <td>0</td>\n      <td>0</td>\n      <td>0</td>\n      <td>0</td>\n      <td>0</td>\n      <td>0</td>\n    </tr>\n    <tr>\n      <th>id_000779bfc</th>\n      <td>0</td>\n      <td>0</td>\n      <td>0</td>\n      <td>0</td>\n      <td>0</td>\n      <td>0</td>\n      <td>0</td>\n      <td>0</td>\n      <td>0</td>\n      <td>0</td>\n      <td>...</td>\n      <td>0</td>\n      <td>0</td>\n      <td>0</td>\n      <td>0</td>\n      <td>0</td>\n      <td>0</td>\n      <td>0</td>\n      <td>0</td>\n      <td>0</td>\n      <td>0</td>\n    </tr>\n    <tr>\n      <th>id_000a6266a</th>\n      <td>0</td>\n      <td>0</td>\n      <td>0</td>\n      <td>0</td>\n      <td>0</td>\n      <td>0</td>\n      <td>0</td>\n      <td>0</td>\n      <td>0</td>\n      <td>0</td>\n      <td>...</td>\n      <td>0</td>\n      <td>0</td>\n      <td>0</td>\n      <td>0</td>\n      <td>0</td>\n      <td>0</td>\n      <td>0</td>\n      <td>0</td>\n      <td>0</td>\n      <td>0</td>\n    </tr>\n    <tr>\n      <th>id_0015fd391</th>\n      <td>0</td>\n      <td>0</td>\n      <td>0</td>\n      <td>0</td>\n      <td>0</td>\n      <td>0</td>\n      <td>0</td>\n      <td>0</td>\n      <td>0</td>\n      <td>0</td>\n      <td>...</td>\n      <td>0</td>\n      <td>0</td>\n      <td>0</td>\n      <td>0</td>\n      <td>0</td>\n      <td>0</td>\n      <td>0</td>\n      <td>0</td>\n      <td>0</td>\n      <td>0</td>\n    </tr>\n    <tr>\n      <th>id_001626bd3</th>\n      <td>0</td>\n      <td>0</td>\n      <td>0</td>\n      <td>0</td>\n      <td>0</td>\n      <td>0</td>\n      <td>0</td>\n      <td>0</td>\n      <td>0</td>\n      <td>0</td>\n      <td>...</td>\n      <td>0</td>\n      <td>0</td>\n      <td>0</td>\n      <td>0</td>\n      <td>0</td>\n      <td>0</td>\n      <td>0</td>\n      <td>0</td>\n      <td>0</td>\n      <td>0</td>\n    </tr>\n  </tbody>\n</table>\n<p>5 rows × 206 columns</p>\n</div>"
     },
     "metadata": {},
     "output_type": "display_data"
    },
    {
     "data": {
      "text/plain": "              5-alpha_reductase_inhibitor  11-beta-hsd1_inhibitor  \\\nsig_id                                                              \nid_0004d9e33                          0.5                     0.5   \nid_001897cda                          0.5                     0.5   \nid_002429b5b                          0.5                     0.5   \nid_00276f245                          0.5                     0.5   \nid_0027f1083                          0.5                     0.5   \n\n              acat_inhibitor  acetylcholine_receptor_agonist  \\\nsig_id                                                         \nid_0004d9e33             0.5                             0.5   \nid_001897cda             0.5                             0.5   \nid_002429b5b             0.5                             0.5   \nid_00276f245             0.5                             0.5   \nid_0027f1083             0.5                             0.5   \n\n              acetylcholine_receptor_antagonist  \\\nsig_id                                            \nid_0004d9e33                                0.5   \nid_001897cda                                0.5   \nid_002429b5b                                0.5   \nid_00276f245                                0.5   \nid_0027f1083                                0.5   \n\n              acetylcholinesterase_inhibitor  adenosine_receptor_agonist  \\\nsig_id                                                                     \nid_0004d9e33                             0.5                         0.5   \nid_001897cda                             0.5                         0.5   \nid_002429b5b                             0.5                         0.5   \nid_00276f245                             0.5                         0.5   \nid_0027f1083                             0.5                         0.5   \n\n              adenosine_receptor_antagonist  adenylyl_cyclase_activator  \\\nsig_id                                                                    \nid_0004d9e33                            0.5                         0.5   \nid_001897cda                            0.5                         0.5   \nid_002429b5b                            0.5                         0.5   \nid_00276f245                            0.5                         0.5   \nid_0027f1083                            0.5                         0.5   \n\n              adrenergic_receptor_agonist  ...  \\\nsig_id                                     ...   \nid_0004d9e33                          0.5  ...   \nid_001897cda                          0.5  ...   \nid_002429b5b                          0.5  ...   \nid_00276f245                          0.5  ...   \nid_0027f1083                          0.5  ...   \n\n              tropomyosin_receptor_kinase_inhibitor  trpv_agonist  \\\nsig_id                                                              \nid_0004d9e33                                    0.5           0.5   \nid_001897cda                                    0.5           0.5   \nid_002429b5b                                    0.5           0.5   \nid_00276f245                                    0.5           0.5   \nid_0027f1083                                    0.5           0.5   \n\n              trpv_antagonist  tubulin_inhibitor  tyrosine_kinase_inhibitor  \\\nsig_id                                                                        \nid_0004d9e33              0.5                0.5                        0.5   \nid_001897cda              0.5                0.5                        0.5   \nid_002429b5b              0.5                0.5                        0.5   \nid_00276f245              0.5                0.5                        0.5   \nid_0027f1083              0.5                0.5                        0.5   \n\n              ubiquitin_specific_protease_inhibitor  vegfr_inhibitor  \\\nsig_id                                                                 \nid_0004d9e33                                    0.5              0.5   \nid_001897cda                                    0.5              0.5   \nid_002429b5b                                    0.5              0.5   \nid_00276f245                                    0.5              0.5   \nid_0027f1083                                    0.5              0.5   \n\n              vitamin_b  vitamin_d_receptor_agonist  wnt_inhibitor  \nsig_id                                                              \nid_0004d9e33        0.5                         0.5            0.5  \nid_001897cda        0.5                         0.5            0.5  \nid_002429b5b        0.5                         0.5            0.5  \nid_00276f245        0.5                         0.5            0.5  \nid_0027f1083        0.5                         0.5            0.5  \n\n[5 rows x 206 columns]",
      "text/html": "<div>\n<style scoped>\n    .dataframe tbody tr th:only-of-type {\n        vertical-align: middle;\n    }\n\n    .dataframe tbody tr th {\n        vertical-align: top;\n    }\n\n    .dataframe thead th {\n        text-align: right;\n    }\n</style>\n<table border=\"1\" class=\"dataframe\">\n  <thead>\n    <tr style=\"text-align: right;\">\n      <th></th>\n      <th>5-alpha_reductase_inhibitor</th>\n      <th>11-beta-hsd1_inhibitor</th>\n      <th>acat_inhibitor</th>\n      <th>acetylcholine_receptor_agonist</th>\n      <th>acetylcholine_receptor_antagonist</th>\n      <th>acetylcholinesterase_inhibitor</th>\n      <th>adenosine_receptor_agonist</th>\n      <th>adenosine_receptor_antagonist</th>\n      <th>adenylyl_cyclase_activator</th>\n      <th>adrenergic_receptor_agonist</th>\n      <th>...</th>\n      <th>tropomyosin_receptor_kinase_inhibitor</th>\n      <th>trpv_agonist</th>\n      <th>trpv_antagonist</th>\n      <th>tubulin_inhibitor</th>\n      <th>tyrosine_kinase_inhibitor</th>\n      <th>ubiquitin_specific_protease_inhibitor</th>\n      <th>vegfr_inhibitor</th>\n      <th>vitamin_b</th>\n      <th>vitamin_d_receptor_agonist</th>\n      <th>wnt_inhibitor</th>\n    </tr>\n    <tr>\n      <th>sig_id</th>\n      <th></th>\n      <th></th>\n      <th></th>\n      <th></th>\n      <th></th>\n      <th></th>\n      <th></th>\n      <th></th>\n      <th></th>\n      <th></th>\n      <th></th>\n      <th></th>\n      <th></th>\n      <th></th>\n      <th></th>\n      <th></th>\n      <th></th>\n      <th></th>\n      <th></th>\n      <th></th>\n      <th></th>\n    </tr>\n  </thead>\n  <tbody>\n    <tr>\n      <th>id_0004d9e33</th>\n      <td>0.5</td>\n      <td>0.5</td>\n      <td>0.5</td>\n      <td>0.5</td>\n      <td>0.5</td>\n      <td>0.5</td>\n      <td>0.5</td>\n      <td>0.5</td>\n      <td>0.5</td>\n      <td>0.5</td>\n      <td>...</td>\n      <td>0.5</td>\n      <td>0.5</td>\n      <td>0.5</td>\n      <td>0.5</td>\n      <td>0.5</td>\n      <td>0.5</td>\n      <td>0.5</td>\n      <td>0.5</td>\n      <td>0.5</td>\n      <td>0.5</td>\n    </tr>\n    <tr>\n      <th>id_001897cda</th>\n      <td>0.5</td>\n      <td>0.5</td>\n      <td>0.5</td>\n      <td>0.5</td>\n      <td>0.5</td>\n      <td>0.5</td>\n      <td>0.5</td>\n      <td>0.5</td>\n      <td>0.5</td>\n      <td>0.5</td>\n      <td>...</td>\n      <td>0.5</td>\n      <td>0.5</td>\n      <td>0.5</td>\n      <td>0.5</td>\n      <td>0.5</td>\n      <td>0.5</td>\n      <td>0.5</td>\n      <td>0.5</td>\n      <td>0.5</td>\n      <td>0.5</td>\n    </tr>\n    <tr>\n      <th>id_002429b5b</th>\n      <td>0.5</td>\n      <td>0.5</td>\n      <td>0.5</td>\n      <td>0.5</td>\n      <td>0.5</td>\n      <td>0.5</td>\n      <td>0.5</td>\n      <td>0.5</td>\n      <td>0.5</td>\n      <td>0.5</td>\n      <td>...</td>\n      <td>0.5</td>\n      <td>0.5</td>\n      <td>0.5</td>\n      <td>0.5</td>\n      <td>0.5</td>\n      <td>0.5</td>\n      <td>0.5</td>\n      <td>0.5</td>\n      <td>0.5</td>\n      <td>0.5</td>\n    </tr>\n    <tr>\n      <th>id_00276f245</th>\n      <td>0.5</td>\n      <td>0.5</td>\n      <td>0.5</td>\n      <td>0.5</td>\n      <td>0.5</td>\n      <td>0.5</td>\n      <td>0.5</td>\n      <td>0.5</td>\n      <td>0.5</td>\n      <td>0.5</td>\n      <td>...</td>\n      <td>0.5</td>\n      <td>0.5</td>\n      <td>0.5</td>\n      <td>0.5</td>\n      <td>0.5</td>\n      <td>0.5</td>\n      <td>0.5</td>\n      <td>0.5</td>\n      <td>0.5</td>\n      <td>0.5</td>\n    </tr>\n    <tr>\n      <th>id_0027f1083</th>\n      <td>0.5</td>\n      <td>0.5</td>\n      <td>0.5</td>\n      <td>0.5</td>\n      <td>0.5</td>\n      <td>0.5</td>\n      <td>0.5</td>\n      <td>0.5</td>\n      <td>0.5</td>\n      <td>0.5</td>\n      <td>...</td>\n      <td>0.5</td>\n      <td>0.5</td>\n      <td>0.5</td>\n      <td>0.5</td>\n      <td>0.5</td>\n      <td>0.5</td>\n      <td>0.5</td>\n      <td>0.5</td>\n      <td>0.5</td>\n      <td>0.5</td>\n    </tr>\n  </tbody>\n</table>\n<p>5 rows × 206 columns</p>\n</div>"
     },
     "metadata": {},
     "output_type": "display_data"
    }
   ],
   "source": [
    "# Load Data\n",
    "\n",
    "x_train = pd.read_csv('data/train_features.csv', index_col=0)\n",
    "x_test = pd.read_csv('data/test_features.csv', index_col=0)\n",
    "y_train = pd.read_csv('data/train_targets_scored.csv', index_col=0)\n",
    "submission = pd.read_csv('data/sample_submission.csv', index_col=0)\n",
    "\n",
    "display(x_train.head())\n",
    "display(x_test.head())\n",
    "display(y_train.head())\n",
    "display(submission.head())"
   ],
   "metadata": {
    "collapsed": false,
    "pycharm": {
     "name": "#%%\n"
    }
   }
  },
  {
   "cell_type": "code",
   "execution_count": 58,
   "outputs": [
    {
     "data": {
      "text/plain": "              cp_type  cp_time  cp_dose     g-0     g-1     g-2     g-3  \\\nsig_id                                                                    \nid_000644bb2        0        1        0  1.0620  0.5577 -0.2479 -0.6208   \nid_000779bfc        0        3        0  0.0743  0.4087  0.2991  0.0604   \nid_000a6266a        0        2        0  0.6280  0.5817  1.5540 -0.0764   \nid_0015fd391        0        2        0 -0.5138 -0.2491 -0.2656  0.5288   \nid_001626bd3        0        3        1 -0.3254 -0.4009  0.9700  0.6919   \n\n                 g-4     g-5     g-6  ...    c-90    c-91    c-92    c-93  \\\nsig_id                                ...                                   \nid_000644bb2 -0.1944 -1.0120 -1.0220  ...  0.2862  0.2584  0.8076  0.5523   \nid_000779bfc  1.0190  0.5207  0.2341  ... -0.4265  0.7543  0.4708  0.0230   \nid_000a6266a -0.0323  1.2390  0.1715  ... -0.7250 -0.6297  0.6103  0.0223   \nid_0015fd391  4.0620 -0.8095 -1.9590  ... -2.0990 -0.6441 -5.6300 -1.3780   \nid_001626bd3  1.4180 -0.8244 -0.2800  ...  0.0042  0.0048  0.6670  1.0690   \n\n                c-94    c-95    c-96    c-97    c-98    c-99  \nsig_id                                                        \nid_000644bb2 -0.1912  0.6584 -0.3981  0.2139  0.3801  0.4176  \nid_000779bfc  0.2957  0.4899  0.1522  0.1241  0.6077  0.7371  \nid_000a6266a -1.3240 -0.3174 -0.6417 -0.2187 -1.4080  0.6931  \nid_0015fd391 -0.8632 -1.2880 -1.6210 -0.8784 -0.3876 -0.8154  \nid_001626bd3  0.5523 -0.3031  0.1094  0.2885 -0.3786  0.7125  \n\n[5 rows x 875 columns]",
      "text/html": "<div>\n<style scoped>\n    .dataframe tbody tr th:only-of-type {\n        vertical-align: middle;\n    }\n\n    .dataframe tbody tr th {\n        vertical-align: top;\n    }\n\n    .dataframe thead th {\n        text-align: right;\n    }\n</style>\n<table border=\"1\" class=\"dataframe\">\n  <thead>\n    <tr style=\"text-align: right;\">\n      <th></th>\n      <th>cp_type</th>\n      <th>cp_time</th>\n      <th>cp_dose</th>\n      <th>g-0</th>\n      <th>g-1</th>\n      <th>g-2</th>\n      <th>g-3</th>\n      <th>g-4</th>\n      <th>g-5</th>\n      <th>g-6</th>\n      <th>...</th>\n      <th>c-90</th>\n      <th>c-91</th>\n      <th>c-92</th>\n      <th>c-93</th>\n      <th>c-94</th>\n      <th>c-95</th>\n      <th>c-96</th>\n      <th>c-97</th>\n      <th>c-98</th>\n      <th>c-99</th>\n    </tr>\n    <tr>\n      <th>sig_id</th>\n      <th></th>\n      <th></th>\n      <th></th>\n      <th></th>\n      <th></th>\n      <th></th>\n      <th></th>\n      <th></th>\n      <th></th>\n      <th></th>\n      <th></th>\n      <th></th>\n      <th></th>\n      <th></th>\n      <th></th>\n      <th></th>\n      <th></th>\n      <th></th>\n      <th></th>\n      <th></th>\n      <th></th>\n    </tr>\n  </thead>\n  <tbody>\n    <tr>\n      <th>id_000644bb2</th>\n      <td>0</td>\n      <td>1</td>\n      <td>0</td>\n      <td>1.0620</td>\n      <td>0.5577</td>\n      <td>-0.2479</td>\n      <td>-0.6208</td>\n      <td>-0.1944</td>\n      <td>-1.0120</td>\n      <td>-1.0220</td>\n      <td>...</td>\n      <td>0.2862</td>\n      <td>0.2584</td>\n      <td>0.8076</td>\n      <td>0.5523</td>\n      <td>-0.1912</td>\n      <td>0.6584</td>\n      <td>-0.3981</td>\n      <td>0.2139</td>\n      <td>0.3801</td>\n      <td>0.4176</td>\n    </tr>\n    <tr>\n      <th>id_000779bfc</th>\n      <td>0</td>\n      <td>3</td>\n      <td>0</td>\n      <td>0.0743</td>\n      <td>0.4087</td>\n      <td>0.2991</td>\n      <td>0.0604</td>\n      <td>1.0190</td>\n      <td>0.5207</td>\n      <td>0.2341</td>\n      <td>...</td>\n      <td>-0.4265</td>\n      <td>0.7543</td>\n      <td>0.4708</td>\n      <td>0.0230</td>\n      <td>0.2957</td>\n      <td>0.4899</td>\n      <td>0.1522</td>\n      <td>0.1241</td>\n      <td>0.6077</td>\n      <td>0.7371</td>\n    </tr>\n    <tr>\n      <th>id_000a6266a</th>\n      <td>0</td>\n      <td>2</td>\n      <td>0</td>\n      <td>0.6280</td>\n      <td>0.5817</td>\n      <td>1.5540</td>\n      <td>-0.0764</td>\n      <td>-0.0323</td>\n      <td>1.2390</td>\n      <td>0.1715</td>\n      <td>...</td>\n      <td>-0.7250</td>\n      <td>-0.6297</td>\n      <td>0.6103</td>\n      <td>0.0223</td>\n      <td>-1.3240</td>\n      <td>-0.3174</td>\n      <td>-0.6417</td>\n      <td>-0.2187</td>\n      <td>-1.4080</td>\n      <td>0.6931</td>\n    </tr>\n    <tr>\n      <th>id_0015fd391</th>\n      <td>0</td>\n      <td>2</td>\n      <td>0</td>\n      <td>-0.5138</td>\n      <td>-0.2491</td>\n      <td>-0.2656</td>\n      <td>0.5288</td>\n      <td>4.0620</td>\n      <td>-0.8095</td>\n      <td>-1.9590</td>\n      <td>...</td>\n      <td>-2.0990</td>\n      <td>-0.6441</td>\n      <td>-5.6300</td>\n      <td>-1.3780</td>\n      <td>-0.8632</td>\n      <td>-1.2880</td>\n      <td>-1.6210</td>\n      <td>-0.8784</td>\n      <td>-0.3876</td>\n      <td>-0.8154</td>\n    </tr>\n    <tr>\n      <th>id_001626bd3</th>\n      <td>0</td>\n      <td>3</td>\n      <td>1</td>\n      <td>-0.3254</td>\n      <td>-0.4009</td>\n      <td>0.9700</td>\n      <td>0.6919</td>\n      <td>1.4180</td>\n      <td>-0.8244</td>\n      <td>-0.2800</td>\n      <td>...</td>\n      <td>0.0042</td>\n      <td>0.0048</td>\n      <td>0.6670</td>\n      <td>1.0690</td>\n      <td>0.5523</td>\n      <td>-0.3031</td>\n      <td>0.1094</td>\n      <td>0.2885</td>\n      <td>-0.3786</td>\n      <td>0.7125</td>\n    </tr>\n  </tbody>\n</table>\n<p>5 rows × 875 columns</p>\n</div>"
     },
     "metadata": {},
     "output_type": "display_data"
    },
    {
     "data": {
      "text/plain": "              cp_type  cp_time  cp_dose     g-0     g-1     g-2     g-3  \\\nsig_id                                                                    \nid_0004d9e33        0        1        0 -0.5458  0.1306 -0.5135  0.4408   \nid_001897cda        0        3        0 -0.1829  0.2320  1.2080 -0.4522   \nid_002429b5b        1        1        0  0.1852 -0.1404 -0.3911  0.1310   \nid_00276f245        0        1        1  0.4828  0.1955  0.3825  0.4244   \nid_0027f1083        0        2        0 -0.3979 -1.2680  1.9130  0.2057   \n\n                 g-4     g-5     g-6  ...    c-90    c-91    c-92    c-93  \\\nsig_id                                ...                                   \nid_0004d9e33  1.5500 -0.1644 -0.2140  ...  0.0981  0.7978 -0.1430 -0.2067   \nid_001897cda -0.3652 -0.3319 -1.8820  ... -0.1190 -0.1852 -1.0310 -1.3670   \nid_002429b5b -1.4380  0.2455 -0.3390  ... -0.2261  0.3370 -1.3840  0.8604   \nid_00276f245 -0.5855 -1.2020  0.5998  ...  0.1260  0.1570 -0.1784 -1.1200   \nid_0027f1083 -0.5864 -0.0166  0.5128  ...  0.4965  0.7578 -0.1580  1.0510   \n\n                c-94    c-95    c-96    c-97    c-98    c-99  \nsig_id                                                        \nid_0004d9e33 -0.2303 -0.1193  0.0210 -0.0502  0.1510 -0.7750  \nid_001897cda -0.3690 -0.5382  0.0359 -0.4764 -1.3810 -0.7300  \nid_002429b5b -1.9530 -1.0140  0.8662  1.0160  0.4924 -0.1942  \nid_00276f245 -0.4325 -0.9005  0.8131 -0.1305  0.5645 -0.5809  \nid_0027f1083  0.5742  1.0900 -0.2962 -0.5313  0.9931  1.8380  \n\n[5 rows x 875 columns]",
      "text/html": "<div>\n<style scoped>\n    .dataframe tbody tr th:only-of-type {\n        vertical-align: middle;\n    }\n\n    .dataframe tbody tr th {\n        vertical-align: top;\n    }\n\n    .dataframe thead th {\n        text-align: right;\n    }\n</style>\n<table border=\"1\" class=\"dataframe\">\n  <thead>\n    <tr style=\"text-align: right;\">\n      <th></th>\n      <th>cp_type</th>\n      <th>cp_time</th>\n      <th>cp_dose</th>\n      <th>g-0</th>\n      <th>g-1</th>\n      <th>g-2</th>\n      <th>g-3</th>\n      <th>g-4</th>\n      <th>g-5</th>\n      <th>g-6</th>\n      <th>...</th>\n      <th>c-90</th>\n      <th>c-91</th>\n      <th>c-92</th>\n      <th>c-93</th>\n      <th>c-94</th>\n      <th>c-95</th>\n      <th>c-96</th>\n      <th>c-97</th>\n      <th>c-98</th>\n      <th>c-99</th>\n    </tr>\n    <tr>\n      <th>sig_id</th>\n      <th></th>\n      <th></th>\n      <th></th>\n      <th></th>\n      <th></th>\n      <th></th>\n      <th></th>\n      <th></th>\n      <th></th>\n      <th></th>\n      <th></th>\n      <th></th>\n      <th></th>\n      <th></th>\n      <th></th>\n      <th></th>\n      <th></th>\n      <th></th>\n      <th></th>\n      <th></th>\n      <th></th>\n    </tr>\n  </thead>\n  <tbody>\n    <tr>\n      <th>id_0004d9e33</th>\n      <td>0</td>\n      <td>1</td>\n      <td>0</td>\n      <td>-0.5458</td>\n      <td>0.1306</td>\n      <td>-0.5135</td>\n      <td>0.4408</td>\n      <td>1.5500</td>\n      <td>-0.1644</td>\n      <td>-0.2140</td>\n      <td>...</td>\n      <td>0.0981</td>\n      <td>0.7978</td>\n      <td>-0.1430</td>\n      <td>-0.2067</td>\n      <td>-0.2303</td>\n      <td>-0.1193</td>\n      <td>0.0210</td>\n      <td>-0.0502</td>\n      <td>0.1510</td>\n      <td>-0.7750</td>\n    </tr>\n    <tr>\n      <th>id_001897cda</th>\n      <td>0</td>\n      <td>3</td>\n      <td>0</td>\n      <td>-0.1829</td>\n      <td>0.2320</td>\n      <td>1.2080</td>\n      <td>-0.4522</td>\n      <td>-0.3652</td>\n      <td>-0.3319</td>\n      <td>-1.8820</td>\n      <td>...</td>\n      <td>-0.1190</td>\n      <td>-0.1852</td>\n      <td>-1.0310</td>\n      <td>-1.3670</td>\n      <td>-0.3690</td>\n      <td>-0.5382</td>\n      <td>0.0359</td>\n      <td>-0.4764</td>\n      <td>-1.3810</td>\n      <td>-0.7300</td>\n    </tr>\n    <tr>\n      <th>id_002429b5b</th>\n      <td>1</td>\n      <td>1</td>\n      <td>0</td>\n      <td>0.1852</td>\n      <td>-0.1404</td>\n      <td>-0.3911</td>\n      <td>0.1310</td>\n      <td>-1.4380</td>\n      <td>0.2455</td>\n      <td>-0.3390</td>\n      <td>...</td>\n      <td>-0.2261</td>\n      <td>0.3370</td>\n      <td>-1.3840</td>\n      <td>0.8604</td>\n      <td>-1.9530</td>\n      <td>-1.0140</td>\n      <td>0.8662</td>\n      <td>1.0160</td>\n      <td>0.4924</td>\n      <td>-0.1942</td>\n    </tr>\n    <tr>\n      <th>id_00276f245</th>\n      <td>0</td>\n      <td>1</td>\n      <td>1</td>\n      <td>0.4828</td>\n      <td>0.1955</td>\n      <td>0.3825</td>\n      <td>0.4244</td>\n      <td>-0.5855</td>\n      <td>-1.2020</td>\n      <td>0.5998</td>\n      <td>...</td>\n      <td>0.1260</td>\n      <td>0.1570</td>\n      <td>-0.1784</td>\n      <td>-1.1200</td>\n      <td>-0.4325</td>\n      <td>-0.9005</td>\n      <td>0.8131</td>\n      <td>-0.1305</td>\n      <td>0.5645</td>\n      <td>-0.5809</td>\n    </tr>\n    <tr>\n      <th>id_0027f1083</th>\n      <td>0</td>\n      <td>2</td>\n      <td>0</td>\n      <td>-0.3979</td>\n      <td>-1.2680</td>\n      <td>1.9130</td>\n      <td>0.2057</td>\n      <td>-0.5864</td>\n      <td>-0.0166</td>\n      <td>0.5128</td>\n      <td>...</td>\n      <td>0.4965</td>\n      <td>0.7578</td>\n      <td>-0.1580</td>\n      <td>1.0510</td>\n      <td>0.5742</td>\n      <td>1.0900</td>\n      <td>-0.2962</td>\n      <td>-0.5313</td>\n      <td>0.9931</td>\n      <td>1.8380</td>\n    </tr>\n  </tbody>\n</table>\n<p>5 rows × 875 columns</p>\n</div>"
     },
     "metadata": {},
     "output_type": "display_data"
    }
   ],
   "source": [
    "# Preprocess Data\n",
    "\n",
    "def preprocess(df):\n",
    "    df['cp_type'] = df['cp_type'].map({'trt_cp': 0, 'ctl_vehicle': 1})\n",
    "    df['cp_time'] = df['cp_time'].map({24: 1, 48: 2, 72: 3})\n",
    "    df['cp_dose'] = df['cp_dose'].map({'D1': 0, 'D2': 1})\n",
    "    return df\n",
    "\n",
    "x_train = preprocess(x_train)\n",
    "x_test = preprocess(x_test)\n",
    "\n",
    "display(x_train.head())\n",
    "display(x_test.head())"
   ],
   "metadata": {
    "collapsed": false,
    "pycharm": {
     "name": "#%%\n"
    }
   }
  },
  {
   "cell_type": "code",
   "execution_count": 59,
   "outputs": [],
   "source": [
    "# Define the scorer function\n",
    "\n",
    "from sklearn.metrics import roc_auc_score, log_loss, f1_score\n",
    "\n",
    "def scorer(y_true, y_pred):\n",
    "    log_loss_, auc, f1 = 0,0,0\n",
    "\n",
    "    # Add a dummy prediction to y_true and y_pred in case some label has all 0's\n",
    "    y_true = np.vstack((y_true, np.ones((1, y_true.shape[1]))))\n",
    "    y_pred = np.vstack((y_pred, np.ones((1, y_pred.shape[1]))))\n",
    "\n",
    "    v = y_true.shape[1]\n",
    "    for i in range(v):\n",
    "        log_loss_ += log_loss(y_true[:, i], y_pred[:, i])\n",
    "        auc += roc_auc_score(y_true[:, i], y_pred[:, i])\n",
    "        f1 += f1_score(y_true[:, i], y_pred[:, i] > 0.5)\n",
    "    return log_loss_ / v, auc / v, f1 / v"
   ],
   "metadata": {
    "collapsed": false,
    "pycharm": {
     "name": "#%%\n"
    }
   }
  },
  {
   "cell_type": "code",
   "execution_count": 60,
   "outputs": [],
   "source": [
    "# Define the method to evaluate a model\n",
    "\n",
    "from skmultilearn.model_selection import IterativeStratification\n",
    "\n",
    "import pickle\n",
    "from time import time\n",
    "from pathlib import Path\n",
    "from os import path\n",
    "\n",
    "def eval_model(model, _x_train, _y_train, n_splits=3, id_=None):\n",
    "    start_time = time()\n",
    "    logging.info('*' * 20)\n",
    "    logging.info(\"Evaluating model {}\".format(id_ if id_ else model))\n",
    "\n",
    "    output = None\n",
    "\n",
    "    # Try to load saved result from disk if exists\n",
    "    if id_:\n",
    "        output = Path('output') / id_\n",
    "        output.mkdir(parents=True, exist_ok=True)\n",
    "        if path.exists(output / 'score.pkl'):\n",
    "            logging.debug(\"Loading result from disk\")\n",
    "            log_loss_, auc, f1 = pickle.load(open(output / 'score.pkl', 'rb'))\n",
    "            logging.info(\"The Average Log Loss is {}\".format(log_loss_))\n",
    "            logging.info(\"The Average AUC is {}\".format(auc))\n",
    "            logging.info(\"The Average f1 is {}\".format(f1))\n",
    "            return log_loss_, auc, f1\n",
    "\n",
    "    # Convert data into numpy\n",
    "    _x_train = np.array(_x_train)\n",
    "    _y_train = np.array(_y_train)\n",
    "\n",
    "    # Deprecated sklearn k-forld\n",
    "    # kf = StratifiedKFold(n_splits=n_splits)\n",
    "    # kf.get_n_splits(X_train)\n",
    "\n",
    "    # Use Iterative stratification for multi-label data to handle imbalance\n",
    "    kf = IterativeStratification(n_splits=n_splits, order=1)\n",
    "\n",
    "    log_loss_, auc, f1 = 0.0, 0.0, 0.0\n",
    "    for i, (train_index, test_index) in enumerate(kf.split(_x_train, _y_train)):\n",
    "        x_train_, x_val_ = _x_train[train_index], _x_train[test_index]\n",
    "        y_train_, y_val_ = _y_train[train_index], _y_train[test_index]\n",
    "\n",
    "        # Add dummy sample to make sure every column has 2 labels\n",
    "        x_train_ = np.vstack((x_train_, np.zeros((1, x_train_.shape[1]))))\n",
    "        y_train_ = np.vstack((y_train_, np.ones((1, y_train_.shape[1]))))\n",
    "\n",
    "        y_pred_ = model.fit(x_train_, y_train_).predict(x_val_)\n",
    "\n",
    "        log_loss_val, auc_val, f1_val = scorer(y_val_, y_pred_)\n",
    "\n",
    "        # Pickle y_val_ and y_pred_\n",
    "        if id_:\n",
    "            pickle.dump((y_val_, y_pred_), open(output / \"cv_{}.pkl\".format(i), 'wb'))\n",
    "\n",
    "        # Update the scores\n",
    "        log_loss_ += log_loss_val\n",
    "        auc += auc_val\n",
    "        f1 += f1_val\n",
    "\n",
    "    log_loss_ /= n_splits\n",
    "    auc /= n_splits\n",
    "    f1 /= n_splits\n",
    "    if id_:\n",
    "        pickle.dump((log_loss_, auc, f1), open(output / 'score.pkl', 'wb'))\n",
    "    logging.info(\"The Average Log Loss is {}\".format(log_loss_))\n",
    "    logging.info(\"The Average AUC is {}\".format(auc))\n",
    "    logging.info(\"The Average f1 is {}\".format(f1))\n",
    "    logging.debug(\"Used {:.2f}s\".format(time() - start_time))\n",
    "    return log_loss_, auc, f1"
   ],
   "metadata": {
    "collapsed": false,
    "pycharm": {
     "name": "#%%\n"
    }
   }
  },
  {
   "cell_type": "code",
   "execution_count": 61,
   "outputs": [
    {
     "name": "stderr",
     "output_type": "stream",
     "text": [
      "INFO:root:********************\n",
      "INFO:root:Evaluating model lr\n",
      "DEBUG:root:Loading result from disk\n",
      "INFO:root:The Average Log Loss is 0.03352318677655003\n",
      "INFO:root:The Average AUC is 0.7342847552317289\n",
      "INFO:root:The Average f1 is 0.21727000338508906\n"
     ]
    },
    {
     "data": {
      "text/plain": "(0.03352318677655003, 0.7342847552317289, 0.21727000338508906)"
     },
     "execution_count": 61,
     "metadata": {},
     "output_type": "execute_result"
    }
   ],
   "source": [
    "# Run a Linear Regression for demo\n",
    "\n",
    "from sklearn.linear_model import LogisticRegression, LinearRegression, Ridge\n",
    "from sklearn.ensemble import RandomForestClassifier, StackingClassifier, RandomForestRegressor, StackingRegressor\n",
    "from sklearn.multioutput import MultiOutputClassifier, MultiOutputRegressor\n",
    "from sklearn.neural_network import MLPClassifier, MLPRegressor\n",
    "\n",
    "eval_model(LinearRegression(n_jobs=n_jobs), x_train, y_train, id_='lr')"
   ],
   "metadata": {
    "collapsed": false,
    "pycharm": {
     "name": "#%%\n"
    }
   }
  },
  {
   "cell_type": "code",
   "execution_count": 62,
   "outputs": [],
   "source": [
    "# Define PCA Function\n",
    "\n",
    "from sklearn.decomposition import PCA\n",
    "\n",
    "def pca(_x_train, _x_test, n_gene=200, n_cell=50):\n",
    "    genes = [col for col in _x_train.columns if col.startswith('g-')]\n",
    "    cells = [col for col in _x_train.columns if col.startswith('c-')]\n",
    "\n",
    "    # PCA genes\n",
    "    data_genes = pd.concat([pd.DataFrame(_x_train[genes]), pd.DataFrame(_x_test[genes])])\n",
    "    data_genes_pca = PCA(n_components=n_gene, random_state=42).fit_transform(data_genes)\n",
    "\n",
    "    train_gene_pca = data_genes_pca[:_x_train.shape[0]]\n",
    "    test_gene_pca = data_genes_pca[-_x_test.shape[0]:]\n",
    "\n",
    "    train_gene_pca = pd.DataFrame(train_gene_pca, columns=[f'pca_G-{i}' for i in range(n_gene)])\n",
    "    test_gene_pca = pd.DataFrame(test_gene_pca, columns=[f'pca_G-{i}' for i in range(n_gene)])\n",
    "\n",
    "    # PCA cells\n",
    "    data_cells = pd.concat([pd.DataFrame(_x_train[cells]), pd.DataFrame(_x_test[cells])])\n",
    "    data_cells_pca = PCA(n_components=n_cell, random_state=42).fit_transform(data_cells)\n",
    "\n",
    "    train_cells_pca = data_cells_pca[:_x_train.shape[0]]\n",
    "    test_cells_pca = data_cells_pca[-_x_test.shape[0]:]\n",
    "\n",
    "    train_cells_pca = pd.DataFrame(train_cells_pca, columns=[f'pca_C-{i}' for i in range(n_cell)])\n",
    "    test_cells_pca = pd.DataFrame(test_cells_pca, columns=[f'pca_C-{i}' for i in range(n_cell)])\n",
    "\n",
    "    # Generate new training and test data\n",
    "    _train_features = pd.concat((train_gene_pca, train_cells_pca), axis=1)\n",
    "    _test_features = pd.concat((test_gene_pca, test_cells_pca), axis=1)\n",
    "    return _train_features, _test_features"
   ],
   "metadata": {
    "collapsed": false,
    "pycharm": {
     "name": "#%%\n"
    }
   }
  },
  {
   "cell_type": "code",
   "execution_count": 63,
   "outputs": [],
   "source": [
    "# # Tuning PCA with linear regression\n",
    "#\n",
    "# cols = ['log_loss', 'roc_auc', 'f1']\n",
    "# df = pd.DataFrame(columns=cols)\n",
    "# for n_genes in [10, 20, 50, 100, 200, 400, 500]:\n",
    "#     for n_cells in [10, 25, 50, 75]:\n",
    "#         train_features, test_features = pca(x_train, x_test, n_genes, n_cells)\n",
    "#         ll, auc, f1 = eval_model(LinearRegression(n_jobs=n_jobs),train_features, y_train, id_='lr_{}_{}'.format(n_genes, n_cells))\n",
    "#         df = df.append(pd.Series([ll, auc, f1], name='lr_{}_{}'.format(n_genes, n_cells), index=cols))\n",
    "#\n",
    "# display(df.sort_values(by=['log_loss']).head())"
   ],
   "metadata": {
    "collapsed": false,
    "pycharm": {
     "name": "#%%\n"
    }
   }
  },
  {
   "cell_type": "code",
   "execution_count": 64,
   "outputs": [],
   "source": [
    "# Make hist plot\n",
    "import matplotlib.pyplot as plt\n",
    "\n",
    "mpl_logger = logging.getLogger('matplotlib')\n",
    "mpl_logger.setLevel(logging.WARNING)\n",
    "\n",
    "def make_hist_plot(df, title, id_):\n",
    "    def __plot(score):\n",
    "        logging.debug(df[score])\n",
    "        x = list(df.index)\n",
    "        y = df[score].values\n",
    "        plt.figure(figsize=(16, 9))\n",
    "        plt.bar(x, y)\n",
    "        plt.xticks(x, x, rotation='vertical')\n",
    "        plt.ylabel(score)\n",
    "        plt.title(\"{} {}\".format(title, score))\n",
    "        plt.subplots_adjust(bottom=0.4)\n",
    "\n",
    "        plt.savefig(\"fig/{}_{}.png\".format(id_, score))\n",
    "        plt.show()\n",
    "\n",
    "    for col in df:\n",
    "        __plot(col)\n",
    "\n",
    "def make_plot(df, title, id_, x_label=None, log_x=False):\n",
    "    def __plot(score):\n",
    "        logging.debug(df[score])\n",
    "        x = list(df.index)\n",
    "        y = df[score].values\n",
    "        # plt.figure(figsize=(16, 9))\n",
    "        plt.plot(x, y)\n",
    "        if x_label:\n",
    "            plt.xlabel(x_label)\n",
    "        plt.ylabel(score)\n",
    "        if log_x:\n",
    "            plt.xscale('log')\n",
    "        plt.title(\"{} {}\".format(title, score))\n",
    "\n",
    "        plt.savefig(\"fig/{}_{}.png\".format(id_, score))\n",
    "        plt.show()\n",
    "\n",
    "    for col in df:\n",
    "        __plot(col)"
   ],
   "metadata": {
    "collapsed": false,
    "pycharm": {
     "name": "#%%\n"
    }
   }
  },
  {
   "cell_type": "code",
   "execution_count": 65,
   "outputs": [],
   "source": [
    "# # Make plot of tuning PCA\n",
    "#\n",
    "# make_hist_plot(df, 'Tuning PCA', 'tuning_pca')"
   ],
   "metadata": {
    "collapsed": false,
    "pycharm": {
     "name": "#%%\n"
    }
   }
  },
  {
   "cell_type": "code",
   "execution_count": 66,
   "outputs": [],
   "source": [
    "# Use 20 genes and 10 cells as best PCA\n",
    "train_features, test_features = pca(x_train, x_test, 20, 10)"
   ],
   "metadata": {
    "collapsed": false,
    "pycharm": {
     "name": "#%%\n"
    }
   }
  },
  {
   "cell_type": "code",
   "execution_count": 67,
   "outputs": [],
   "source": [
    "# # Tuning over sampling per label, tested with lr\n",
    "# df = pd.DataFrame(columns=cols)\n",
    "# ll, auc, f1 = eval_model(MultiOutputClassifier(LogisticRegression(max_iter=1e4, C=0.01), n_jobs=n_jobs),\n",
    "#                          train_features, y_train, id_='lr_100_25_c_0.01')\n",
    "# df = df.append(pd.Series([ll, auc, f1], name='lr_100_25_c_0.01', index=cols))\n",
    "#\n",
    "# # MultiOutputWithSampling is a class I implemented to treat each label as separate training task and train the model.\n",
    "# from MultiOutputWithSampling import MultiOutputWithSampling\n",
    "#\n",
    "# # 0.01, 0.02, and 0.03 result in errors\n",
    "# for ss in [0.04, 0.1, 0.2, 0.25, 0.5]:\n",
    "#     ll, auc, f1 = eval_model(\n",
    "#         MultiOutputWithSampling(LogisticRegression(max_iter=1e4, C=0.01), sampling_strategy=ss, n_jobs=n_jobs),\n",
    "#         train_features, y_train, id_='lr_100_25_c_0.01_ss_{}_separate_sampling'.format(ss))\n",
    "#     df = df.append(pd.Series([ll, auc, f1], name='lr_100_25_c_0.01_ss_{}_separate_sampling'.format(ss), index=cols))\n",
    "# make_hist_plot(df, \"Tuning sampling strategy per label on LR, C=0.01\", 'sampling')\n",
    "# # No separate sampling performs better"
   ],
   "metadata": {
    "collapsed": false,
    "pycharm": {
     "name": "#%%\n"
    }
   }
  },
  {
   "cell_type": "code",
   "execution_count": 68,
   "outputs": [],
   "source": [
    "# # Ridge, Tuning a\n",
    "# tuning_a = np.logspace(-2, 3, 6)\n",
    "# df = pd.DataFrame(columns=cols)\n",
    "# for a in tuning_a:\n",
    "#     ll, auc, f1 = eval_model(MultiOutputRegressor(Ridge(alpha=a), n_jobs=n_jobs), train_features, y_train,\n",
    "#                              id_='ridge_100_25_a_{:.2f}'.format(a))\n",
    "#     df = df.append(pd.Series([ll, auc, f1], name=a, index=cols))\n",
    "# make_plot(df, \"Ridge, Tuning a\", \"ridge_tuning_a\", x_label='a', log_x=True)"
   ],
   "metadata": {
    "collapsed": false,
    "pycharm": {
     "name": "#%%\n"
    }
   }
  },
  {
   "cell_type": "code",
   "execution_count": 69,
   "outputs": [],
   "source": [
    "# The best ridge is a=1000\n",
    "best_ridge = Ridge(alpha=1000)"
   ],
   "metadata": {
    "collapsed": false,
    "pycharm": {
     "name": "#%%\n"
    }
   }
  },
  {
   "cell_type": "code",
   "execution_count": 70,
   "outputs": [],
   "source": [
    "# # Logistic Regression, Tuning C\n",
    "# tuning_c = np.logspace(-2, 3, 6)\n",
    "# df = pd.DataFrame(columns=cols)\n",
    "# for c in tuning_c:\n",
    "#     ll, auc, f1 = eval_model(MultiOutputClassifier(LogisticRegression(max_iter=1e4, C=c), n_jobs=n_jobs),\n",
    "#                              train_features, y_train, id_='lr_100_25_c_{:.2f}'.format(c))\n",
    "#     df = df.append(pd.Series([ll, auc, f1], name=c, index=cols))\n",
    "# make_plot(df, \"LR, Tuning C\", \"lr_tuning_c\", x_label='C', log_x=True)"
   ],
   "metadata": {
    "collapsed": false,
    "pycharm": {
     "name": "#%%\n"
    }
   }
  },
  {
   "cell_type": "code",
   "execution_count": 71,
   "outputs": [],
   "source": [
    "# The best LR is C=0.01\n",
    "best_lr = LogisticRegression(max_iter=1e4, C=0.01)"
   ],
   "metadata": {
    "collapsed": false,
    "pycharm": {
     "name": "#%%\n"
    }
   }
  },
  {
   "cell_type": "code",
   "execution_count": 72,
   "outputs": [],
   "source": [
    "# # Random Forest, tuning max_depth\n",
    "# df = pd.DataFrame(columns=cols)\n",
    "# for n_estimators in [50, 200, 500]:\n",
    "#     for max_depth in [1, 3, 6, 10]:\n",
    "#         ll, auc, f1 = eval_model(MultiOutputRegressor(\n",
    "#             RandomForestRegressor(n_estimators=n_estimators, max_depth=max_depth, random_state=43,\n",
    "#                                   min_samples_split=10), n_jobs=n_jobs), train_features, y_train,\n",
    "#             id_='rfr_{}_{}_43_10'.format(n_estimators, max_depth))\n",
    "#         df = df.append(pd.Series([ll, auc, f1], name=max_depth, index=cols))\n",
    "# display(df.sort_values(by='log_loss').head())\n",
    "# make_hist_plot(df, \"Random Forest, Tuning n_estimators and max_depth\", \"rfr_tuning_n_d\")"
   ],
   "metadata": {
    "collapsed": false,
    "pycharm": {
     "name": "#%%\n"
    }
   }
  },
  {
   "cell_type": "code",
   "execution_count": 73,
   "outputs": [],
   "source": [
    "# The best Random Forest is max_depth=3\n",
    "\n",
    "best_rf = MultiOutputRegressor(\n",
    "    RandomForestRegressor(n_estimators=50, max_depth=3, random_state=43, min_samples_split=10), n_jobs=n_jobs)"
   ],
   "metadata": {
    "collapsed": false,
    "pycharm": {
     "name": "#%%\n"
    }
   }
  },
  {
   "cell_type": "code",
   "execution_count": 74,
   "outputs": [],
   "source": [
    "# # NN model, Tuning hidden_layer\n",
    "# df = pd.DataFrame(columns=cols)\n",
    "# best_loss = np.inf\n",
    "# best_h = None\n",
    "# for i in [50, 100, 200]:\n",
    "#     for j in [50, 100, 200]:\n",
    "#         for k in [50, 100, 200]:\n",
    "#             ll, auc, f1 = eval_model(\n",
    "#                 MLPRegressor(hidden_layer_sizes=(i, j, k), random_state=1, max_iter=1500, learning_rate='adaptive',\n",
    "#                              warm_start=True), train_features, y_train, id_='nn_100_25_h_{}_{}_{}'.format(i, j, k))\n",
    "#             if best_loss > ll:\n",
    "#                 best_loss = ll\n",
    "#                 best_h = (i, j, k)\n",
    "#             df = df.append(pd.Series([ll, auc, f1], name='nn_100_25_h_{}_{}_{}'.format(i, j, k), index=cols))\n",
    "# make_hist_plot(df, \"Neural Network\", \"nn_tuning_hidden\")\n",
    "# logging.info(\"The best hidden layer configuration is {}\".format(best_h))\n",
    "# logging.info(\"The best log loss is {}\".format(best_loss))"
   ],
   "metadata": {
    "collapsed": false,
    "pycharm": {
     "name": "#%%\n"
    }
   }
  },
  {
   "cell_type": "code",
   "execution_count": 75,
   "outputs": [],
   "source": [
    "# The best nn is hidden_layer=(200,100,100)\n",
    "best_nn = MLPRegressor(hidden_layer_sizes=(200, 100, 100), random_state=1, max_iter=1500, warm_start=True)"
   ],
   "metadata": {
    "collapsed": false,
    "pycharm": {
     "name": "#%%\n"
    }
   }
  },
  {
   "cell_type": "code",
   "execution_count": 76,
   "outputs": [
    {
     "data": {
      "text/plain": "              5-alpha_reductase_inhibitor  11-beta-hsd1_inhibitor  \\\nsig_id                                                              \nid_0004d9e33                     0.000190                0.001366   \nid_001897cda                     0.000106                0.000079   \nid_002429b5b                     0.000241                0.000412   \nid_00276f245                     0.000014                0.000010   \nid_0027f1083                     0.000959                0.000828   \n\n              acat_inhibitor  acetylcholine_receptor_agonist  \\\nsig_id                                                         \nid_0004d9e33        0.000634                        0.009130   \nid_001897cda        0.000569                        0.008763   \nid_002429b5b        0.000784                        0.008903   \nid_00276f245        0.000603                        0.009240   \nid_0027f1083        0.000826                        0.009340   \n\n              acetylcholine_receptor_antagonist  \\\nsig_id                                            \nid_0004d9e33                           0.015147   \nid_001897cda                           0.010261   \nid_002429b5b                           0.015141   \nid_00276f245                           0.015218   \nid_0027f1083                           0.015680   \n\n              acetylcholinesterase_inhibitor  adenosine_receptor_agonist  \\\nsig_id                                                                     \nid_0004d9e33                        0.003405                    0.001234   \nid_001897cda                        0.002472                    0.000551   \nid_002429b5b                        0.002410                    0.003019   \nid_00276f245                        0.002753                    0.001111   \nid_0027f1083                        0.002628                    0.023131   \n\n              adenosine_receptor_antagonist  adenylyl_cyclase_activator  \\\nsig_id                                                                    \nid_0004d9e33                       0.006158                    0.000023   \nid_001897cda                       0.004527                    0.000195   \nid_002429b5b                       0.003339                    0.000040   \nid_00276f245                       0.002621                    0.000023   \nid_0027f1083                       0.003835                    0.000023   \n\n              adrenergic_receptor_agonist  ...  \\\nsig_id                                     ...   \nid_0004d9e33                     0.015140  ...   \nid_001897cda                     0.012531  ...   \nid_002429b5b                     0.013023  ...   \nid_00276f245                     0.013318  ...   \nid_0027f1083                     0.013226  ...   \n\n              tropomyosin_receptor_kinase_inhibitor  trpv_agonist  \\\nsig_id                                                              \nid_0004d9e33                                0.00000      0.000639   \nid_001897cda                                0.00005      0.000725   \nid_002429b5b                                0.00000      0.000705   \nid_00276f245                                0.00000      0.000536   \nid_0027f1083                                0.00000      0.000696   \n\n              trpv_antagonist  tubulin_inhibitor  tyrosine_kinase_inhibitor  \\\nsig_id                                                                        \nid_0004d9e33         0.003377           0.002130                   0.002389   \nid_001897cda         0.001385           0.002732                   0.003287   \nid_002429b5b         0.001370           0.002130                   0.002618   \nid_00276f245         0.002547           0.002130                   0.002685   \nid_0027f1083         0.001981           0.097817                   0.002473   \n\n              ubiquitin_specific_protease_inhibitor  vegfr_inhibitor  \\\nsig_id                                                                 \nid_0004d9e33                               0.000054         0.001572   \nid_001897cda                               0.000020         0.002630   \nid_002429b5b                               0.000014         0.001281   \nid_00276f245                               0.000024         0.002143   \nid_0027f1083                               0.000009         0.001222   \n\n              vitamin_b  vitamin_d_receptor_agonist  wnt_inhibitor  \nsig_id                                                              \nid_0004d9e33   0.001102                    0.001905       0.001575  \nid_001897cda   0.000165                    0.000955       0.000314  \nid_002429b5b   0.000634                    0.000515       0.000511  \nid_00276f245   0.000518                    0.000822       0.000454  \nid_0027f1083   0.000305                    0.000921       0.000459  \n\n[5 rows x 206 columns]",
      "text/html": "<div>\n<style scoped>\n    .dataframe tbody tr th:only-of-type {\n        vertical-align: middle;\n    }\n\n    .dataframe tbody tr th {\n        vertical-align: top;\n    }\n\n    .dataframe thead th {\n        text-align: right;\n    }\n</style>\n<table border=\"1\" class=\"dataframe\">\n  <thead>\n    <tr style=\"text-align: right;\">\n      <th></th>\n      <th>5-alpha_reductase_inhibitor</th>\n      <th>11-beta-hsd1_inhibitor</th>\n      <th>acat_inhibitor</th>\n      <th>acetylcholine_receptor_agonist</th>\n      <th>acetylcholine_receptor_antagonist</th>\n      <th>acetylcholinesterase_inhibitor</th>\n      <th>adenosine_receptor_agonist</th>\n      <th>adenosine_receptor_antagonist</th>\n      <th>adenylyl_cyclase_activator</th>\n      <th>adrenergic_receptor_agonist</th>\n      <th>...</th>\n      <th>tropomyosin_receptor_kinase_inhibitor</th>\n      <th>trpv_agonist</th>\n      <th>trpv_antagonist</th>\n      <th>tubulin_inhibitor</th>\n      <th>tyrosine_kinase_inhibitor</th>\n      <th>ubiquitin_specific_protease_inhibitor</th>\n      <th>vegfr_inhibitor</th>\n      <th>vitamin_b</th>\n      <th>vitamin_d_receptor_agonist</th>\n      <th>wnt_inhibitor</th>\n    </tr>\n    <tr>\n      <th>sig_id</th>\n      <th></th>\n      <th></th>\n      <th></th>\n      <th></th>\n      <th></th>\n      <th></th>\n      <th></th>\n      <th></th>\n      <th></th>\n      <th></th>\n      <th></th>\n      <th></th>\n      <th></th>\n      <th></th>\n      <th></th>\n      <th></th>\n      <th></th>\n      <th></th>\n      <th></th>\n      <th></th>\n      <th></th>\n    </tr>\n  </thead>\n  <tbody>\n    <tr>\n      <th>id_0004d9e33</th>\n      <td>0.000190</td>\n      <td>0.001366</td>\n      <td>0.000634</td>\n      <td>0.009130</td>\n      <td>0.015147</td>\n      <td>0.003405</td>\n      <td>0.001234</td>\n      <td>0.006158</td>\n      <td>0.000023</td>\n      <td>0.015140</td>\n      <td>...</td>\n      <td>0.00000</td>\n      <td>0.000639</td>\n      <td>0.003377</td>\n      <td>0.002130</td>\n      <td>0.002389</td>\n      <td>0.000054</td>\n      <td>0.001572</td>\n      <td>0.001102</td>\n      <td>0.001905</td>\n      <td>0.001575</td>\n    </tr>\n    <tr>\n      <th>id_001897cda</th>\n      <td>0.000106</td>\n      <td>0.000079</td>\n      <td>0.000569</td>\n      <td>0.008763</td>\n      <td>0.010261</td>\n      <td>0.002472</td>\n      <td>0.000551</td>\n      <td>0.004527</td>\n      <td>0.000195</td>\n      <td>0.012531</td>\n      <td>...</td>\n      <td>0.00005</td>\n      <td>0.000725</td>\n      <td>0.001385</td>\n      <td>0.002732</td>\n      <td>0.003287</td>\n      <td>0.000020</td>\n      <td>0.002630</td>\n      <td>0.000165</td>\n      <td>0.000955</td>\n      <td>0.000314</td>\n    </tr>\n    <tr>\n      <th>id_002429b5b</th>\n      <td>0.000241</td>\n      <td>0.000412</td>\n      <td>0.000784</td>\n      <td>0.008903</td>\n      <td>0.015141</td>\n      <td>0.002410</td>\n      <td>0.003019</td>\n      <td>0.003339</td>\n      <td>0.000040</td>\n      <td>0.013023</td>\n      <td>...</td>\n      <td>0.00000</td>\n      <td>0.000705</td>\n      <td>0.001370</td>\n      <td>0.002130</td>\n      <td>0.002618</td>\n      <td>0.000014</td>\n      <td>0.001281</td>\n      <td>0.000634</td>\n      <td>0.000515</td>\n      <td>0.000511</td>\n    </tr>\n    <tr>\n      <th>id_00276f245</th>\n      <td>0.000014</td>\n      <td>0.000010</td>\n      <td>0.000603</td>\n      <td>0.009240</td>\n      <td>0.015218</td>\n      <td>0.002753</td>\n      <td>0.001111</td>\n      <td>0.002621</td>\n      <td>0.000023</td>\n      <td>0.013318</td>\n      <td>...</td>\n      <td>0.00000</td>\n      <td>0.000536</td>\n      <td>0.002547</td>\n      <td>0.002130</td>\n      <td>0.002685</td>\n      <td>0.000024</td>\n      <td>0.002143</td>\n      <td>0.000518</td>\n      <td>0.000822</td>\n      <td>0.000454</td>\n    </tr>\n    <tr>\n      <th>id_0027f1083</th>\n      <td>0.000959</td>\n      <td>0.000828</td>\n      <td>0.000826</td>\n      <td>0.009340</td>\n      <td>0.015680</td>\n      <td>0.002628</td>\n      <td>0.023131</td>\n      <td>0.003835</td>\n      <td>0.000023</td>\n      <td>0.013226</td>\n      <td>...</td>\n      <td>0.00000</td>\n      <td>0.000696</td>\n      <td>0.001981</td>\n      <td>0.097817</td>\n      <td>0.002473</td>\n      <td>0.000009</td>\n      <td>0.001222</td>\n      <td>0.000305</td>\n      <td>0.000921</td>\n      <td>0.000459</td>\n    </tr>\n  </tbody>\n</table>\n<p>5 rows × 206 columns</p>\n</div>"
     },
     "metadata": {},
     "output_type": "display_data"
    }
   ],
   "source": [
    "# Predict with the best model\n",
    "best_model = best_rf\n",
    "best_model.fit(train_features, y_train)\n",
    "y_pred = best_model.predict(test_features)\n",
    "# pickle.dump((best_model, y_pred), open(\"best_model.pkl\", 'wb'))\n",
    "# best_model, y_pred = pickle.load(open(\"best_model.pkl\", 'rb'))\n",
    "submission = pd.DataFrame(y_pred, index=submission.index, columns=submission.columns)\n",
    "\n",
    "display(submission.head())"
   ],
   "metadata": {
    "collapsed": false,
    "pycharm": {
     "name": "#%%\n"
    }
   }
  },
  {
   "cell_type": "code",
   "execution_count": 77,
   "outputs": [],
   "source": [
    "submission.to_csv('submission.csv')"
   ],
   "metadata": {
    "collapsed": false,
    "pycharm": {
     "name": "#%%\n"
    }
   }
  }
 ],
 "metadata": {
  "kernelspec": {
   "display_name": "Python 3",
   "language": "python",
   "name": "python3"
  },
  "language_info": {
   "codemirror_mode": {
    "name": "ipython",
    "version": 2
   },
   "file_extension": ".py",
   "mimetype": "text/x-python",
   "name": "python",
   "nbconvert_exporter": "python",
   "pygments_lexer": "ipython2",
   "version": "2.7.6"
  }
 },
 "nbformat": 4,
 "nbformat_minor": 0
}