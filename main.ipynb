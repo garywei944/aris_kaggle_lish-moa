{
 "cells": [
  {
   "cell_type": "code",
   "execution_count": 1,
   "metadata": {
    "collapsed": true
   },
   "outputs": [],
   "source": [
    "from IPython.display import display\n",
    "\n",
    "import pandas as pd\n",
    "import numpy as np"
   ]
  },
  {
   "cell_type": "code",
   "execution_count": 2,
   "outputs": [],
   "source": [
    "# Configuration\n",
    "\n",
    "import logging\n",
    "import sys\n",
    "from multiprocessing import cpu_count\n",
    "\n",
    "# Configure logging level\n",
    "logging.basicConfig(stream=sys.stderr, level=logging.DEBUG)\n",
    "\n",
    "# Number of cpu cores used\n",
    "n_jobs = cpu_count()"
   ],
   "metadata": {
    "collapsed": false,
    "pycharm": {
     "name": "#%%\n"
    }
   }
  },
  {
   "cell_type": "code",
   "execution_count": 3,
   "outputs": [
    {
     "data": {
      "text/plain": "             cp_type  cp_time cp_dose     g-0     g-1     g-2     g-3     g-4  \\\nsig_id                                                                          \nid_000644bb2  trt_cp       24      D1  1.0620  0.5577 -0.2479 -0.6208 -0.1944   \nid_000779bfc  trt_cp       72      D1  0.0743  0.4087  0.2991  0.0604  1.0190   \nid_000a6266a  trt_cp       48      D1  0.6280  0.5817  1.5540 -0.0764 -0.0323   \nid_0015fd391  trt_cp       48      D1 -0.5138 -0.2491 -0.2656  0.5288  4.0620   \nid_001626bd3  trt_cp       72      D2 -0.3254 -0.4009  0.9700  0.6919  1.4180   \n\n                 g-5     g-6  ...    c-90    c-91    c-92    c-93    c-94  \\\nsig_id                        ...                                           \nid_000644bb2 -1.0120 -1.0220  ...  0.2862  0.2584  0.8076  0.5523 -0.1912   \nid_000779bfc  0.5207  0.2341  ... -0.4265  0.7543  0.4708  0.0230  0.2957   \nid_000a6266a  1.2390  0.1715  ... -0.7250 -0.6297  0.6103  0.0223 -1.3240   \nid_0015fd391 -0.8095 -1.9590  ... -2.0990 -0.6441 -5.6300 -1.3780 -0.8632   \nid_001626bd3 -0.8244 -0.2800  ...  0.0042  0.0048  0.6670  1.0690  0.5523   \n\n                c-95    c-96    c-97    c-98    c-99  \nsig_id                                                \nid_000644bb2  0.6584 -0.3981  0.2139  0.3801  0.4176  \nid_000779bfc  0.4899  0.1522  0.1241  0.6077  0.7371  \nid_000a6266a -0.3174 -0.6417 -0.2187 -1.4080  0.6931  \nid_0015fd391 -1.2880 -1.6210 -0.8784 -0.3876 -0.8154  \nid_001626bd3 -0.3031  0.1094  0.2885 -0.3786  0.7125  \n\n[5 rows x 875 columns]",
      "text/html": "<div>\n<style scoped>\n    .dataframe tbody tr th:only-of-type {\n        vertical-align: middle;\n    }\n\n    .dataframe tbody tr th {\n        vertical-align: top;\n    }\n\n    .dataframe thead th {\n        text-align: right;\n    }\n</style>\n<table border=\"1\" class=\"dataframe\">\n  <thead>\n    <tr style=\"text-align: right;\">\n      <th></th>\n      <th>cp_type</th>\n      <th>cp_time</th>\n      <th>cp_dose</th>\n      <th>g-0</th>\n      <th>g-1</th>\n      <th>g-2</th>\n      <th>g-3</th>\n      <th>g-4</th>\n      <th>g-5</th>\n      <th>g-6</th>\n      <th>...</th>\n      <th>c-90</th>\n      <th>c-91</th>\n      <th>c-92</th>\n      <th>c-93</th>\n      <th>c-94</th>\n      <th>c-95</th>\n      <th>c-96</th>\n      <th>c-97</th>\n      <th>c-98</th>\n      <th>c-99</th>\n    </tr>\n    <tr>\n      <th>sig_id</th>\n      <th></th>\n      <th></th>\n      <th></th>\n      <th></th>\n      <th></th>\n      <th></th>\n      <th></th>\n      <th></th>\n      <th></th>\n      <th></th>\n      <th></th>\n      <th></th>\n      <th></th>\n      <th></th>\n      <th></th>\n      <th></th>\n      <th></th>\n      <th></th>\n      <th></th>\n      <th></th>\n      <th></th>\n    </tr>\n  </thead>\n  <tbody>\n    <tr>\n      <th>id_000644bb2</th>\n      <td>trt_cp</td>\n      <td>24</td>\n      <td>D1</td>\n      <td>1.0620</td>\n      <td>0.5577</td>\n      <td>-0.2479</td>\n      <td>-0.6208</td>\n      <td>-0.1944</td>\n      <td>-1.0120</td>\n      <td>-1.0220</td>\n      <td>...</td>\n      <td>0.2862</td>\n      <td>0.2584</td>\n      <td>0.8076</td>\n      <td>0.5523</td>\n      <td>-0.1912</td>\n      <td>0.6584</td>\n      <td>-0.3981</td>\n      <td>0.2139</td>\n      <td>0.3801</td>\n      <td>0.4176</td>\n    </tr>\n    <tr>\n      <th>id_000779bfc</th>\n      <td>trt_cp</td>\n      <td>72</td>\n      <td>D1</td>\n      <td>0.0743</td>\n      <td>0.4087</td>\n      <td>0.2991</td>\n      <td>0.0604</td>\n      <td>1.0190</td>\n      <td>0.5207</td>\n      <td>0.2341</td>\n      <td>...</td>\n      <td>-0.4265</td>\n      <td>0.7543</td>\n      <td>0.4708</td>\n      <td>0.0230</td>\n      <td>0.2957</td>\n      <td>0.4899</td>\n      <td>0.1522</td>\n      <td>0.1241</td>\n      <td>0.6077</td>\n      <td>0.7371</td>\n    </tr>\n    <tr>\n      <th>id_000a6266a</th>\n      <td>trt_cp</td>\n      <td>48</td>\n      <td>D1</td>\n      <td>0.6280</td>\n      <td>0.5817</td>\n      <td>1.5540</td>\n      <td>-0.0764</td>\n      <td>-0.0323</td>\n      <td>1.2390</td>\n      <td>0.1715</td>\n      <td>...</td>\n      <td>-0.7250</td>\n      <td>-0.6297</td>\n      <td>0.6103</td>\n      <td>0.0223</td>\n      <td>-1.3240</td>\n      <td>-0.3174</td>\n      <td>-0.6417</td>\n      <td>-0.2187</td>\n      <td>-1.4080</td>\n      <td>0.6931</td>\n    </tr>\n    <tr>\n      <th>id_0015fd391</th>\n      <td>trt_cp</td>\n      <td>48</td>\n      <td>D1</td>\n      <td>-0.5138</td>\n      <td>-0.2491</td>\n      <td>-0.2656</td>\n      <td>0.5288</td>\n      <td>4.0620</td>\n      <td>-0.8095</td>\n      <td>-1.9590</td>\n      <td>...</td>\n      <td>-2.0990</td>\n      <td>-0.6441</td>\n      <td>-5.6300</td>\n      <td>-1.3780</td>\n      <td>-0.8632</td>\n      <td>-1.2880</td>\n      <td>-1.6210</td>\n      <td>-0.8784</td>\n      <td>-0.3876</td>\n      <td>-0.8154</td>\n    </tr>\n    <tr>\n      <th>id_001626bd3</th>\n      <td>trt_cp</td>\n      <td>72</td>\n      <td>D2</td>\n      <td>-0.3254</td>\n      <td>-0.4009</td>\n      <td>0.9700</td>\n      <td>0.6919</td>\n      <td>1.4180</td>\n      <td>-0.8244</td>\n      <td>-0.2800</td>\n      <td>...</td>\n      <td>0.0042</td>\n      <td>0.0048</td>\n      <td>0.6670</td>\n      <td>1.0690</td>\n      <td>0.5523</td>\n      <td>-0.3031</td>\n      <td>0.1094</td>\n      <td>0.2885</td>\n      <td>-0.3786</td>\n      <td>0.7125</td>\n    </tr>\n  </tbody>\n</table>\n<p>5 rows × 875 columns</p>\n</div>"
     },
     "metadata": {},
     "output_type": "display_data"
    },
    {
     "data": {
      "text/plain": "                  cp_type  cp_time cp_dose     g-0     g-1     g-2     g-3  \\\nsig_id                                                                       \nid_0004d9e33       trt_cp       24      D1 -0.5458  0.1306 -0.5135  0.4408   \nid_001897cda       trt_cp       72      D1 -0.1829  0.2320  1.2080 -0.4522   \nid_002429b5b  ctl_vehicle       24      D1  0.1852 -0.1404 -0.3911  0.1310   \nid_00276f245       trt_cp       24      D2  0.4828  0.1955  0.3825  0.4244   \nid_0027f1083       trt_cp       48      D1 -0.3979 -1.2680  1.9130  0.2057   \n\n                 g-4     g-5     g-6  ...    c-90    c-91    c-92    c-93  \\\nsig_id                                ...                                   \nid_0004d9e33  1.5500 -0.1644 -0.2140  ...  0.0981  0.7978 -0.1430 -0.2067   \nid_001897cda -0.3652 -0.3319 -1.8820  ... -0.1190 -0.1852 -1.0310 -1.3670   \nid_002429b5b -1.4380  0.2455 -0.3390  ... -0.2261  0.3370 -1.3840  0.8604   \nid_00276f245 -0.5855 -1.2020  0.5998  ...  0.1260  0.1570 -0.1784 -1.1200   \nid_0027f1083 -0.5864 -0.0166  0.5128  ...  0.4965  0.7578 -0.1580  1.0510   \n\n                c-94    c-95    c-96    c-97    c-98    c-99  \nsig_id                                                        \nid_0004d9e33 -0.2303 -0.1193  0.0210 -0.0502  0.1510 -0.7750  \nid_001897cda -0.3690 -0.5382  0.0359 -0.4764 -1.3810 -0.7300  \nid_002429b5b -1.9530 -1.0140  0.8662  1.0160  0.4924 -0.1942  \nid_00276f245 -0.4325 -0.9005  0.8131 -0.1305  0.5645 -0.5809  \nid_0027f1083  0.5742  1.0900 -0.2962 -0.5313  0.9931  1.8380  \n\n[5 rows x 875 columns]",
      "text/html": "<div>\n<style scoped>\n    .dataframe tbody tr th:only-of-type {\n        vertical-align: middle;\n    }\n\n    .dataframe tbody tr th {\n        vertical-align: top;\n    }\n\n    .dataframe thead th {\n        text-align: right;\n    }\n</style>\n<table border=\"1\" class=\"dataframe\">\n  <thead>\n    <tr style=\"text-align: right;\">\n      <th></th>\n      <th>cp_type</th>\n      <th>cp_time</th>\n      <th>cp_dose</th>\n      <th>g-0</th>\n      <th>g-1</th>\n      <th>g-2</th>\n      <th>g-3</th>\n      <th>g-4</th>\n      <th>g-5</th>\n      <th>g-6</th>\n      <th>...</th>\n      <th>c-90</th>\n      <th>c-91</th>\n      <th>c-92</th>\n      <th>c-93</th>\n      <th>c-94</th>\n      <th>c-95</th>\n      <th>c-96</th>\n      <th>c-97</th>\n      <th>c-98</th>\n      <th>c-99</th>\n    </tr>\n    <tr>\n      <th>sig_id</th>\n      <th></th>\n      <th></th>\n      <th></th>\n      <th></th>\n      <th></th>\n      <th></th>\n      <th></th>\n      <th></th>\n      <th></th>\n      <th></th>\n      <th></th>\n      <th></th>\n      <th></th>\n      <th></th>\n      <th></th>\n      <th></th>\n      <th></th>\n      <th></th>\n      <th></th>\n      <th></th>\n      <th></th>\n    </tr>\n  </thead>\n  <tbody>\n    <tr>\n      <th>id_0004d9e33</th>\n      <td>trt_cp</td>\n      <td>24</td>\n      <td>D1</td>\n      <td>-0.5458</td>\n      <td>0.1306</td>\n      <td>-0.5135</td>\n      <td>0.4408</td>\n      <td>1.5500</td>\n      <td>-0.1644</td>\n      <td>-0.2140</td>\n      <td>...</td>\n      <td>0.0981</td>\n      <td>0.7978</td>\n      <td>-0.1430</td>\n      <td>-0.2067</td>\n      <td>-0.2303</td>\n      <td>-0.1193</td>\n      <td>0.0210</td>\n      <td>-0.0502</td>\n      <td>0.1510</td>\n      <td>-0.7750</td>\n    </tr>\n    <tr>\n      <th>id_001897cda</th>\n      <td>trt_cp</td>\n      <td>72</td>\n      <td>D1</td>\n      <td>-0.1829</td>\n      <td>0.2320</td>\n      <td>1.2080</td>\n      <td>-0.4522</td>\n      <td>-0.3652</td>\n      <td>-0.3319</td>\n      <td>-1.8820</td>\n      <td>...</td>\n      <td>-0.1190</td>\n      <td>-0.1852</td>\n      <td>-1.0310</td>\n      <td>-1.3670</td>\n      <td>-0.3690</td>\n      <td>-0.5382</td>\n      <td>0.0359</td>\n      <td>-0.4764</td>\n      <td>-1.3810</td>\n      <td>-0.7300</td>\n    </tr>\n    <tr>\n      <th>id_002429b5b</th>\n      <td>ctl_vehicle</td>\n      <td>24</td>\n      <td>D1</td>\n      <td>0.1852</td>\n      <td>-0.1404</td>\n      <td>-0.3911</td>\n      <td>0.1310</td>\n      <td>-1.4380</td>\n      <td>0.2455</td>\n      <td>-0.3390</td>\n      <td>...</td>\n      <td>-0.2261</td>\n      <td>0.3370</td>\n      <td>-1.3840</td>\n      <td>0.8604</td>\n      <td>-1.9530</td>\n      <td>-1.0140</td>\n      <td>0.8662</td>\n      <td>1.0160</td>\n      <td>0.4924</td>\n      <td>-0.1942</td>\n    </tr>\n    <tr>\n      <th>id_00276f245</th>\n      <td>trt_cp</td>\n      <td>24</td>\n      <td>D2</td>\n      <td>0.4828</td>\n      <td>0.1955</td>\n      <td>0.3825</td>\n      <td>0.4244</td>\n      <td>-0.5855</td>\n      <td>-1.2020</td>\n      <td>0.5998</td>\n      <td>...</td>\n      <td>0.1260</td>\n      <td>0.1570</td>\n      <td>-0.1784</td>\n      <td>-1.1200</td>\n      <td>-0.4325</td>\n      <td>-0.9005</td>\n      <td>0.8131</td>\n      <td>-0.1305</td>\n      <td>0.5645</td>\n      <td>-0.5809</td>\n    </tr>\n    <tr>\n      <th>id_0027f1083</th>\n      <td>trt_cp</td>\n      <td>48</td>\n      <td>D1</td>\n      <td>-0.3979</td>\n      <td>-1.2680</td>\n      <td>1.9130</td>\n      <td>0.2057</td>\n      <td>-0.5864</td>\n      <td>-0.0166</td>\n      <td>0.5128</td>\n      <td>...</td>\n      <td>0.4965</td>\n      <td>0.7578</td>\n      <td>-0.1580</td>\n      <td>1.0510</td>\n      <td>0.5742</td>\n      <td>1.0900</td>\n      <td>-0.2962</td>\n      <td>-0.5313</td>\n      <td>0.9931</td>\n      <td>1.8380</td>\n    </tr>\n  </tbody>\n</table>\n<p>5 rows × 875 columns</p>\n</div>"
     },
     "metadata": {},
     "output_type": "display_data"
    },
    {
     "data": {
      "text/plain": "              5-alpha_reductase_inhibitor  11-beta-hsd1_inhibitor  \\\nsig_id                                                              \nid_000644bb2                            0                       0   \nid_000779bfc                            0                       0   \nid_000a6266a                            0                       0   \nid_0015fd391                            0                       0   \nid_001626bd3                            0                       0   \n\n              acat_inhibitor  acetylcholine_receptor_agonist  \\\nsig_id                                                         \nid_000644bb2               0                               0   \nid_000779bfc               0                               0   \nid_000a6266a               0                               0   \nid_0015fd391               0                               0   \nid_001626bd3               0                               0   \n\n              acetylcholine_receptor_antagonist  \\\nsig_id                                            \nid_000644bb2                                  0   \nid_000779bfc                                  0   \nid_000a6266a                                  0   \nid_0015fd391                                  0   \nid_001626bd3                                  0   \n\n              acetylcholinesterase_inhibitor  adenosine_receptor_agonist  \\\nsig_id                                                                     \nid_000644bb2                               0                           0   \nid_000779bfc                               0                           0   \nid_000a6266a                               0                           0   \nid_0015fd391                               0                           0   \nid_001626bd3                               0                           0   \n\n              adenosine_receptor_antagonist  adenylyl_cyclase_activator  \\\nsig_id                                                                    \nid_000644bb2                              0                           0   \nid_000779bfc                              0                           0   \nid_000a6266a                              0                           0   \nid_0015fd391                              0                           0   \nid_001626bd3                              0                           0   \n\n              adrenergic_receptor_agonist  ...  \\\nsig_id                                     ...   \nid_000644bb2                            0  ...   \nid_000779bfc                            0  ...   \nid_000a6266a                            0  ...   \nid_0015fd391                            0  ...   \nid_001626bd3                            0  ...   \n\n              tropomyosin_receptor_kinase_inhibitor  trpv_agonist  \\\nsig_id                                                              \nid_000644bb2                                      0             0   \nid_000779bfc                                      0             0   \nid_000a6266a                                      0             0   \nid_0015fd391                                      0             0   \nid_001626bd3                                      0             0   \n\n              trpv_antagonist  tubulin_inhibitor  tyrosine_kinase_inhibitor  \\\nsig_id                                                                        \nid_000644bb2                0                  0                          0   \nid_000779bfc                0                  0                          0   \nid_000a6266a                0                  0                          0   \nid_0015fd391                0                  0                          0   \nid_001626bd3                0                  0                          0   \n\n              ubiquitin_specific_protease_inhibitor  vegfr_inhibitor  \\\nsig_id                                                                 \nid_000644bb2                                      0                0   \nid_000779bfc                                      0                0   \nid_000a6266a                                      0                0   \nid_0015fd391                                      0                0   \nid_001626bd3                                      0                0   \n\n              vitamin_b  vitamin_d_receptor_agonist  wnt_inhibitor  \nsig_id                                                              \nid_000644bb2          0                           0              0  \nid_000779bfc          0                           0              0  \nid_000a6266a          0                           0              0  \nid_0015fd391          0                           0              0  \nid_001626bd3          0                           0              0  \n\n[5 rows x 206 columns]",
      "text/html": "<div>\n<style scoped>\n    .dataframe tbody tr th:only-of-type {\n        vertical-align: middle;\n    }\n\n    .dataframe tbody tr th {\n        vertical-align: top;\n    }\n\n    .dataframe thead th {\n        text-align: right;\n    }\n</style>\n<table border=\"1\" class=\"dataframe\">\n  <thead>\n    <tr style=\"text-align: right;\">\n      <th></th>\n      <th>5-alpha_reductase_inhibitor</th>\n      <th>11-beta-hsd1_inhibitor</th>\n      <th>acat_inhibitor</th>\n      <th>acetylcholine_receptor_agonist</th>\n      <th>acetylcholine_receptor_antagonist</th>\n      <th>acetylcholinesterase_inhibitor</th>\n      <th>adenosine_receptor_agonist</th>\n      <th>adenosine_receptor_antagonist</th>\n      <th>adenylyl_cyclase_activator</th>\n      <th>adrenergic_receptor_agonist</th>\n      <th>...</th>\n      <th>tropomyosin_receptor_kinase_inhibitor</th>\n      <th>trpv_agonist</th>\n      <th>trpv_antagonist</th>\n      <th>tubulin_inhibitor</th>\n      <th>tyrosine_kinase_inhibitor</th>\n      <th>ubiquitin_specific_protease_inhibitor</th>\n      <th>vegfr_inhibitor</th>\n      <th>vitamin_b</th>\n      <th>vitamin_d_receptor_agonist</th>\n      <th>wnt_inhibitor</th>\n    </tr>\n    <tr>\n      <th>sig_id</th>\n      <th></th>\n      <th></th>\n      <th></th>\n      <th></th>\n      <th></th>\n      <th></th>\n      <th></th>\n      <th></th>\n      <th></th>\n      <th></th>\n      <th></th>\n      <th></th>\n      <th></th>\n      <th></th>\n      <th></th>\n      <th></th>\n      <th></th>\n      <th></th>\n      <th></th>\n      <th></th>\n      <th></th>\n    </tr>\n  </thead>\n  <tbody>\n    <tr>\n      <th>id_000644bb2</th>\n      <td>0</td>\n      <td>0</td>\n      <td>0</td>\n      <td>0</td>\n      <td>0</td>\n      <td>0</td>\n      <td>0</td>\n      <td>0</td>\n      <td>0</td>\n      <td>0</td>\n      <td>...</td>\n      <td>0</td>\n      <td>0</td>\n      <td>0</td>\n      <td>0</td>\n      <td>0</td>\n      <td>0</td>\n      <td>0</td>\n      <td>0</td>\n      <td>0</td>\n      <td>0</td>\n    </tr>\n    <tr>\n      <th>id_000779bfc</th>\n      <td>0</td>\n      <td>0</td>\n      <td>0</td>\n      <td>0</td>\n      <td>0</td>\n      <td>0</td>\n      <td>0</td>\n      <td>0</td>\n      <td>0</td>\n      <td>0</td>\n      <td>...</td>\n      <td>0</td>\n      <td>0</td>\n      <td>0</td>\n      <td>0</td>\n      <td>0</td>\n      <td>0</td>\n      <td>0</td>\n      <td>0</td>\n      <td>0</td>\n      <td>0</td>\n    </tr>\n    <tr>\n      <th>id_000a6266a</th>\n      <td>0</td>\n      <td>0</td>\n      <td>0</td>\n      <td>0</td>\n      <td>0</td>\n      <td>0</td>\n      <td>0</td>\n      <td>0</td>\n      <td>0</td>\n      <td>0</td>\n      <td>...</td>\n      <td>0</td>\n      <td>0</td>\n      <td>0</td>\n      <td>0</td>\n      <td>0</td>\n      <td>0</td>\n      <td>0</td>\n      <td>0</td>\n      <td>0</td>\n      <td>0</td>\n    </tr>\n    <tr>\n      <th>id_0015fd391</th>\n      <td>0</td>\n      <td>0</td>\n      <td>0</td>\n      <td>0</td>\n      <td>0</td>\n      <td>0</td>\n      <td>0</td>\n      <td>0</td>\n      <td>0</td>\n      <td>0</td>\n      <td>...</td>\n      <td>0</td>\n      <td>0</td>\n      <td>0</td>\n      <td>0</td>\n      <td>0</td>\n      <td>0</td>\n      <td>0</td>\n      <td>0</td>\n      <td>0</td>\n      <td>0</td>\n    </tr>\n    <tr>\n      <th>id_001626bd3</th>\n      <td>0</td>\n      <td>0</td>\n      <td>0</td>\n      <td>0</td>\n      <td>0</td>\n      <td>0</td>\n      <td>0</td>\n      <td>0</td>\n      <td>0</td>\n      <td>0</td>\n      <td>...</td>\n      <td>0</td>\n      <td>0</td>\n      <td>0</td>\n      <td>0</td>\n      <td>0</td>\n      <td>0</td>\n      <td>0</td>\n      <td>0</td>\n      <td>0</td>\n      <td>0</td>\n    </tr>\n  </tbody>\n</table>\n<p>5 rows × 206 columns</p>\n</div>"
     },
     "metadata": {},
     "output_type": "display_data"
    },
    {
     "data": {
      "text/plain": "              5-alpha_reductase_inhibitor  11-beta-hsd1_inhibitor  \\\nsig_id                                                              \nid_0004d9e33                          0.5                     0.5   \nid_001897cda                          0.5                     0.5   \nid_002429b5b                          0.5                     0.5   \nid_00276f245                          0.5                     0.5   \nid_0027f1083                          0.5                     0.5   \n\n              acat_inhibitor  acetylcholine_receptor_agonist  \\\nsig_id                                                         \nid_0004d9e33             0.5                             0.5   \nid_001897cda             0.5                             0.5   \nid_002429b5b             0.5                             0.5   \nid_00276f245             0.5                             0.5   \nid_0027f1083             0.5                             0.5   \n\n              acetylcholine_receptor_antagonist  \\\nsig_id                                            \nid_0004d9e33                                0.5   \nid_001897cda                                0.5   \nid_002429b5b                                0.5   \nid_00276f245                                0.5   \nid_0027f1083                                0.5   \n\n              acetylcholinesterase_inhibitor  adenosine_receptor_agonist  \\\nsig_id                                                                     \nid_0004d9e33                             0.5                         0.5   \nid_001897cda                             0.5                         0.5   \nid_002429b5b                             0.5                         0.5   \nid_00276f245                             0.5                         0.5   \nid_0027f1083                             0.5                         0.5   \n\n              adenosine_receptor_antagonist  adenylyl_cyclase_activator  \\\nsig_id                                                                    \nid_0004d9e33                            0.5                         0.5   \nid_001897cda                            0.5                         0.5   \nid_002429b5b                            0.5                         0.5   \nid_00276f245                            0.5                         0.5   \nid_0027f1083                            0.5                         0.5   \n\n              adrenergic_receptor_agonist  ...  \\\nsig_id                                     ...   \nid_0004d9e33                          0.5  ...   \nid_001897cda                          0.5  ...   \nid_002429b5b                          0.5  ...   \nid_00276f245                          0.5  ...   \nid_0027f1083                          0.5  ...   \n\n              tropomyosin_receptor_kinase_inhibitor  trpv_agonist  \\\nsig_id                                                              \nid_0004d9e33                                    0.5           0.5   \nid_001897cda                                    0.5           0.5   \nid_002429b5b                                    0.5           0.5   \nid_00276f245                                    0.5           0.5   \nid_0027f1083                                    0.5           0.5   \n\n              trpv_antagonist  tubulin_inhibitor  tyrosine_kinase_inhibitor  \\\nsig_id                                                                        \nid_0004d9e33              0.5                0.5                        0.5   \nid_001897cda              0.5                0.5                        0.5   \nid_002429b5b              0.5                0.5                        0.5   \nid_00276f245              0.5                0.5                        0.5   \nid_0027f1083              0.5                0.5                        0.5   \n\n              ubiquitin_specific_protease_inhibitor  vegfr_inhibitor  \\\nsig_id                                                                 \nid_0004d9e33                                    0.5              0.5   \nid_001897cda                                    0.5              0.5   \nid_002429b5b                                    0.5              0.5   \nid_00276f245                                    0.5              0.5   \nid_0027f1083                                    0.5              0.5   \n\n              vitamin_b  vitamin_d_receptor_agonist  wnt_inhibitor  \nsig_id                                                              \nid_0004d9e33        0.5                         0.5            0.5  \nid_001897cda        0.5                         0.5            0.5  \nid_002429b5b        0.5                         0.5            0.5  \nid_00276f245        0.5                         0.5            0.5  \nid_0027f1083        0.5                         0.5            0.5  \n\n[5 rows x 206 columns]",
      "text/html": "<div>\n<style scoped>\n    .dataframe tbody tr th:only-of-type {\n        vertical-align: middle;\n    }\n\n    .dataframe tbody tr th {\n        vertical-align: top;\n    }\n\n    .dataframe thead th {\n        text-align: right;\n    }\n</style>\n<table border=\"1\" class=\"dataframe\">\n  <thead>\n    <tr style=\"text-align: right;\">\n      <th></th>\n      <th>5-alpha_reductase_inhibitor</th>\n      <th>11-beta-hsd1_inhibitor</th>\n      <th>acat_inhibitor</th>\n      <th>acetylcholine_receptor_agonist</th>\n      <th>acetylcholine_receptor_antagonist</th>\n      <th>acetylcholinesterase_inhibitor</th>\n      <th>adenosine_receptor_agonist</th>\n      <th>adenosine_receptor_antagonist</th>\n      <th>adenylyl_cyclase_activator</th>\n      <th>adrenergic_receptor_agonist</th>\n      <th>...</th>\n      <th>tropomyosin_receptor_kinase_inhibitor</th>\n      <th>trpv_agonist</th>\n      <th>trpv_antagonist</th>\n      <th>tubulin_inhibitor</th>\n      <th>tyrosine_kinase_inhibitor</th>\n      <th>ubiquitin_specific_protease_inhibitor</th>\n      <th>vegfr_inhibitor</th>\n      <th>vitamin_b</th>\n      <th>vitamin_d_receptor_agonist</th>\n      <th>wnt_inhibitor</th>\n    </tr>\n    <tr>\n      <th>sig_id</th>\n      <th></th>\n      <th></th>\n      <th></th>\n      <th></th>\n      <th></th>\n      <th></th>\n      <th></th>\n      <th></th>\n      <th></th>\n      <th></th>\n      <th></th>\n      <th></th>\n      <th></th>\n      <th></th>\n      <th></th>\n      <th></th>\n      <th></th>\n      <th></th>\n      <th></th>\n      <th></th>\n      <th></th>\n    </tr>\n  </thead>\n  <tbody>\n    <tr>\n      <th>id_0004d9e33</th>\n      <td>0.5</td>\n      <td>0.5</td>\n      <td>0.5</td>\n      <td>0.5</td>\n      <td>0.5</td>\n      <td>0.5</td>\n      <td>0.5</td>\n      <td>0.5</td>\n      <td>0.5</td>\n      <td>0.5</td>\n      <td>...</td>\n      <td>0.5</td>\n      <td>0.5</td>\n      <td>0.5</td>\n      <td>0.5</td>\n      <td>0.5</td>\n      <td>0.5</td>\n      <td>0.5</td>\n      <td>0.5</td>\n      <td>0.5</td>\n      <td>0.5</td>\n    </tr>\n    <tr>\n      <th>id_001897cda</th>\n      <td>0.5</td>\n      <td>0.5</td>\n      <td>0.5</td>\n      <td>0.5</td>\n      <td>0.5</td>\n      <td>0.5</td>\n      <td>0.5</td>\n      <td>0.5</td>\n      <td>0.5</td>\n      <td>0.5</td>\n      <td>...</td>\n      <td>0.5</td>\n      <td>0.5</td>\n      <td>0.5</td>\n      <td>0.5</td>\n      <td>0.5</td>\n      <td>0.5</td>\n      <td>0.5</td>\n      <td>0.5</td>\n      <td>0.5</td>\n      <td>0.5</td>\n    </tr>\n    <tr>\n      <th>id_002429b5b</th>\n      <td>0.5</td>\n      <td>0.5</td>\n      <td>0.5</td>\n      <td>0.5</td>\n      <td>0.5</td>\n      <td>0.5</td>\n      <td>0.5</td>\n      <td>0.5</td>\n      <td>0.5</td>\n      <td>0.5</td>\n      <td>...</td>\n      <td>0.5</td>\n      <td>0.5</td>\n      <td>0.5</td>\n      <td>0.5</td>\n      <td>0.5</td>\n      <td>0.5</td>\n      <td>0.5</td>\n      <td>0.5</td>\n      <td>0.5</td>\n      <td>0.5</td>\n    </tr>\n    <tr>\n      <th>id_00276f245</th>\n      <td>0.5</td>\n      <td>0.5</td>\n      <td>0.5</td>\n      <td>0.5</td>\n      <td>0.5</td>\n      <td>0.5</td>\n      <td>0.5</td>\n      <td>0.5</td>\n      <td>0.5</td>\n      <td>0.5</td>\n      <td>...</td>\n      <td>0.5</td>\n      <td>0.5</td>\n      <td>0.5</td>\n      <td>0.5</td>\n      <td>0.5</td>\n      <td>0.5</td>\n      <td>0.5</td>\n      <td>0.5</td>\n      <td>0.5</td>\n      <td>0.5</td>\n    </tr>\n    <tr>\n      <th>id_0027f1083</th>\n      <td>0.5</td>\n      <td>0.5</td>\n      <td>0.5</td>\n      <td>0.5</td>\n      <td>0.5</td>\n      <td>0.5</td>\n      <td>0.5</td>\n      <td>0.5</td>\n      <td>0.5</td>\n      <td>0.5</td>\n      <td>...</td>\n      <td>0.5</td>\n      <td>0.5</td>\n      <td>0.5</td>\n      <td>0.5</td>\n      <td>0.5</td>\n      <td>0.5</td>\n      <td>0.5</td>\n      <td>0.5</td>\n      <td>0.5</td>\n      <td>0.5</td>\n    </tr>\n  </tbody>\n</table>\n<p>5 rows × 206 columns</p>\n</div>"
     },
     "metadata": {},
     "output_type": "display_data"
    }
   ],
   "source": [
    "# Load Data\n",
    "\n",
    "x_train = pd.read_csv('data/train_features.csv', index_col=0)\n",
    "x_test = pd.read_csv('data/test_features.csv', index_col=0)\n",
    "y_train = pd.read_csv('data/train_targets_scored.csv', index_col=0)\n",
    "submission = pd.read_csv('data/sample_submission.csv', index_col=0)\n",
    "\n",
    "display(x_train.head())\n",
    "display(x_test.head())\n",
    "display(y_train.head())\n",
    "display(submission.head())"
   ],
   "metadata": {
    "collapsed": false,
    "pycharm": {
     "name": "#%%\n"
    }
   }
  },
  {
   "cell_type": "code",
   "execution_count": 4,
   "outputs": [
    {
     "data": {
      "text/plain": "              cp_type  cp_time  cp_dose     g-0     g-1     g-2     g-3  \\\nsig_id                                                                    \nid_000644bb2        0        1        0  1.0620  0.5577 -0.2479 -0.6208   \nid_000779bfc        0        3        0  0.0743  0.4087  0.2991  0.0604   \nid_000a6266a        0        2        0  0.6280  0.5817  1.5540 -0.0764   \nid_0015fd391        0        2        0 -0.5138 -0.2491 -0.2656  0.5288   \nid_001626bd3        0        3        1 -0.3254 -0.4009  0.9700  0.6919   \n\n                 g-4     g-5     g-6  ...    c-90    c-91    c-92    c-93  \\\nsig_id                                ...                                   \nid_000644bb2 -0.1944 -1.0120 -1.0220  ...  0.2862  0.2584  0.8076  0.5523   \nid_000779bfc  1.0190  0.5207  0.2341  ... -0.4265  0.7543  0.4708  0.0230   \nid_000a6266a -0.0323  1.2390  0.1715  ... -0.7250 -0.6297  0.6103  0.0223   \nid_0015fd391  4.0620 -0.8095 -1.9590  ... -2.0990 -0.6441 -5.6300 -1.3780   \nid_001626bd3  1.4180 -0.8244 -0.2800  ...  0.0042  0.0048  0.6670  1.0690   \n\n                c-94    c-95    c-96    c-97    c-98    c-99  \nsig_id                                                        \nid_000644bb2 -0.1912  0.6584 -0.3981  0.2139  0.3801  0.4176  \nid_000779bfc  0.2957  0.4899  0.1522  0.1241  0.6077  0.7371  \nid_000a6266a -1.3240 -0.3174 -0.6417 -0.2187 -1.4080  0.6931  \nid_0015fd391 -0.8632 -1.2880 -1.6210 -0.8784 -0.3876 -0.8154  \nid_001626bd3  0.5523 -0.3031  0.1094  0.2885 -0.3786  0.7125  \n\n[5 rows x 875 columns]",
      "text/html": "<div>\n<style scoped>\n    .dataframe tbody tr th:only-of-type {\n        vertical-align: middle;\n    }\n\n    .dataframe tbody tr th {\n        vertical-align: top;\n    }\n\n    .dataframe thead th {\n        text-align: right;\n    }\n</style>\n<table border=\"1\" class=\"dataframe\">\n  <thead>\n    <tr style=\"text-align: right;\">\n      <th></th>\n      <th>cp_type</th>\n      <th>cp_time</th>\n      <th>cp_dose</th>\n      <th>g-0</th>\n      <th>g-1</th>\n      <th>g-2</th>\n      <th>g-3</th>\n      <th>g-4</th>\n      <th>g-5</th>\n      <th>g-6</th>\n      <th>...</th>\n      <th>c-90</th>\n      <th>c-91</th>\n      <th>c-92</th>\n      <th>c-93</th>\n      <th>c-94</th>\n      <th>c-95</th>\n      <th>c-96</th>\n      <th>c-97</th>\n      <th>c-98</th>\n      <th>c-99</th>\n    </tr>\n    <tr>\n      <th>sig_id</th>\n      <th></th>\n      <th></th>\n      <th></th>\n      <th></th>\n      <th></th>\n      <th></th>\n      <th></th>\n      <th></th>\n      <th></th>\n      <th></th>\n      <th></th>\n      <th></th>\n      <th></th>\n      <th></th>\n      <th></th>\n      <th></th>\n      <th></th>\n      <th></th>\n      <th></th>\n      <th></th>\n      <th></th>\n    </tr>\n  </thead>\n  <tbody>\n    <tr>\n      <th>id_000644bb2</th>\n      <td>0</td>\n      <td>1</td>\n      <td>0</td>\n      <td>1.0620</td>\n      <td>0.5577</td>\n      <td>-0.2479</td>\n      <td>-0.6208</td>\n      <td>-0.1944</td>\n      <td>-1.0120</td>\n      <td>-1.0220</td>\n      <td>...</td>\n      <td>0.2862</td>\n      <td>0.2584</td>\n      <td>0.8076</td>\n      <td>0.5523</td>\n      <td>-0.1912</td>\n      <td>0.6584</td>\n      <td>-0.3981</td>\n      <td>0.2139</td>\n      <td>0.3801</td>\n      <td>0.4176</td>\n    </tr>\n    <tr>\n      <th>id_000779bfc</th>\n      <td>0</td>\n      <td>3</td>\n      <td>0</td>\n      <td>0.0743</td>\n      <td>0.4087</td>\n      <td>0.2991</td>\n      <td>0.0604</td>\n      <td>1.0190</td>\n      <td>0.5207</td>\n      <td>0.2341</td>\n      <td>...</td>\n      <td>-0.4265</td>\n      <td>0.7543</td>\n      <td>0.4708</td>\n      <td>0.0230</td>\n      <td>0.2957</td>\n      <td>0.4899</td>\n      <td>0.1522</td>\n      <td>0.1241</td>\n      <td>0.6077</td>\n      <td>0.7371</td>\n    </tr>\n    <tr>\n      <th>id_000a6266a</th>\n      <td>0</td>\n      <td>2</td>\n      <td>0</td>\n      <td>0.6280</td>\n      <td>0.5817</td>\n      <td>1.5540</td>\n      <td>-0.0764</td>\n      <td>-0.0323</td>\n      <td>1.2390</td>\n      <td>0.1715</td>\n      <td>...</td>\n      <td>-0.7250</td>\n      <td>-0.6297</td>\n      <td>0.6103</td>\n      <td>0.0223</td>\n      <td>-1.3240</td>\n      <td>-0.3174</td>\n      <td>-0.6417</td>\n      <td>-0.2187</td>\n      <td>-1.4080</td>\n      <td>0.6931</td>\n    </tr>\n    <tr>\n      <th>id_0015fd391</th>\n      <td>0</td>\n      <td>2</td>\n      <td>0</td>\n      <td>-0.5138</td>\n      <td>-0.2491</td>\n      <td>-0.2656</td>\n      <td>0.5288</td>\n      <td>4.0620</td>\n      <td>-0.8095</td>\n      <td>-1.9590</td>\n      <td>...</td>\n      <td>-2.0990</td>\n      <td>-0.6441</td>\n      <td>-5.6300</td>\n      <td>-1.3780</td>\n      <td>-0.8632</td>\n      <td>-1.2880</td>\n      <td>-1.6210</td>\n      <td>-0.8784</td>\n      <td>-0.3876</td>\n      <td>-0.8154</td>\n    </tr>\n    <tr>\n      <th>id_001626bd3</th>\n      <td>0</td>\n      <td>3</td>\n      <td>1</td>\n      <td>-0.3254</td>\n      <td>-0.4009</td>\n      <td>0.9700</td>\n      <td>0.6919</td>\n      <td>1.4180</td>\n      <td>-0.8244</td>\n      <td>-0.2800</td>\n      <td>...</td>\n      <td>0.0042</td>\n      <td>0.0048</td>\n      <td>0.6670</td>\n      <td>1.0690</td>\n      <td>0.5523</td>\n      <td>-0.3031</td>\n      <td>0.1094</td>\n      <td>0.2885</td>\n      <td>-0.3786</td>\n      <td>0.7125</td>\n    </tr>\n  </tbody>\n</table>\n<p>5 rows × 875 columns</p>\n</div>"
     },
     "metadata": {},
     "output_type": "display_data"
    },
    {
     "data": {
      "text/plain": "              cp_type  cp_time  cp_dose     g-0     g-1     g-2     g-3  \\\nsig_id                                                                    \nid_0004d9e33        0        1        0 -0.5458  0.1306 -0.5135  0.4408   \nid_001897cda        0        3        0 -0.1829  0.2320  1.2080 -0.4522   \nid_002429b5b        1        1        0  0.1852 -0.1404 -0.3911  0.1310   \nid_00276f245        0        1        1  0.4828  0.1955  0.3825  0.4244   \nid_0027f1083        0        2        0 -0.3979 -1.2680  1.9130  0.2057   \n\n                 g-4     g-5     g-6  ...    c-90    c-91    c-92    c-93  \\\nsig_id                                ...                                   \nid_0004d9e33  1.5500 -0.1644 -0.2140  ...  0.0981  0.7978 -0.1430 -0.2067   \nid_001897cda -0.3652 -0.3319 -1.8820  ... -0.1190 -0.1852 -1.0310 -1.3670   \nid_002429b5b -1.4380  0.2455 -0.3390  ... -0.2261  0.3370 -1.3840  0.8604   \nid_00276f245 -0.5855 -1.2020  0.5998  ...  0.1260  0.1570 -0.1784 -1.1200   \nid_0027f1083 -0.5864 -0.0166  0.5128  ...  0.4965  0.7578 -0.1580  1.0510   \n\n                c-94    c-95    c-96    c-97    c-98    c-99  \nsig_id                                                        \nid_0004d9e33 -0.2303 -0.1193  0.0210 -0.0502  0.1510 -0.7750  \nid_001897cda -0.3690 -0.5382  0.0359 -0.4764 -1.3810 -0.7300  \nid_002429b5b -1.9530 -1.0140  0.8662  1.0160  0.4924 -0.1942  \nid_00276f245 -0.4325 -0.9005  0.8131 -0.1305  0.5645 -0.5809  \nid_0027f1083  0.5742  1.0900 -0.2962 -0.5313  0.9931  1.8380  \n\n[5 rows x 875 columns]",
      "text/html": "<div>\n<style scoped>\n    .dataframe tbody tr th:only-of-type {\n        vertical-align: middle;\n    }\n\n    .dataframe tbody tr th {\n        vertical-align: top;\n    }\n\n    .dataframe thead th {\n        text-align: right;\n    }\n</style>\n<table border=\"1\" class=\"dataframe\">\n  <thead>\n    <tr style=\"text-align: right;\">\n      <th></th>\n      <th>cp_type</th>\n      <th>cp_time</th>\n      <th>cp_dose</th>\n      <th>g-0</th>\n      <th>g-1</th>\n      <th>g-2</th>\n      <th>g-3</th>\n      <th>g-4</th>\n      <th>g-5</th>\n      <th>g-6</th>\n      <th>...</th>\n      <th>c-90</th>\n      <th>c-91</th>\n      <th>c-92</th>\n      <th>c-93</th>\n      <th>c-94</th>\n      <th>c-95</th>\n      <th>c-96</th>\n      <th>c-97</th>\n      <th>c-98</th>\n      <th>c-99</th>\n    </tr>\n    <tr>\n      <th>sig_id</th>\n      <th></th>\n      <th></th>\n      <th></th>\n      <th></th>\n      <th></th>\n      <th></th>\n      <th></th>\n      <th></th>\n      <th></th>\n      <th></th>\n      <th></th>\n      <th></th>\n      <th></th>\n      <th></th>\n      <th></th>\n      <th></th>\n      <th></th>\n      <th></th>\n      <th></th>\n      <th></th>\n      <th></th>\n    </tr>\n  </thead>\n  <tbody>\n    <tr>\n      <th>id_0004d9e33</th>\n      <td>0</td>\n      <td>1</td>\n      <td>0</td>\n      <td>-0.5458</td>\n      <td>0.1306</td>\n      <td>-0.5135</td>\n      <td>0.4408</td>\n      <td>1.5500</td>\n      <td>-0.1644</td>\n      <td>-0.2140</td>\n      <td>...</td>\n      <td>0.0981</td>\n      <td>0.7978</td>\n      <td>-0.1430</td>\n      <td>-0.2067</td>\n      <td>-0.2303</td>\n      <td>-0.1193</td>\n      <td>0.0210</td>\n      <td>-0.0502</td>\n      <td>0.1510</td>\n      <td>-0.7750</td>\n    </tr>\n    <tr>\n      <th>id_001897cda</th>\n      <td>0</td>\n      <td>3</td>\n      <td>0</td>\n      <td>-0.1829</td>\n      <td>0.2320</td>\n      <td>1.2080</td>\n      <td>-0.4522</td>\n      <td>-0.3652</td>\n      <td>-0.3319</td>\n      <td>-1.8820</td>\n      <td>...</td>\n      <td>-0.1190</td>\n      <td>-0.1852</td>\n      <td>-1.0310</td>\n      <td>-1.3670</td>\n      <td>-0.3690</td>\n      <td>-0.5382</td>\n      <td>0.0359</td>\n      <td>-0.4764</td>\n      <td>-1.3810</td>\n      <td>-0.7300</td>\n    </tr>\n    <tr>\n      <th>id_002429b5b</th>\n      <td>1</td>\n      <td>1</td>\n      <td>0</td>\n      <td>0.1852</td>\n      <td>-0.1404</td>\n      <td>-0.3911</td>\n      <td>0.1310</td>\n      <td>-1.4380</td>\n      <td>0.2455</td>\n      <td>-0.3390</td>\n      <td>...</td>\n      <td>-0.2261</td>\n      <td>0.3370</td>\n      <td>-1.3840</td>\n      <td>0.8604</td>\n      <td>-1.9530</td>\n      <td>-1.0140</td>\n      <td>0.8662</td>\n      <td>1.0160</td>\n      <td>0.4924</td>\n      <td>-0.1942</td>\n    </tr>\n    <tr>\n      <th>id_00276f245</th>\n      <td>0</td>\n      <td>1</td>\n      <td>1</td>\n      <td>0.4828</td>\n      <td>0.1955</td>\n      <td>0.3825</td>\n      <td>0.4244</td>\n      <td>-0.5855</td>\n      <td>-1.2020</td>\n      <td>0.5998</td>\n      <td>...</td>\n      <td>0.1260</td>\n      <td>0.1570</td>\n      <td>-0.1784</td>\n      <td>-1.1200</td>\n      <td>-0.4325</td>\n      <td>-0.9005</td>\n      <td>0.8131</td>\n      <td>-0.1305</td>\n      <td>0.5645</td>\n      <td>-0.5809</td>\n    </tr>\n    <tr>\n      <th>id_0027f1083</th>\n      <td>0</td>\n      <td>2</td>\n      <td>0</td>\n      <td>-0.3979</td>\n      <td>-1.2680</td>\n      <td>1.9130</td>\n      <td>0.2057</td>\n      <td>-0.5864</td>\n      <td>-0.0166</td>\n      <td>0.5128</td>\n      <td>...</td>\n      <td>0.4965</td>\n      <td>0.7578</td>\n      <td>-0.1580</td>\n      <td>1.0510</td>\n      <td>0.5742</td>\n      <td>1.0900</td>\n      <td>-0.2962</td>\n      <td>-0.5313</td>\n      <td>0.9931</td>\n      <td>1.8380</td>\n    </tr>\n  </tbody>\n</table>\n<p>5 rows × 875 columns</p>\n</div>"
     },
     "metadata": {},
     "output_type": "display_data"
    }
   ],
   "source": [
    "# Preprocess Data\n",
    "\n",
    "def preprocess(df):\n",
    "    df['cp_type'] = df['cp_type'].map({'trt_cp': 0, 'ctl_vehicle': 1})\n",
    "    df['cp_time'] = df['cp_time'].map({24: 1, 48: 2, 72: 3})\n",
    "    df['cp_dose'] = df['cp_dose'].map({'D1': 0, 'D2': 1})\n",
    "    return df\n",
    "\n",
    "x_train = preprocess(x_train)\n",
    "x_test = preprocess(x_test)\n",
    "\n",
    "display(x_train.head())\n",
    "display(x_test.head())"
   ],
   "metadata": {
    "collapsed": false,
    "pycharm": {
     "name": "#%%\n"
    }
   }
  },
  {
   "cell_type": "code",
   "execution_count": 5,
   "outputs": [],
   "source": [
    "# Define the scorer function\n",
    "\n",
    "from sklearn.metrics import roc_auc_score, log_loss, f1_score\n",
    "\n",
    "def scorer(y_true, y_pred):\n",
    "    log_loss_, auc, f1 = 0,0,0\n",
    "\n",
    "    # Add a dummy prediction to y_true and y_pred in case some label has all 0's\n",
    "    y_true = np.vstack((y_true, np.ones((1, y_true.shape[1]))))\n",
    "    y_pred = np.vstack((y_pred, np.ones((1, y_pred.shape[1]))))\n",
    "\n",
    "    v = y_true.shape[1]\n",
    "    for i in range(v):\n",
    "        log_loss_ += log_loss(y_true[:, i], y_pred[:, i])\n",
    "        auc += roc_auc_score(y_true[:, i], y_pred[:, i])\n",
    "        f1 += f1_score(y_true[:, i], y_pred[:, i] > 0.5)\n",
    "    return log_loss_ / v, auc / v, f1 / v"
   ],
   "metadata": {
    "collapsed": false,
    "pycharm": {
     "name": "#%%\n"
    }
   }
  },
  {
   "cell_type": "code",
   "execution_count": 6,
   "outputs": [],
   "source": [
    "# Define the method to evaluate a model\n",
    "\n",
    "from skmultilearn.model_selection import IterativeStratification\n",
    "\n",
    "import pickle\n",
    "from time import time\n",
    "from pathlib import Path\n",
    "from os import path\n",
    "\n",
    "def eval_model(model, _x_train, _y_train, n_splits=3, id_=None):\n",
    "    start_time = time()\n",
    "    logging.info('*' * 20)\n",
    "    logging.info(\"Evaluating model {}\".format(id_ if id_ else model))\n",
    "\n",
    "    output = None\n",
    "\n",
    "    # Try to load saved result from disk if exists\n",
    "    if id_:\n",
    "        output = Path('output') / id_\n",
    "        output.mkdir(parents=True, exist_ok=True)\n",
    "        if path.exists(output / 'score.pkl'):\n",
    "            logging.debug(\"Loading result from disk\")\n",
    "            log_loss_, auc, f1 = pickle.load(open(output / 'score.pkl', 'rb'))\n",
    "            logging.info(\"The Average Log Loss is {}\".format(log_loss_))\n",
    "            logging.info(\"The Average AUC is {}\".format(auc))\n",
    "            logging.info(\"The Average f1 is {}\".format(f1))\n",
    "            return log_loss_, auc, f1\n",
    "\n",
    "    # Convert data into numpy\n",
    "    _x_train = np.array(_x_train)\n",
    "    _y_train = np.array(_y_train)\n",
    "\n",
    "    # Deprecated sklearn k-forld\n",
    "    # kf = StratifiedKFold(n_splits=n_splits)\n",
    "    # kf.get_n_splits(X_train)\n",
    "\n",
    "    # Use Iterative stratification for multi-label data to handle imbalance\n",
    "    kf = IterativeStratification(n_splits=n_splits, order=1)\n",
    "\n",
    "    log_loss_, auc, f1 = 0.0, 0.0, 0.0\n",
    "    for i, (train_index, test_index) in enumerate(kf.split(_x_train, _y_train)):\n",
    "        x_train_, x_val_ = _x_train[train_index], _x_train[test_index]\n",
    "        y_train_, y_val_ = _y_train[train_index], _y_train[test_index]\n",
    "\n",
    "        # Add dummy sample to make sure every column has 2 labels\n",
    "        x_train_ = np.vstack((x_train_, np.zeros((1, x_train_.shape[1]))))\n",
    "        y_train_ = np.vstack((y_train_, np.ones((1, y_train_.shape[1]))))\n",
    "\n",
    "        y_pred_ = model.fit(x_train_, y_train_).predict(x_val_)\n",
    "\n",
    "        log_loss_val, auc_val, f1_val = scorer(y_val_, y_pred_)\n",
    "\n",
    "        # Pickle y_val_ and y_pred_\n",
    "        if id_:\n",
    "            pickle.dump((y_val_, y_pred_), open(output / \"cv_{}.pkl\".format(i), 'wb'))\n",
    "\n",
    "        # Update the scores\n",
    "        log_loss_ += log_loss_val\n",
    "        auc += auc_val\n",
    "        f1 += f1_val\n",
    "\n",
    "    log_loss_ /= n_splits\n",
    "    auc /= n_splits\n",
    "    f1 /= n_splits\n",
    "    if id_:\n",
    "        pickle.dump((log_loss_, auc, f1), open(output / 'score.pkl', 'wb'))\n",
    "    logging.info(\"The Average Log Loss is {}\".format(log_loss_))\n",
    "    logging.info(\"The Average AUC is {}\".format(auc))\n",
    "    logging.info(\"The Average f1 is {}\".format(f1))\n",
    "    logging.debug(\"Used {:.2f}s\".format(time() - start_time))\n",
    "    return log_loss_, auc, f1"
   ],
   "metadata": {
    "collapsed": false,
    "pycharm": {
     "name": "#%%\n"
    }
   }
  },
  {
   "cell_type": "code",
   "execution_count": 7,
   "outputs": [
    {
     "name": "stderr",
     "output_type": "stream",
     "text": [
      "INFO:root:********************\n",
      "INFO:root:Evaluating model lr\n",
      "DEBUG:root:Loading result from disk\n",
      "INFO:root:The Average Log Loss is 0.03352318677655003\n",
      "INFO:root:The Average AUC is 0.7342847552317289\n",
      "INFO:root:The Average f1 is 0.21727000338508906\n"
     ]
    },
    {
     "data": {
      "text/plain": "(0.03352318677655003, 0.7342847552317289, 0.21727000338508906)"
     },
     "execution_count": 7,
     "metadata": {},
     "output_type": "execute_result"
    }
   ],
   "source": [
    "from sklearn.linear_model import LinearRegression\n",
    "\n",
    "eval_model(LinearRegression(n_jobs=n_jobs), x_train, y_train, id_='lr')"
   ],
   "metadata": {
    "collapsed": false,
    "pycharm": {
     "name": "#%%\n"
    }
   }
  },
  {
   "cell_type": "code",
   "execution_count": 7,
   "outputs": [],
   "source": [],
   "metadata": {
    "collapsed": false,
    "pycharm": {
     "name": "#%%\n"
    }
   }
  }
 ],
 "metadata": {
  "kernelspec": {
   "display_name": "Python 3",
   "language": "python",
   "name": "python3"
  },
  "language_info": {
   "codemirror_mode": {
    "name": "ipython",
    "version": 2
   },
   "file_extension": ".py",
   "mimetype": "text/x-python",
   "name": "python",
   "nbconvert_exporter": "python",
   "pygments_lexer": "ipython2",
   "version": "2.7.6"
  }
 },
 "nbformat": 4,
 "nbformat_minor": 0
}